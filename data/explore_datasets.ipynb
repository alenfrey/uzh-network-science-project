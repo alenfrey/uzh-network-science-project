{
 "cells": [
  {
   "cell_type": "markdown",
   "metadata": {},
   "source": [
    "## In this notebook we analyse the available datasets to determine which ones to use"
   ]
  },
  {
   "cell_type": "code",
   "execution_count": 1,
   "metadata": {},
   "outputs": [],
   "source": [
    "# reload imported files automatically without restarting the kernel\n",
    "%load_ext autoreload\n",
    "%autoreload 2"
   ]
  },
  {
   "cell_type": "code",
   "execution_count": 2,
   "metadata": {},
   "outputs": [],
   "source": [
    "import pandas as pd\n",
    "import matplotlib.pyplot as plt\n",
    "\n",
    "from lib import *\n",
    "from collections import namedtuple"
   ]
  },
  {
   "cell_type": "code",
   "execution_count": 4,
   "metadata": {},
   "outputs": [],
   "source": [
    "# define column names for table\n",
    "column_names = [\n",
    "    \"name\",\n",
    "    \"title\",\n",
    "    \"nodes\",\n",
    "    \"edges\",\n",
    "    \"avg_degree\",\n",
    "    \"std_dev_degree\",\n",
    "    \"largest_eigenvalue_hashimoto\",\n",
    "    \"random walk mixing time\",\n",
    "    \"degree assortativity\",\n",
    "    \"global clustering\",\n",
    "    \"pseudo_diameter\",\n",
    "    \"relative_size_of_largest_component\",\n",
    "    \"kind\",\n",
    "    \"mode\",\n",
    "    \"number_of_networks\",\n",
    "    \"tags\",\n",
    "]"
   ]
  },
  {
   "cell_type": "code",
   "execution_count": 5,
   "metadata": {},
   "outputs": [],
   "source": [
    "df = pd.read_html(\"https://networks.skewed.de/\")[0] # get a df of all datasets on Netzschleuder"
   ]
  },
  {
   "cell_type": "code",
   "execution_count": 6,
   "metadata": {},
   "outputs": [],
   "source": [
    "df.columns = column_names # set column names"
   ]
  },
  {
   "cell_type": "markdown",
   "metadata": {},
   "source": [
    "### We create filters for our categories that we compare"
   ]
  },
  {
   "cell_type": "code",
   "execution_count": 7,
   "metadata": {},
   "outputs": [],
   "source": [
    "# create dataset filters for social network datasets\n",
    "social_networks = df[\"tags\"].str.contains(\"Social\")\n",
    "unweighted = df[\"tags\"].str.contains(\"Unweighted\")\n",
    "undirected = df[\"kind\"] == \"Undirected\"\n",
    "online = df[\"tags\"].str.contains(\"Online\")\n",
    "offline = df[\"tags\"].str.contains(\"Offline\")"
   ]
  },
  {
   "cell_type": "code",
   "execution_count": 9,
   "metadata": {},
   "outputs": [],
   "source": [
    "online_social_filter = (online & social_networks & unweighted & undirected) # filter for desired online social networks\n",
    "offline_social_filter = (offline & social_networks & unweighted & undirected) # filter for desired offline social networks"
   ]
  },
  {
   "cell_type": "markdown",
   "metadata": {},
   "source": [
    "### We apply filters to filter datasets\n",
    "\n",
    "**NOTE**: These datasets contain multiple networks, we will filter them further, and from now on call these **network groups**"
   ]
  },
  {
   "cell_type": "code",
   "execution_count": 15,
   "metadata": {},
   "outputs": [
    {
     "name": "stdout",
     "output_type": "stream",
     "text": [
      "Number of online social network groups: 15\n"
     ]
    },
    {
     "data": {
      "text/html": [
       "<div>\n",
       "<style scoped>\n",
       "    .dataframe tbody tr th:only-of-type {\n",
       "        vertical-align: middle;\n",
       "    }\n",
       "\n",
       "    .dataframe tbody tr th {\n",
       "        vertical-align: top;\n",
       "    }\n",
       "\n",
       "    .dataframe thead th {\n",
       "        text-align: right;\n",
       "    }\n",
       "</style>\n",
       "<table border=\"1\" class=\"dataframe\">\n",
       "  <thead>\n",
       "    <tr style=\"text-align: right;\">\n",
       "      <th></th>\n",
       "      <th>name</th>\n",
       "      <th>title</th>\n",
       "      <th>nodes</th>\n",
       "      <th>edges</th>\n",
       "      <th>avg_degree</th>\n",
       "      <th>std_dev_degree</th>\n",
       "      <th>largest_eigenvalue_hashimoto</th>\n",
       "      <th>random walk mixing time</th>\n",
       "      <th>degree assortativity</th>\n",
       "      <th>global clustering</th>\n",
       "      <th>pseudo_diameter</th>\n",
       "      <th>relative_size_of_largest_component</th>\n",
       "      <th>kind</th>\n",
       "      <th>mode</th>\n",
       "      <th>number_of_networks</th>\n",
       "      <th>tags</th>\n",
       "    </tr>\n",
       "  </thead>\n",
       "  <tbody>\n",
       "    <tr>\n",
       "      <th>74</th>\n",
       "      <td>douban</td>\n",
       "      <td>Douban friendship network (2009)</td>\n",
       "      <td>154908</td>\n",
       "      <td>327162</td>\n",
       "      <td>4.22</td>\n",
       "      <td>11.75</td>\n",
       "      <td>39.78</td>\n",
       "      <td>103.63</td>\n",
       "      <td>-0.18</td>\n",
       "      <td>0.01</td>\n",
       "      <td>9</td>\n",
       "      <td>1.00</td>\n",
       "      <td>Undirected</td>\n",
       "      <td>Unipartite</td>\n",
       "      <td>1</td>\n",
       "      <td>Social  Online  Unweighted</td>\n",
       "    </tr>\n",
       "    <tr>\n",
       "      <th>82</th>\n",
       "      <td>ego_social</td>\n",
       "      <td>Ego networks in social media (2012)</td>\n",
       "      <td>107614</td>\n",
       "      <td>12238285</td>\n",
       "      <td>227.45</td>\n",
       "      <td>581.50</td>\n",
       "      <td>1718.72</td>\n",
       "      <td>110.57</td>\n",
       "      <td>-0.08</td>\n",
       "      <td>0.15</td>\n",
       "      <td>6</td>\n",
       "      <td>1.00</td>\n",
       "      <td>Undirected</td>\n",
       "      <td>Unipartite</td>\n",
       "      <td>143</td>\n",
       "      <td>Social  Online  Unweighted  Metadata</td>\n",
       "    </tr>\n",
       "    <tr>\n",
       "      <th>96</th>\n",
       "      <td>facebook_friends</td>\n",
       "      <td>Maier Facebook friends (2014)</td>\n",
       "      <td>362</td>\n",
       "      <td>1988</td>\n",
       "      <td>10.98</td>\n",
       "      <td>10.83</td>\n",
       "      <td>23.30</td>\n",
       "      <td>78.68</td>\n",
       "      <td>0.10</td>\n",
       "      <td>0.51</td>\n",
       "      <td>9</td>\n",
       "      <td>0.91</td>\n",
       "      <td>Undirected</td>\n",
       "      <td>Unipartite</td>\n",
       "      <td>1</td>\n",
       "      <td>Social  Online  Unweighted  Metadata</td>\n",
       "    </tr>\n",
       "  </tbody>\n",
       "</table>\n",
       "</div>"
      ],
      "text/plain": [
       "                name                                title   nodes     edges  \\\n",
       "74            douban     Douban friendship network (2009)  154908    327162   \n",
       "82        ego_social  Ego networks in social media (2012)  107614  12238285   \n",
       "96  facebook_friends        Maier Facebook friends (2014)     362      1988   \n",
       "\n",
       "    avg_degree  std_dev_degree  largest_eigenvalue_hashimoto  \\\n",
       "74        4.22           11.75                         39.78   \n",
       "82      227.45          581.50                       1718.72   \n",
       "96       10.98           10.83                         23.30   \n",
       "\n",
       "    random walk mixing time  degree assortativity  global clustering  \\\n",
       "74                   103.63                 -0.18               0.01   \n",
       "82                   110.57                 -0.08               0.15   \n",
       "96                    78.68                  0.10               0.51   \n",
       "\n",
       "    pseudo_diameter  relative_size_of_largest_component        kind  \\\n",
       "74                9                                1.00  Undirected   \n",
       "82                6                                1.00  Undirected   \n",
       "96                9                                0.91  Undirected   \n",
       "\n",
       "          mode  number_of_networks                                  tags  \n",
       "74  Unipartite                   1            Social  Online  Unweighted  \n",
       "82  Unipartite                 143  Social  Online  Unweighted  Metadata  \n",
       "96  Unipartite                   1  Social  Online  Unweighted  Metadata  "
      ]
     },
     "execution_count": 15,
     "metadata": {},
     "output_type": "execute_result"
    }
   ],
   "source": [
    "online_social = df[online_social_filter]\n",
    "# filter df for social, unweighted, online, undirected networks\n",
    "len(online_social)\n",
    "print(\"Number of online social network groups:\", len(online_social))\n",
    "online_social.head(3)"
   ]
  },
  {
   "cell_type": "code",
   "execution_count": 16,
   "metadata": {},
   "outputs": [
    {
     "name": "stdout",
     "output_type": "stream",
     "text": [
      "Number of offline social network groups: 17\n"
     ]
    },
    {
     "data": {
      "text/html": [
       "<div>\n",
       "<style scoped>\n",
       "    .dataframe tbody tr th:only-of-type {\n",
       "        vertical-align: middle;\n",
       "    }\n",
       "\n",
       "    .dataframe tbody tr th {\n",
       "        vertical-align: top;\n",
       "    }\n",
       "\n",
       "    .dataframe thead th {\n",
       "        text-align: right;\n",
       "    }\n",
       "</style>\n",
       "<table border=\"1\" class=\"dataframe\">\n",
       "  <thead>\n",
       "    <tr style=\"text-align: right;\">\n",
       "      <th></th>\n",
       "      <th>name</th>\n",
       "      <th>title</th>\n",
       "      <th>nodes</th>\n",
       "      <th>edges</th>\n",
       "      <th>avg_degree</th>\n",
       "      <th>std_dev_degree</th>\n",
       "      <th>largest_eigenvalue_hashimoto</th>\n",
       "      <th>random walk mixing time</th>\n",
       "      <th>degree assortativity</th>\n",
       "      <th>global clustering</th>\n",
       "      <th>pseudo_diameter</th>\n",
       "      <th>relative_size_of_largest_component</th>\n",
       "      <th>kind</th>\n",
       "      <th>mode</th>\n",
       "      <th>number_of_networks</th>\n",
       "      <th>tags</th>\n",
       "    </tr>\n",
       "  </thead>\n",
       "  <tbody>\n",
       "    <tr>\n",
       "      <th>74</th>\n",
       "      <td>douban</td>\n",
       "      <td>Douban friendship network (2009)</td>\n",
       "      <td>154908</td>\n",
       "      <td>327162</td>\n",
       "      <td>4.22</td>\n",
       "      <td>11.75</td>\n",
       "      <td>39.78</td>\n",
       "      <td>103.63</td>\n",
       "      <td>-0.18</td>\n",
       "      <td>0.01</td>\n",
       "      <td>9</td>\n",
       "      <td>1.00</td>\n",
       "      <td>Undirected</td>\n",
       "      <td>Unipartite</td>\n",
       "      <td>1</td>\n",
       "      <td>Social  Online  Unweighted</td>\n",
       "    </tr>\n",
       "    <tr>\n",
       "      <th>82</th>\n",
       "      <td>ego_social</td>\n",
       "      <td>Ego networks in social media (2012)</td>\n",
       "      <td>107614</td>\n",
       "      <td>12238285</td>\n",
       "      <td>227.45</td>\n",
       "      <td>581.50</td>\n",
       "      <td>1718.72</td>\n",
       "      <td>110.57</td>\n",
       "      <td>-0.08</td>\n",
       "      <td>0.15</td>\n",
       "      <td>6</td>\n",
       "      <td>1.00</td>\n",
       "      <td>Undirected</td>\n",
       "      <td>Unipartite</td>\n",
       "      <td>143</td>\n",
       "      <td>Social  Online  Unweighted  Metadata</td>\n",
       "    </tr>\n",
       "    <tr>\n",
       "      <th>96</th>\n",
       "      <td>facebook_friends</td>\n",
       "      <td>Maier Facebook friends (2014)</td>\n",
       "      <td>362</td>\n",
       "      <td>1988</td>\n",
       "      <td>10.98</td>\n",
       "      <td>10.83</td>\n",
       "      <td>23.30</td>\n",
       "      <td>78.68</td>\n",
       "      <td>0.10</td>\n",
       "      <td>0.51</td>\n",
       "      <td>9</td>\n",
       "      <td>0.91</td>\n",
       "      <td>Undirected</td>\n",
       "      <td>Unipartite</td>\n",
       "      <td>1</td>\n",
       "      <td>Social  Online  Unweighted  Metadata</td>\n",
       "    </tr>\n",
       "  </tbody>\n",
       "</table>\n",
       "</div>"
      ],
      "text/plain": [
       "                name                                title   nodes     edges  \\\n",
       "74            douban     Douban friendship network (2009)  154908    327162   \n",
       "82        ego_social  Ego networks in social media (2012)  107614  12238285   \n",
       "96  facebook_friends        Maier Facebook friends (2014)     362      1988   \n",
       "\n",
       "    avg_degree  std_dev_degree  largest_eigenvalue_hashimoto  \\\n",
       "74        4.22           11.75                         39.78   \n",
       "82      227.45          581.50                       1718.72   \n",
       "96       10.98           10.83                         23.30   \n",
       "\n",
       "    random walk mixing time  degree assortativity  global clustering  \\\n",
       "74                   103.63                 -0.18               0.01   \n",
       "82                   110.57                 -0.08               0.15   \n",
       "96                    78.68                  0.10               0.51   \n",
       "\n",
       "    pseudo_diameter  relative_size_of_largest_component        kind  \\\n",
       "74                9                                1.00  Undirected   \n",
       "82                6                                1.00  Undirected   \n",
       "96                9                                0.91  Undirected   \n",
       "\n",
       "          mode  number_of_networks                                  tags  \n",
       "74  Unipartite                   1            Social  Online  Unweighted  \n",
       "82  Unipartite                 143  Social  Online  Unweighted  Metadata  \n",
       "96  Unipartite                   1  Social  Online  Unweighted  Metadata  "
      ]
     },
     "execution_count": 16,
     "metadata": {},
     "output_type": "execute_result"
    }
   ],
   "source": [
    "# filter df for social, unweighted, online, undirected networks\n",
    "offline_social = df[social_networks & offline & unweighted & undirected]\n",
    "print(\"Number of offline social network groups:\", len(offline_social))\n",
    "online_social.head(3)"
   ]
  },
  {
   "cell_type": "code",
   "execution_count": 17,
   "metadata": {},
   "outputs": [
    {
     "data": {
      "text/html": [
       "<style type=\"text/css\">\n",
       "</style>\n",
       "<table id=\"T_4b396\">\n",
       "  <caption>Online Social Network Groups</caption>\n",
       "  <thead>\n",
       "    <tr>\n",
       "      <th class=\"blank level0\" >&nbsp;</th>\n",
       "      <th id=\"T_4b396_level0_col0\" class=\"col_heading level0 col0\" >nodes</th>\n",
       "      <th id=\"T_4b396_level0_col1\" class=\"col_heading level0 col1\" >edges</th>\n",
       "    </tr>\n",
       "  </thead>\n",
       "  <tbody>\n",
       "    <tr>\n",
       "      <th id=\"T_4b396_level0_row0\" class=\"row_heading level0 row0\" >mean</th>\n",
       "      <td id=\"T_4b396_row0_col0\" class=\"data row0 col0\" >5082770</td>\n",
       "      <td id=\"T_4b396_row0_col1\" class=\"data row0 col1\" >126652876</td>\n",
       "    </tr>\n",
       "    <tr>\n",
       "      <th id=\"T_4b396_level0_row1\" class=\"row_heading level0 row1\" >median</th>\n",
       "      <td id=\"T_4b396_row1_col0\" class=\"data row1 col0\" >154908</td>\n",
       "      <td id=\"T_4b396_row1_col1\" class=\"data row1 col1\" >2777419</td>\n",
       "    </tr>\n",
       "    <tr>\n",
       "      <th id=\"T_4b396_level0_row2\" class=\"row_heading level0 row2\" >std</th>\n",
       "      <td id=\"T_4b396_row2_col0\" class=\"data row2 col0\" >16781456</td>\n",
       "      <td id=\"T_4b396_row2_col1\" class=\"data row2 col1\" >464657993</td>\n",
       "    </tr>\n",
       "  </tbody>\n",
       "</table>\n"
      ],
      "text/plain": [
       "<pandas.io.formats.style.Styler at 0x7f9ea338bf10>"
      ]
     },
     "execution_count": 17,
     "metadata": {},
     "output_type": "execute_result"
    }
   ],
   "source": [
    "online_social.agg({\"nodes\": [\"mean\", \"median\", \"std\"], \"edges\": [\"mean\", \"median\", \"std\"]}).style.format(\"{:.0f}\").set_caption(\"Online Social Network Groups\")"
   ]
  },
  {
   "cell_type": "code",
   "execution_count": 18,
   "metadata": {},
   "outputs": [
    {
     "data": {
      "text/html": [
       "<style type=\"text/css\">\n",
       "</style>\n",
       "<table id=\"T_bd731\">\n",
       "  <caption>Offline Social Network Groups</caption>\n",
       "  <thead>\n",
       "    <tr>\n",
       "      <th class=\"blank level0\" >&nbsp;</th>\n",
       "      <th id=\"T_bd731_level0_col0\" class=\"col_heading level0 col0\" >nodes</th>\n",
       "      <th id=\"T_bd731_level0_col1\" class=\"col_heading level0 col1\" >edges</th>\n",
       "    </tr>\n",
       "  </thead>\n",
       "  <tbody>\n",
       "    <tr>\n",
       "      <th id=\"T_bd731_level0_row0\" class=\"row_heading level0 row0\" >mean</th>\n",
       "      <td id=\"T_bd731_row0_col0\" class=\"data row0 col0\" >905</td>\n",
       "      <td id=\"T_bd731_row0_col1\" class=\"data row0 col1\" >192800</td>\n",
       "    </tr>\n",
       "    <tr>\n",
       "      <th id=\"T_bd731_level0_row1\" class=\"row_heading level0 row1\" >median</th>\n",
       "      <td id=\"T_bd731_row1_col0\" class=\"data row1 col0\" >180</td>\n",
       "      <td id=\"T_bd731_row1_col1\" class=\"data row1 col1\" >20818</td>\n",
       "    </tr>\n",
       "    <tr>\n",
       "      <th id=\"T_bd731_level0_row2\" class=\"row_heading level0 row2\" >std</th>\n",
       "      <td id=\"T_bd731_row2_col0\" class=\"data row2 col0\" >2617</td>\n",
       "      <td id=\"T_bd731_row2_col1\" class=\"data row2 col1\" >416200</td>\n",
       "    </tr>\n",
       "  </tbody>\n",
       "</table>\n"
      ],
      "text/plain": [
       "<pandas.io.formats.style.Styler at 0x7f9ea286a4c0>"
      ]
     },
     "execution_count": 18,
     "metadata": {},
     "output_type": "execute_result"
    }
   ],
   "source": [
    "offline_social.agg({\"nodes\": [\"mean\", \"median\", \"std\"], \"edges\": [\"mean\", \"median\", \"std\"]}).style.format(\"{:.0f}\").set_caption(\"Offline Social Network Groups\")"
   ]
  },
  {
   "cell_type": "markdown",
   "metadata": {},
   "source": [
    "### We filter dataset groups into networks"
   ]
  },
  {
   "cell_type": "code",
   "execution_count": 19,
   "metadata": {},
   "outputs": [],
   "source": [
    "BASE_URL = \"https://networks.skewed.de/net/\""
   ]
  },
  {
   "cell_type": "code",
   "execution_count": 20,
   "metadata": {},
   "outputs": [],
   "source": [
    "NetworkProperties = namedtuple(\"NetworkProperties\", [\"group\", \"name\", \"nodes\", \"edges\"]) # create tuple to hold network properties"
   ]
  },
  {
   "cell_type": "code",
   "execution_count": 22,
   "metadata": {},
   "outputs": [
    {
     "data": {
      "text/plain": [
       "array(['douban', 'ego_social', 'facebook_friends',\n",
       "       'facebook_organizations', 'flickr_groups', 'flixster',\n",
       "       'foursquare', 'foursquare_friendships', 'foursquare_global',\n",
       "       'hyves', 'lastfm', 'livemocha', 'marker_cafe', 'petster',\n",
       "       'soc_net_comms'], dtype=object)"
      ]
     },
     "execution_count": 22,
     "metadata": {},
     "output_type": "execute_result"
    }
   ],
   "source": [
    "online_network_group_names = online_social[\"name\"].to_numpy() ; online_network_group_names"
   ]
  },
  {
   "cell_type": "code",
   "execution_count": 24,
   "metadata": {},
   "outputs": [],
   "source": [
    "result_tuples = []\n",
    "\n",
    "for network_group in online_network_group_names:\n",
    "    URL = BASE_URL + network_group\n",
    "    df = pd.read_html(URL)[0]\n",
    "    for i, row in df.iterrows():\n",
    "        curr_result = NetworkProperties(group=network_group, name=row[\"Name\"], nodes=row[\"Nodes\"], edges=row[\"Edges\"])\n",
    "        result_tuples.append(curr_result)"
   ]
  },
  {
   "cell_type": "code",
   "execution_count": 32,
   "metadata": {},
   "outputs": [
    {
     "data": {
      "text/html": [
       "<div>\n",
       "<style scoped>\n",
       "    .dataframe tbody tr th:only-of-type {\n",
       "        vertical-align: middle;\n",
       "    }\n",
       "\n",
       "    .dataframe tbody tr th {\n",
       "        vertical-align: top;\n",
       "    }\n",
       "\n",
       "    .dataframe thead th {\n",
       "        text-align: right;\n",
       "    }\n",
       "</style>\n",
       "<table border=\"1\" class=\"dataframe\">\n",
       "  <thead>\n",
       "    <tr style=\"text-align: right;\">\n",
       "      <th></th>\n",
       "      <th>group</th>\n",
       "      <th>name</th>\n",
       "      <th>nodes</th>\n",
       "      <th>edges</th>\n",
       "    </tr>\n",
       "  </thead>\n",
       "  <tbody>\n",
       "    <tr>\n",
       "      <th>0</th>\n",
       "      <td>douban</td>\n",
       "      <td>douban</td>\n",
       "      <td>154908</td>\n",
       "      <td>327162</td>\n",
       "    </tr>\n",
       "    <tr>\n",
       "      <th>1</th>\n",
       "      <td>ego_social</td>\n",
       "      <td>facebook_0</td>\n",
       "      <td>333</td>\n",
       "      <td>2519</td>\n",
       "    </tr>\n",
       "    <tr>\n",
       "      <th>2</th>\n",
       "      <td>ego_social</td>\n",
       "      <td>facebook_107</td>\n",
       "      <td>1034</td>\n",
       "      <td>26749</td>\n",
       "    </tr>\n",
       "    <tr>\n",
       "      <th>3</th>\n",
       "      <td>ego_social</td>\n",
       "      <td>facebook_348</td>\n",
       "      <td>224</td>\n",
       "      <td>3192</td>\n",
       "    </tr>\n",
       "    <tr>\n",
       "      <th>4</th>\n",
       "      <td>ego_social</td>\n",
       "      <td>facebook_414</td>\n",
       "      <td>150</td>\n",
       "      <td>1693</td>\n",
       "    </tr>\n",
       "    <tr>\n",
       "      <th>...</th>\n",
       "      <td>...</td>\n",
       "      <td>...</td>\n",
       "      <td>...</td>\n",
       "      <td>...</td>\n",
       "    </tr>\n",
       "    <tr>\n",
       "      <th>165</th>\n",
       "      <td>soc_net_comms</td>\n",
       "      <td>livejournal</td>\n",
       "      <td>3997962</td>\n",
       "      <td>34681189</td>\n",
       "    </tr>\n",
       "    <tr>\n",
       "      <th>166</th>\n",
       "      <td>soc_net_comms</td>\n",
       "      <td>orkut</td>\n",
       "      <td>3072441</td>\n",
       "      <td>117185083</td>\n",
       "    </tr>\n",
       "    <tr>\n",
       "      <th>167</th>\n",
       "      <td>soc_net_comms</td>\n",
       "      <td>youtube</td>\n",
       "      <td>1134890</td>\n",
       "      <td>2987624</td>\n",
       "    </tr>\n",
       "    <tr>\n",
       "      <th>168</th>\n",
       "      <td>soc_net_comms</td>\n",
       "      <td>dblp</td>\n",
       "      <td>317080</td>\n",
       "      <td>1049866</td>\n",
       "    </tr>\n",
       "    <tr>\n",
       "      <th>169</th>\n",
       "      <td>soc_net_comms</td>\n",
       "      <td>amazon</td>\n",
       "      <td>334863</td>\n",
       "      <td>925872</td>\n",
       "    </tr>\n",
       "  </tbody>\n",
       "</table>\n",
       "<p>170 rows × 4 columns</p>\n",
       "</div>"
      ],
      "text/plain": [
       "             group          name    nodes      edges\n",
       "0           douban        douban   154908     327162\n",
       "1       ego_social    facebook_0      333       2519\n",
       "2       ego_social  facebook_107     1034      26749\n",
       "3       ego_social  facebook_348      224       3192\n",
       "4       ego_social  facebook_414      150       1693\n",
       "..             ...           ...      ...        ...\n",
       "165  soc_net_comms   livejournal  3997962   34681189\n",
       "166  soc_net_comms         orkut  3072441  117185083\n",
       "167  soc_net_comms       youtube  1134890    2987624\n",
       "168  soc_net_comms          dblp   317080    1049866\n",
       "169  soc_net_comms        amazon   334863     925872\n",
       "\n",
       "[170 rows x 4 columns]"
      ]
     },
     "execution_count": 32,
     "metadata": {},
     "output_type": "execute_result"
    }
   ],
   "source": [
    "all_online_networks = pd.DataFrame(result_tuples)\n",
    "all_online_networks"
   ]
  },
  {
   "cell_type": "code",
   "execution_count": null,
   "metadata": {},
   "outputs": [
    {
     "name": "stdout",
     "output_type": "stream",
     "text": [
      "contact\n",
      "copenhagen\n",
      "crime\n",
      "dutch_criticism\n",
      "karate\n",
      "november17\n",
      "reality_mining\n",
      "sp_colocation\n",
      "sp_high_school\n",
      "sp_high_school_new\n",
      "sp_hospital\n",
      "sp_hypertext\n",
      "sp_infectious\n",
      "sp_kenyan_households\n",
      "student_cooperation\n",
      "terrorists_911\n",
      "ugandan_village\n"
     ]
    }
   ],
   "source": [
    "for element in offline_social[\"name\"].to_numpy():\n",
    "    print(element)"
   ]
  },
  {
   "cell_type": "markdown",
   "metadata": {},
   "source": [
    "###  We check the network size distribution of available datasets"
   ]
  },
  {
   "cell_type": "markdown",
   "metadata": {},
   "source": [
    "In this first linearly scaled plot, we can see that there is an extreme outlier present in the online\n",
    "social network datasets."
   ]
  },
  {
   "cell_type": "code",
   "execution_count": null,
   "metadata": {},
   "outputs": [
    {
     "data": {
      "text/plain": [
       "[362,\n",
       " 5793,\n",
       " 6410,\n",
       " 69413,\n",
       " 104103,\n",
       " 107614,\n",
       " 114324,\n",
       " 154908,\n",
       " 499610,\n",
       " 623766,\n",
       " 1085612,\n",
       " 1402673,\n",
       " 2523386,\n",
       " 3935215,\n",
       " 65608366]"
      ]
     },
     "execution_count": 92,
     "metadata": {},
     "output_type": "execute_result"
    }
   ],
   "source": [
    "sorted(online_social[\"nodes\"].to_numpy())"
   ]
  },
  {
   "cell_type": "code",
   "execution_count": null,
   "metadata": {},
   "outputs": [
    {
     "data": {
      "text/plain": [
       "<matplotlib.legend.Legend at 0x7f2e4c9841f0>"
      ]
     },
     "execution_count": 93,
     "metadata": {},
     "output_type": "execute_result"
    },
    {
     "data": {
      "image/png": "[encoded data removed]",
      "text/plain": [
       "<Figure size 640x480 with 1 Axes>"
      ]
     },
     "metadata": {},
     "output_type": "display_data"
    }
   ],
   "source": [
    "plot_distribution(\n",
    "    online_social[\"nodes\"].to_numpy(),\n",
    "    xlabel=\"Network Size\",\n",
    "    title=\"Online Social Network Size Distribution, n={}\".format(len(online_social)),\n",
    ")\n",
    "plt.ticklabel_format(useOffset=False)\n",
    "\n",
    "plot_vertical_line(online_social[\"nodes\"].mean(), \"arithmetic mean\")\n",
    "plt.legend()"
   ]
  },
  {
   "cell_type": "code",
   "execution_count": null,
   "metadata": {},
   "outputs": [
    {
     "data": {
      "text/plain": [
       "<matplotlib.legend.Legend at 0x7f2e4709e9d0>"
      ]
     },
     "execution_count": 94,
     "metadata": {},
     "output_type": "execute_result"
    },
    {
     "data": {
      "image/png": "[encoded data removed]",
      "text/plain": [
       "<Figure size 640x480 with 1 Axes>"
      ]
     },
     "metadata": {},
     "output_type": "display_data"
    }
   ],
   "source": [
    "plot_distribution(\n",
    "    online_social[\"nodes\"].to_numpy(),\n",
    "    xlabel=\"test\",\n",
    "    title=\"Online Social Network Size Distribution, n={} \\n log scale\".format(len(online_social)),\n",
    "    bins=logarithmic_bins(online_social[\"nodes\"].to_numpy(), 30),\n",
    "    x_scale=\"log\",\n",
    "    y_scale=\"log\",\n",
    ")\n",
    "\n",
    "plot_vertical_line(online_social[\"nodes\"].mean(), \"arithmetic mean\")\n",
    "plt.legend()"
   ]
  },
  {
   "cell_type": "markdown",
   "metadata": {},
   "source": [
    "### The available offline social networks are in generall smaller than online social networks"
   ]
  },
  {
   "cell_type": "code",
   "execution_count": null,
   "metadata": {},
   "outputs": [
    {
     "data": {
      "text/plain": [
       "[22,\n",
       " 34,\n",
       " 35,\n",
       " 47,\n",
       " 62,\n",
       " 75,\n",
       " 96,\n",
       " 113,\n",
       " 180,\n",
       " 185,\n",
       " 274,\n",
       " 329,\n",
       " 372,\n",
       " 403,\n",
       " 800,\n",
       " 1380,\n",
       " 10972]"
      ]
     },
     "execution_count": 95,
     "metadata": {},
     "output_type": "execute_result"
    }
   ],
   "source": [
    "sorted(offline_social[\"nodes\"].to_numpy())"
   ]
  },
  {
   "cell_type": "code",
   "execution_count": null,
   "metadata": {},
   "outputs": [
    {
     "data": {
      "text/plain": [
       "<matplotlib.legend.Legend at 0x7f2e46f16f10>"
      ]
     },
     "execution_count": 96,
     "metadata": {},
     "output_type": "execute_result"
    },
    {
     "data": {
      "image/png": "[encoded data removed]",
      "text/plain": [
       "<Figure size 640x480 with 1 Axes>"
      ]
     },
     "metadata": {},
     "output_type": "display_data"
    }
   ],
   "source": [
    "plot_distribution(\n",
    "    offline_social[\"nodes\"].to_numpy(),\n",
    "    xlabel=\"Network Size\",\n",
    "    title=\"Offline Social Network Size Distribution, n={}\".format(len(offline_social)),\n",
    ")\n",
    "plt.ticklabel_format(useOffset=False)\n",
    "\n",
    "plot_vertical_line(offline_social[\"nodes\"].mean(), \"arithmetic mean\")\n",
    "plt.legend()"
   ]
  },
  {
   "cell_type": "code",
   "execution_count": null,
   "metadata": {},
   "outputs": [
    {
     "data": {
      "text/plain": [
       "<matplotlib.legend.Legend at 0x7f2e46d48340>"
      ]
     },
     "execution_count": 97,
     "metadata": {},
     "output_type": "execute_result"
    },
    {
     "data": {
      "image/png": "[encoded data removed]",
      "text/plain": [
       "<Figure size 640x480 with 1 Axes>"
      ]
     },
     "metadata": {},
     "output_type": "display_data"
    }
   ],
   "source": [
    "plot_distribution(\n",
    "    offline_social[\"nodes\"].to_numpy(),\n",
    "    xlabel=\"Network Size\",\n",
    "    title=\"Offline Social Network Size Distribution, n={} \\n Log Scale\".format(len(offline_social)),\n",
    "    bins=logarithmic_bins(offline_social[\"nodes\"].to_numpy(), 30),\n",
    "    x_scale=\"log\",\n",
    "    y_scale=\"log\",\n",
    ")\n",
    "\n",
    "plot_vertical_line(offline_social[\"nodes\"].mean(), \"arithmetic mean\")\n",
    "plt.legend()"
   ]
  },
  {
   "cell_type": "code",
   "execution_count": null,
   "metadata": {},
   "outputs": [],
   "source": []
  }
 ],
 "metadata": {
  "kernelspec": {
   "display_name": "Python 3.8.15 ('ns-project')",
   "language": "python",
   "name": "python3"
  },
  "language_info": {
   "codemirror_mode": {
    "name": "ipython",
    "version": 3
   },
   "file_extension": ".py",
   "mimetype": "text/x-python",
   "name": "python",
   "nbconvert_exporter": "python",
   "pygments_lexer": "ipython3",
   "version": "3.8.15"
  },
  "orig_nbformat": 4,
  "vscode": {
   "interpreter": {
    "hash": "92eeb2fd4dd9b582e38232a6a7b7054c4611accb0eebb75b041327f0c6d5f098"
   }
  }
 },
 "nbformat": 4,
 "nbformat_minor": 2
}
