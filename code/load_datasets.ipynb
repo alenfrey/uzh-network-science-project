{
 "cells": [
  {
   "cell_type": "code",
   "execution_count": 1,
   "metadata": {},
   "outputs": [],
   "source": [
    "# reload imported files automatically without restarting the kernel\n",
    "%load_ext autoreload\n",
    "%autoreload 2"
   ]
  },
  {
   "cell_type": "code",
   "execution_count": 2,
   "metadata": {},
   "outputs": [],
   "source": [
    "from lib import *\n",
    "from io import StringIO\n",
    "from io import BytesIO\n",
    "from io import TextIOWrapper\n",
    "import networkx as nx\n",
    "import tempfile\n",
    "import codecs"
   ]
  },
  {
   "cell_type": "code",
   "execution_count": 3,
   "metadata": {},
   "outputs": [],
   "source": [
    "file_filter = lambda file: file.is_file()"
   ]
  },
  {
   "cell_type": "code",
   "execution_count": 4,
   "metadata": {},
   "outputs": [],
   "source": [
    "def gml_cleaner(gml_file_path):\n",
    "    \"\"\"\n",
    "    Cleans gml files from https://networks.skewed.de/\n",
    "    \"\"\"\n",
    "    def valid_gml_filter(line):\n",
    "        valid_content = \"[\" in line or \"]\" in line\n",
    "        valid_fields = \"id\" in line or \"source\" in line or \"target\" in line or \"multigraph\" in line\n",
    "        valid_split = len(line.split()) < 3\n",
    "        return (valid_content or valid_fields) and valid_split\n",
    "\n",
    "\n",
    "    with open(gml_file_path) as gml_file:\n",
    "        lines = [line for line in gml_file]\n",
    "        valid_lines = [line for line in (filter(valid_gml_filter, lines))]\n",
    "        valid_lines.insert(1, \"multigraph 1\\n\")\n",
    "        #print(valid_lines[:3])\n",
    "\n",
    "        with open(DATA_DIR_PATH / \"test.txt\", \"w\") as output:\n",
    "            for valid_line in valid_lines:\n",
    "             output.write(valid_line)\n",
    "        tf = tempfile.TemporaryFile()\n",
    "    \n",
    "        tf.write(bytes(\"\".join(valid_lines), encoding=\"utf-8\"))\n",
    "        tf.seek(0)\n",
    "    return tf\n",
    "\n",
    "    "
   ]
  },
  {
   "cell_type": "code",
   "execution_count": 11,
   "metadata": {},
   "outputs": [
    {
     "name": "stdout",
     "output_type": "stream",
     "text": [
      "0 /home/af/Projects/uzh-network-science-project/data/online/large/foursquare/NYC_restaurant_tips.gml\n",
      "['graph [\\n', 'multigraph 1\\n', '   node [\\n']\n",
      "1 /home/af/Projects/uzh-network-science-project/data/online/large/foursquare/NYC_restaurant_checkin.gml\n",
      "['graph [\\n', 'multigraph 1\\n', '   node [\\n']\n"
     ]
    }
   ],
   "source": [
    "large_online_network_files = filter(file_filter, (DATA_DIR_PATH / \"online\" / \"large\").glob(\"**/*\"))\n",
    "\n",
    "for i, file in enumerate(list(large_online_network_files)[:2]):\n",
    "    print(i, file)\n",
    "    f = gml_cleaner(file)\n",
    "    g = nx.read_gml(f, label=\"id\")"
   ]
  },
  {
   "cell_type": "code",
   "execution_count": 12,
   "metadata": {},
   "outputs": [],
   "source": [
    "#g = nx.Graph(g)"
   ]
  },
  {
   "cell_type": "code",
   "execution_count": 13,
   "metadata": {},
   "outputs": [
    {
     "data": {
      "text/plain": [
       "4936"
      ]
     },
     "execution_count": 13,
     "metadata": {},
     "output_type": "execute_result"
    }
   ],
   "source": [
    "nx.number_of_nodes(g)"
   ]
  },
  {
   "cell_type": "code",
   "execution_count": null,
   "metadata": {},
   "outputs": [],
   "source": []
  },
  {
   "cell_type": "code",
   "execution_count": 14,
   "metadata": {},
   "outputs": [
    {
     "data": {
      "text/plain": [
       "0.3030553660097686"
      ]
     },
     "execution_count": 14,
     "metadata": {},
     "output_type": "execute_result"
    }
   ],
   "source": [
    "nx.degree_assortativity_coefficient(g)"
   ]
  },
  {
   "cell_type": "code",
   "execution_count": 15,
   "metadata": {},
   "outputs": [
    {
     "data": {
      "text/plain": [
       "11.000405186385738"
      ]
     },
     "execution_count": 15,
     "metadata": {},
     "output_type": "execute_result"
    }
   ],
   "source": [
    "average_degree(g)"
   ]
  },
  {
   "cell_type": "code",
   "execution_count": null,
   "metadata": {},
   "outputs": [],
   "source": []
  }
 ],
 "metadata": {
  "kernelspec": {
   "display_name": "Python 3.8.15 ('ns-project')",
   "language": "python",
   "name": "python3"
  },
  "language_info": {
   "codemirror_mode": {
    "name": "ipython",
    "version": 3
   },
   "file_extension": ".py",
   "mimetype": "text/x-python",
   "name": "python",
   "nbconvert_exporter": "python",
   "pygments_lexer": "ipython3",
   "version": "3.8.15"
  },
  "orig_nbformat": 4,
  "vscode": {
   "interpreter": {
    "hash": "92eeb2fd4dd9b582e38232a6a7b7054c4611accb0eebb75b041327f0c6d5f098"
   }
  }
 },
 "nbformat": 4,
 "nbformat_minor": 2
}
