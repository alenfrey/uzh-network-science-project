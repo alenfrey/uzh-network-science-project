{
 "cells": [
  {
   "cell_type": "markdown",
   "metadata": {},
   "source": [
    "## We implement the similarity and complementarity coefficients in networkx\n",
    "### ToDO Alen"
   ]
  },
  {
   "cell_type": "code",
   "execution_count": 35,
   "metadata": {},
   "outputs": [],
   "source": [
    "# Main imports used in the examples below\n",
    "import random\n",
    "import numpy as np\n",
    "import networkx as nx\n",
    "from lib import *\n",
    "import igraph as ig\n",
    "from pathcensus import PathCensus\n",
    "\n",
    "# Set random and numpy rng seeds\n",
    "random.seed(303)\n",
    "np.random.seed(101)"
   ]
  },
  {
   "cell_type": "code",
   "execution_count": 36,
   "metadata": {},
   "outputs": [],
   "source": [
    "def statistics(graph: ig.Graph) -> pd.DataFrame:\n",
    "    \"\"\"Function for calculating graph statistics.\"\"\"\n",
    "    paths = PathCensus(graph)\n",
    "    coefs = paths.coefs(\"nodes\")\n",
    "    df = pd.DataFrame({\n",
    "        \"sim_g\":   paths.similarity(\"global\"),\n",
    "        \"sim\":     coefs[\"sim\"].mean(),\n",
    "        \"sim_e\":   paths.similarity(\"edges\").mean(),\n",
    "        \"comp_g\":  paths.complementarity(\"global\"),\n",
    "        \"comp\":    coefs[\"comp\"].mean(),\n",
    "        \"comp_e\":  paths.complementarity(\"edges\").mean(),\n",
    "        \"coefs\":   [coefs]\n",
    "    }, index=[0])\n",
    "    return df\n"
   ]
  },
  {
   "cell_type": "code",
   "execution_count": 37,
   "metadata": {},
   "outputs": [],
   "source": [
    "test_graphs = [\n",
    "    ig.Graph.Erdos_Renyi(100, p=.05, directed=False),\n",
    "    nx.krackhardt_kite_graph(),\n",
    "    nx.tetrahedral_graph(),\n",
    "]"
   ]
  },
  {
   "cell_type": "code",
   "execution_count": 46,
   "metadata": {},
   "outputs": [],
   "source": [
    "g = ig.Graph.Erdos_Renyi(100, p=.05, directed=False)"
   ]
  },
  {
   "cell_type": "code",
   "execution_count": 47,
   "metadata": {},
   "outputs": [
    {
     "name": "stdout",
     "output_type": "stream",
     "text": [
      "igraph\n"
     ]
    }
   ],
   "source": [
    "for i, graph in enumerate(test_graphs):\n",
    "    if isinstance(graph, ig.Graph):\n",
    "        print(\"igraph\")"
   ]
  },
  {
   "cell_type": "code",
   "execution_count": 75,
   "metadata": {},
   "outputs": [],
   "source": [
    "def igraph_to_adjacency_matrix(graph: ig.Graph) -> np.ndarray:\n",
    "    \"\"\"Function for converting igraph graph to adjacency matrix.\"\"\"\n",
    "    return np.array(graph.get_adjacency().data)\n",
    "\n",
    "def adjacency_matrix_to_igraph(adjacency_matrix: np.ndarray) -> ig.Graph:\n",
    "    \"\"\"Function for converting adjacency matrix to igraph graph.\"\"\"\n",
    "    return ig.Graph.Adjacency(adjacency_matrix.tolist())"
   ]
  },
  {
   "cell_type": "code",
   "execution_count": 74,
   "metadata": {},
   "outputs": [],
   "source": [
    "def networkx_to_adjacency_matrix(graph: nx.Graph) -> np.ndarray:\n",
    "    \"\"\"Function for converting networkx graph to adjacency matrix.\"\"\"\n",
    "    return nx.to_numpy_array(graph)\n",
    "\n",
    "def networkx_from_adjacency_matrix(adjacency_matrix: np.ndarray) -> nx.Graph:\n",
    "    \"\"\"Function for converting adjacency matrix to networkx graph.\"\"\"\n",
    "    return nx.from_numpy_array(adjacency_matrix)"
   ]
  },
  {
   "cell_type": "code",
   "execution_count": null,
   "metadata": {},
   "outputs": [],
   "source": [
    "def igraph_to_networkx(graph: ig.Graph) -> nx.Graph:\n",
    "    \"\"\"Convert igraph to networkx.\"\"\"\n",
    "    return nx.from_edgelist(graph.get_edgelist())\n",
    "\n",
    "def networkx_to_igraph(graph: nx.Graph) -> ig.Graph:\n",
    "    \"\"\"Convert networkx to igraph.\"\"\"\n",
    "    return ig.Graph.TupleList(graph.edges())"
   ]
  },
  {
   "cell_type": "code",
   "execution_count": 76,
   "metadata": {},
   "outputs": [],
   "source": [
    "g_nx = nx.krackhardt_kite_graph()"
   ]
  },
  {
   "cell_type": "code",
   "execution_count": 78,
   "metadata": {},
   "outputs": [],
   "source": [
    "g_ig = networkx_to_igraph(g)"
   ]
  },
  {
   "cell_type": "code",
   "execution_count": 83,
   "metadata": {},
   "outputs": [],
   "source": [
    "P_ig = PathCensus(g_ig)"
   ]
  },
  {
   "cell_type": "code",
   "execution_count": 85,
   "metadata": {},
   "outputs": [
    {
     "data": {
      "text/plain": [
       "i\n",
       "0    0.666667\n",
       "1    0.666667\n",
       "2    1.000000\n",
       "3    0.533333\n",
       "4    0.500000\n",
       "5    1.000000\n",
       "6    0.500000\n",
       "7    0.333333\n",
       "8    0.000000\n",
       "9         NaN\n",
       "dtype: float64"
      ]
     },
     "execution_count": 85,
     "metadata": {},
     "output_type": "execute_result"
    }
   ],
   "source": [
    "P_ig.tclust()# triangle-clustering equivalent to local clustering coefficient\n"
   ]
  },
  {
   "cell_type": "code",
   "execution_count": 84,
   "metadata": {},
   "outputs": [
    {
     "data": {
      "text/plain": [
       "0.5789473684210527"
      ]
     },
     "execution_count": 84,
     "metadata": {},
     "output_type": "execute_result"
    }
   ],
   "source": [
    "P_ig.tclosure()   # triangle-closure equivalent to local closure coefficient\n",
    "P_ig.similarity() # structural similarity (weighted average of clustering and closure)\n",
    "\n",
    "# Edge-wise similarity\n",
    "P_ig.similarity(\"edges\")\n",
    "# Global similarity (equivalent to global clustering coefficient)\n",
    "P_ig.similarity(\"global\")"
   ]
  },
  {
   "cell_type": "code",
   "execution_count": 86,
   "metadata": {},
   "outputs": [
    {
     "ename": "AttributeError",
     "evalue": "module networkx has no attribute closure",
     "output_type": "error",
     "traceback": [
      "\u001b[0;31m---------------------------------------------------------------------------\u001b[0m",
      "\u001b[0;31mAttributeError\u001b[0m                            Traceback (most recent call last)",
      "Cell \u001b[0;32mIn[86], line 44\u001b[0m\n\u001b[1;32m     41\u001b[0m     \u001b[39mreturn\u001b[39;00m np\u001b[39m.\u001b[39mmean(edge_complementarity(graph))\n\u001b[1;32m     43\u001b[0m triangle_clustering(g)\n\u001b[0;32m---> 44\u001b[0m triangle_closure(g)\n\u001b[1;32m     45\u001b[0m structural_similarity(g)\n\u001b[1;32m     47\u001b[0m edge_similarity(g)\n",
      "Cell \u001b[0;32mIn[86], line 9\u001b[0m, in \u001b[0;36mtriangle_closure\u001b[0;34m(graph)\u001b[0m\n\u001b[1;32m      7\u001b[0m \u001b[39mdef\u001b[39;00m \u001b[39mtriangle_closure\u001b[39m(graph: nx\u001b[39m.\u001b[39mGraph) \u001b[39m-\u001b[39m\u001b[39m>\u001b[39m np\u001b[39m.\u001b[39mndarray:\n\u001b[1;32m      8\u001b[0m     \u001b[39m\"\"\"Function for calculating triangle closure coefficient.\"\"\"\u001b[39;00m\n\u001b[0;32m----> 9\u001b[0m     \u001b[39mreturn\u001b[39;00m np\u001b[39m.\u001b[39marray(\u001b[39mlist\u001b[39m(nx\u001b[39m.\u001b[39;49mclosure(graph)\u001b[39m.\u001b[39mvalues()))\n",
      "File \u001b[0;32m~/Projects/uzh-network-science-project/venv/lib/python3.10/site-packages/networkx/__init__.py:51\u001b[0m, in \u001b[0;36m__getattr__\u001b[0;34m(name)\u001b[0m\n\u001b[1;32m     42\u001b[0m \u001b[39mif\u001b[39;00m name \u001b[39m==\u001b[39m \u001b[39m\"\u001b[39m\u001b[39mwrite_yaml\u001b[39m\u001b[39m\"\u001b[39m:\n\u001b[1;32m     43\u001b[0m     \u001b[39mraise\u001b[39;00m \u001b[39mImportError\u001b[39;00m(\n\u001b[1;32m     44\u001b[0m         \u001b[39m\"\u001b[39m\u001b[39m\\n\u001b[39;00m\u001b[39mwrite_yaml has been removed from NetworkX, please use `yaml`\u001b[39m\u001b[39m\\n\u001b[39;00m\u001b[39m\"\u001b[39m\n\u001b[1;32m     45\u001b[0m         \u001b[39m\"\u001b[39m\u001b[39mdirectly:\u001b[39m\u001b[39m\\n\u001b[39;00m\u001b[39m\\n\u001b[39;00m\u001b[39m\"\u001b[39m\n\u001b[0;32m   (...)\u001b[0m\n\u001b[1;32m     49\u001b[0m         \u001b[39m\"\u001b[39m\u001b[39mThis message will be removed in NetworkX 3.0.\u001b[39m\u001b[39m\"\u001b[39m\n\u001b[1;32m     50\u001b[0m     )\n\u001b[0;32m---> 51\u001b[0m \u001b[39mraise\u001b[39;00m \u001b[39mAttributeError\u001b[39;00m(\u001b[39mf\u001b[39m\u001b[39m\"\u001b[39m\u001b[39mmodule \u001b[39m\u001b[39m{\u001b[39;00m\u001b[39m__name__\u001b[39m\u001b[39m}\u001b[39;00m\u001b[39m has no attribute \u001b[39m\u001b[39m{\u001b[39;00mname\u001b[39m}\u001b[39;00m\u001b[39m\"\u001b[39m)\n",
      "\u001b[0;31mAttributeError\u001b[0m: module networkx has no attribute closure"
     ]
    }
   ],
   "source": [
    "# interface to fulfill with networkx:\n",
    "\n",
    "def triangle_clustering(graph: nx.Graph) -> np.ndarray:\n",
    "    \"\"\"Function for calculating triangle clustering coefficient.\"\"\"\n",
    "    return np.array(list(nx.clustering(graph).values()))\n",
    "\n",
    "def triangle_closure(graph: nx.Graph) -> np.ndarray:\n",
    "    \"\"\"Function for calculating triangle closure coefficient.\"\"\"\n",
    "    return np.array(list(nx.closure(graph).values()))\n",
    "\n",
    "def structural_similarity(graph: nx.Graph) -> float:\n",
    "    \"\"\"Function for calculating structural similarity.\"\"\"\n",
    "    return np.mean(triangle_clustering(graph) * triangle_closure(graph))\n",
    "\n",
    "def edge_similarity(graph: nx.Graph) -> np.ndarray:\n",
    "    \"\"\"Function for calculating edge-wise structural similarity.\"\"\"\n",
    "    return np.array(list(nx.edge_similarity(graph).values()))\n",
    "\n",
    "def global_similarity(graph: nx.Graph) -> float:\n",
    "    \"\"\"Function for calculating global structural similarity.\"\"\"\n",
    "    return np.mean(edge_similarity(graph))\n",
    "\n",
    "def quadrangle_clustering(graph: nx.Graph) -> np.ndarray:\n",
    "    \"\"\"Function for calculating quadrangle clustering coefficient.\"\"\"\n",
    "    return np.array(list(nx.quadrangle_clustering(graph).values()))\n",
    "\n",
    "def quadrangle_closure(graph: nx.Graph) -> np.ndarray:\n",
    "    \"\"\"Function for calculating quadrangle closure coefficient.\"\"\"\n",
    "    return np.array(list(nx.quadrangle_closure(graph).values()))\n",
    "\n",
    "def structural_complementarity(graph: nx.Graph) -> float:\n",
    "    \"\"\"Function for calculating structural complementarity.\"\"\"\n",
    "    return np.mean(quadrangle_clustering(graph) * quadrangle_closure(graph))\n",
    "\n",
    "def edge_complementarity(graph: nx.Graph) -> np.ndarray:\n",
    "    \"\"\"Function for calculating edge-wise structural complementarity.\"\"\"\n",
    "    return np.array(list(nx.edge_complementarity(graph).values()))\n",
    "\n",
    "def global_complementarity(graph: nx.Graph) -> float:\n",
    "    \"\"\"Function for calculating global structural complementarity.\"\"\"\n",
    "    return np.mean(edge_complementarity(graph))\n",
    "\n",
    "triangle_clustering(g)\n",
    "triangle_closure(g)\n",
    "structural_similarity(g)\n",
    "\n",
    "edge_similarity(g)\n",
    "global_similarity(g)\n",
    "\n",
    "quadrangle_clustering(g)\n",
    "quadrangle_closure(g)\n",
    "structural_complementarity(g)\n",
    "\n",
    "edge_complementarity(g)\n",
    "global_complementarity(g)\n"
   ]
  },
  {
   "cell_type": "code",
   "execution_count": null,
   "metadata": {},
   "outputs": [],
   "source": [
    "# Complementarity coefficients\n",
    "P.qclust()          # quadrangle-based clustering\n",
    "P.qclosure()        # quadrangle-based closure\n",
    "P.complementarity() # structural complementarity (weighted average of clustering and closure)\n",
    "\n",
    "# Edge-wise complementarity\n",
    "P.complementarity(\"edges\")\n",
    "# Global complementarity\n",
    "P.complementarity(\"global\")"
   ]
  }
 ],
 "metadata": {
  "kernelspec": {
   "display_name": "Python 3.10.6 ('venv': venv)",
   "language": "python",
   "name": "python3"
  },
  "language_info": {
   "codemirror_mode": {
    "name": "ipython",
    "version": 3
   },
   "file_extension": ".py",
   "mimetype": "text/x-python",
   "name": "python",
   "nbconvert_exporter": "python",
   "pygments_lexer": "ipython3",
   "version": "3.10.6"
  },
  "orig_nbformat": 4,
  "vscode": {
   "interpreter": {
    "hash": "45e9e9119b36140a2a9bca0259b0a24ad8917ae126aa158bf5a8fa6cf8c03ef3"
   }
  }
 },
 "nbformat": 4,
 "nbformat_minor": 2
}
