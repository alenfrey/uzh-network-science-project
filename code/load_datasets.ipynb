{
 "cells": [
  {
   "cell_type": "code",
   "execution_count": 1,
   "metadata": {},
   "outputs": [],
   "source": [
    "# reload imported files automatically without restarting the kernel\n",
    "%load_ext autoreload\n",
    "%autoreload 2"
   ]
  },
  {
   "cell_type": "code",
   "execution_count": 2,
   "metadata": {},
   "outputs": [],
   "source": [
    "from lib import *\n",
    "import networkx as nx\n",
    "from networkx.exception import NetworkXError\n",
    "import tempfile\n"
   ]
  },
  {
   "cell_type": "code",
   "execution_count": 7,
   "metadata": {},
   "outputs": [],
   "source": [
    "def gml_cleaner(gml_file_path):\n",
    "    \"\"\"\n",
    "    Cleans gml files from https://networks.skewed.de/\n",
    "    \"\"\"\n",
    "    def valid_gml_filter(line):\n",
    "        valid_content = \"[\" in line or \"]\" in line\n",
    "        valid_fields = \"id\" in line or \"source\" in line or \"target\" in line or \"multigraph\" in line\n",
    "        valid_split = len(line.split()) < 3\n",
    "        return (valid_content or valid_fields) and valid_split\n",
    "\n",
    "    def valid_gml_filter_special_cases(line):\n",
    "        return not \"_graphml_edge_id\" in line\n",
    "\n",
    "    with open(gml_file_path) as gml_file:\n",
    "        lines = [line for line in gml_file]\n",
    "        valid_lines = [line for line in (filter(valid_gml_filter, lines))]\n",
    "        valid_lines = [line for line in (filter(valid_gml_filter_special_cases, valid_lines))]\n",
    "        # valid_lines.insert(1, \"multigraph 1\\n\")\n",
    "        # print(valid_lines[:3])\n",
    "\n",
    "        with open(DATA_DIR_PATH / \"test.txt\", \"w\") as output:\n",
    "            for valid_line in valid_lines:\n",
    "             output.write(valid_line)\n",
    "        tf = tempfile.TemporaryFile()\n",
    "    \n",
    "        tf.write(bytes(\"\".join(valid_lines), encoding=\"utf-8\"))\n",
    "        tf.seek(0)\n",
    "    return tf\n",
    "\n",
    "    "
   ]
  },
  {
   "cell_type": "code",
   "execution_count": 14,
   "metadata": {},
   "outputs": [],
   "source": [
    "file_filter = lambda file: file.is_file()\n",
    "small_online_network_files = filter(file_filter, (DATA_DIR_PATH / \"online\" / \"small\").glob(\"**/*\"))\n",
    "medium_online_network_files = filter(file_filter, (DATA_DIR_PATH / \"online\" / \"medium\").glob(\"**/*\"))\n",
    "large_online_network_files = filter(file_filter, (DATA_DIR_PATH / \"online\" / \"small\").glob(\"**/*\"))\n"
   ]
  },
  {
   "cell_type": "code",
   "execution_count": 16,
   "metadata": {},
   "outputs": [
    {
     "name": "stdout",
     "output_type": "stream",
     "text": [
      "0 /home/af/Projects/uzh-network-science-project/data/online/medium/ego_social/gplus_103892332449873403244.gml\n",
      "1 /home/af/Projects/uzh-network-science-project/data/online/medium/ego_social/gplus_104290609881668164623.gml\n",
      "2 /home/af/Projects/uzh-network-science-project/data/online/medium/ego_social/gplus_102170431816592344972.gml\n",
      "3 /home/af/Projects/uzh-network-science-project/data/online/medium/ego_social/gplus_113799277735885972934.gml\n",
      "4 /home/af/Projects/uzh-network-science-project/data/online/medium/ego_social/gplus_101130571432010257170.gml\n",
      "5 /home/af/Projects/uzh-network-science-project/data/online/medium/ego_social/gplus_112724573277710080670.gml\n",
      "6 /home/af/Projects/uzh-network-science-project/data/online/medium/ego_social/gplus_100129275726588145876.gml\n",
      "7 /home/af/Projects/uzh-network-science-project/data/online/medium/ego_social/facebook_1912.gml\n",
      "8 /home/af/Projects/uzh-network-science-project/data/online/medium/ego_social/gplus_109213135085178239952.gml\n",
      "9 /home/af/Projects/uzh-network-science-project/data/online/medium/ego_social/gplus_101263615503715477581.gml\n",
      "10 /home/af/Projects/uzh-network-science-project/data/online/medium/ego_social/gplus_104226133029319075907.gml\n",
      "11 /home/af/Projects/uzh-network-science-project/data/online/medium/ego_social/gplus_108541235642523883716.gml\n",
      "12 /home/af/Projects/uzh-network-science-project/data/online/medium/ego_social/gplus_101185748996927059931.gml\n",
      "13 /home/af/Projects/uzh-network-science-project/data/online/medium/ego_social/gplus_115121555137256496805.gml\n",
      "14 /home/af/Projects/uzh-network-science-project/data/online/medium/ego_social/gplus_106837574755355833243.gml\n",
      "15 /home/af/Projects/uzh-network-science-project/data/online/medium/ego_social/gplus_101133961721621664586.gml\n",
      "16 /home/af/Projects/uzh-network-science-project/data/online/medium/ego_social/gplus_100715738096376666180.gml\n",
      "17 /home/af/Projects/uzh-network-science-project/data/online/medium/ego_social/gplus_110538600381916983600.gml\n",
      "18 /home/af/Projects/uzh-network-science-project/data/online/medium/ego_social/gplus_100535338638690515335.gml\n",
      "19 /home/af/Projects/uzh-network-science-project/data/online/medium/ego_social/gplus_102778563580121606331.gml\n",
      "20 /home/af/Projects/uzh-network-science-project/data/online/medium/ego_social/gplus_107296660002634487593.gml\n",
      "21 /home/af/Projects/uzh-network-science-project/data/online/medium/ego_social/gplus_103537112468125883734.gml\n",
      "22 /home/af/Projects/uzh-network-science-project/data/online/medium/ego_social/gplus_116059998563577101552.gml\n",
      "23 /home/af/Projects/uzh-network-science-project/data/online/medium/ego_social/gplus_113171096418029011322.gml\n",
      "24 /home/af/Projects/uzh-network-science-project/data/online/medium/ego_social/gplus_118379821279745746467.gml\n",
      "25 /home/af/Projects/uzh-network-science-project/data/online/medium/ego_social/gplus_103236949470535942612.gml\n",
      "26 /home/af/Projects/uzh-network-science-project/data/online/medium/ego_social/gplus_107013688749125521109.gml\n",
      "27 /home/af/Projects/uzh-network-science-project/data/online/medium/ego_social/gplus_116247667398036716276.gml\n",
      "28 /home/af/Projects/uzh-network-science-project/data/online/medium/ego_social/gplus_115625564993990145546.gml\n",
      "29 /home/af/Projects/uzh-network-science-project/data/online/medium/ego_social/facebook_1684.gml\n",
      "30 /home/af/Projects/uzh-network-science-project/data/online/medium/ego_social/gplus_106417861423111072106.gml\n",
      "31 /home/af/Projects/uzh-network-science-project/data/online/medium/ego_social/gplus_113112256846010263985.gml\n",
      "32 /home/af/Projects/uzh-network-science-project/data/online/medium/ego_social/gplus_109327480479767108490.gml\n",
      "33 /home/af/Projects/uzh-network-science-project/data/online/medium/ego_social/gplus_117668392750579292609.gml\n",
      "34 /home/af/Projects/uzh-network-science-project/data/online/medium/ego_social/gplus_113881433443048137993.gml\n",
      "35 /home/af/Projects/uzh-network-science-project/data/online/medium/ego_social/gplus_104607825525972194062.gml\n",
      "36 /home/af/Projects/uzh-network-science-project/data/online/medium/ego_social/gplus_108883879052307976051.gml\n",
      "37 /home/af/Projects/uzh-network-science-project/data/online/medium/ego_social/gplus_113356364521839061717.gml\n",
      "38 /home/af/Projects/uzh-network-science-project/data/online/medium/ego_social/gplus_104987932455782713675.gml\n",
      "39 /home/af/Projects/uzh-network-science-project/data/online/medium/ego_social/gplus_108156134340151350951.gml\n",
      "40 /home/af/Projects/uzh-network-science-project/data/online/medium/ego_social/gplus_110701307803962595019.gml\n",
      "41 /home/af/Projects/uzh-network-science-project/data/online/medium/ego_social/gplus_115516333681138986628.gml\n",
      "42 /home/af/Projects/uzh-network-science-project/data/online/medium/ego_social/gplus_113122049849685469495.gml\n",
      "43 /home/af/Projects/uzh-network-science-project/data/online/medium/ego_social/facebook_107.gml\n",
      "44 /home/af/Projects/uzh-network-science-project/data/online/medium/ego_social/gplus_107223200089245371832.gml\n",
      "45 /home/af/Projects/uzh-network-science-project/data/online/medium/ego_social/gplus_104917160754181459072.gml\n",
      "46 /home/af/Projects/uzh-network-science-project/data/online/medium/ego_social/gplus_109602109099036550366.gml\n",
      "47 /home/af/Projects/uzh-network-science-project/data/online/medium/ego_social/gplus_116315897040732668413.gml\n",
      "48 /home/af/Projects/uzh-network-science-project/data/online/medium/ego_social/gplus_100329698645326486178.gml\n",
      "49 /home/af/Projects/uzh-network-science-project/data/online/medium/ego_social/gplus_102340116189726655233.gml\n",
      "50 /home/af/Projects/uzh-network-science-project/data/online/medium/ego_social/gplus_107203023379915799071.gml\n",
      "51 /home/af/Projects/uzh-network-science-project/data/online/medium/ego_social/gplus_100720409235366385249.gml\n",
      "52 /home/af/Projects/uzh-network-science-project/data/online/medium/ego_social/gplus_118107045405823607895.gml\n",
      "53 /home/af/Projects/uzh-network-science-project/data/online/medium/ego_social/gplus_110971010308065250763.gml\n",
      "54 /home/af/Projects/uzh-network-science-project/data/online/medium/ego_social/gplus_107362628080904735459.gml\n"
     ]
    },
    {
     "ename": "KeyboardInterrupt",
     "evalue": "",
     "output_type": "error",
     "traceback": [
      "\u001b[0;31m---------------------------------------------------------------------------\u001b[0m",
      "\u001b[0;31mKeyboardInterrupt\u001b[0m                         Traceback (most recent call last)",
      "Cell \u001b[0;32mIn[16], line 5\u001b[0m\n\u001b[1;32m      3\u001b[0m \u001b[39mtry\u001b[39;00m:\n\u001b[1;32m      4\u001b[0m     f \u001b[39m=\u001b[39m gml_cleaner(file)\n\u001b[0;32m----> 5\u001b[0m     g \u001b[39m=\u001b[39m nx\u001b[39m.\u001b[39;49mread_gml(f, label\u001b[39m=\u001b[39;49m\u001b[39m\"\u001b[39;49m\u001b[39mid\u001b[39;49m\u001b[39m\"\u001b[39;49m)\n\u001b[1;32m      6\u001b[0m \u001b[39mexcept\u001b[39;00m NetworkXError \u001b[39mas\u001b[39;00m e:\n\u001b[1;32m      7\u001b[0m     \u001b[39mprint\u001b[39m(e)\n",
      "File \u001b[0;32m<class 'networkx.utils.decorators.argmap'> compilation 5:5\u001b[0m, in \u001b[0;36margmap_read_gml_1\u001b[0;34m(path, label, destringizer)\u001b[0m\n\u001b[1;32m      3\u001b[0m \u001b[39mimport\u001b[39;00m \u001b[39mgzip\u001b[39;00m\n\u001b[1;32m      4\u001b[0m \u001b[39mimport\u001b[39;00m \u001b[39minspect\u001b[39;00m\n\u001b[0;32m----> 5\u001b[0m \u001b[39mimport\u001b[39;00m \u001b[39mitertools\u001b[39;00m\n\u001b[1;32m      6\u001b[0m \u001b[39mimport\u001b[39;00m \u001b[39mre\u001b[39;00m\n\u001b[1;32m      7\u001b[0m \u001b[39mfrom\u001b[39;00m \u001b[39mcollections\u001b[39;00m \u001b[39mimport\u001b[39;00m defaultdict\n",
      "File \u001b[0;32m~/miniconda3/envs/ns-project/lib/python3.8/site-packages/networkx/readwrite/gml.py:195\u001b[0m, in \u001b[0;36mread_gml\u001b[0;34m(path, label, destringizer)\u001b[0m\n\u001b[1;32m    192\u001b[0m             line \u001b[39m=\u001b[39m line[:\u001b[39m-\u001b[39m\u001b[39m1\u001b[39m]\n\u001b[1;32m    193\u001b[0m         \u001b[39myield\u001b[39;00m line\n\u001b[0;32m--> 195\u001b[0m G \u001b[39m=\u001b[39m parse_gml_lines(filter_lines(path), label, destringizer)\n\u001b[1;32m    196\u001b[0m \u001b[39mreturn\u001b[39;00m G\n",
      "File \u001b[0;32m~/miniconda3/envs/ns-project/lib/python3.8/site-packages/networkx/readwrite/gml.py:433\u001b[0m, in \u001b[0;36mparse_gml_lines\u001b[0;34m(lines, label, destringizer)\u001b[0m\n\u001b[1;32m    430\u001b[0m     \u001b[39mreturn\u001b[39;00m graph\n\u001b[1;32m    432\u001b[0m tokens \u001b[39m=\u001b[39m tokenize()\n\u001b[0;32m--> 433\u001b[0m graph \u001b[39m=\u001b[39m parse_graph()\n\u001b[1;32m    435\u001b[0m directed \u001b[39m=\u001b[39m graph\u001b[39m.\u001b[39mpop(\u001b[39m\"\u001b[39m\u001b[39mdirected\u001b[39m\u001b[39m\"\u001b[39m, \u001b[39mFalse\u001b[39;00m)\n\u001b[1;32m    436\u001b[0m multigraph \u001b[39m=\u001b[39m graph\u001b[39m.\u001b[39mpop(\u001b[39m\"\u001b[39m\u001b[39mmultigraph\u001b[39m\u001b[39m\"\u001b[39m, \u001b[39mFalse\u001b[39;00m)\n",
      "File \u001b[0;32m~/miniconda3/envs/ns-project/lib/python3.8/site-packages/networkx/readwrite/gml.py:422\u001b[0m, in \u001b[0;36mparse_gml_lines.<locals>.parse_graph\u001b[0;34m()\u001b[0m\n\u001b[1;32m    421\u001b[0m \u001b[39mdef\u001b[39;00m \u001b[39mparse_graph\u001b[39m():\n\u001b[0;32m--> 422\u001b[0m     curr_token, dct \u001b[39m=\u001b[39m parse_kv(\u001b[39mnext\u001b[39;49m(tokens))\n\u001b[1;32m    423\u001b[0m     \u001b[39mif\u001b[39;00m curr_token\u001b[39m.\u001b[39mcategory \u001b[39mis\u001b[39;00m \u001b[39mnot\u001b[39;00m \u001b[39mNone\u001b[39;00m:  \u001b[39m# EOF\u001b[39;00m\n\u001b[1;32m    424\u001b[0m         unexpected(curr_token, \u001b[39m\"\u001b[39m\u001b[39mEOF\u001b[39m\u001b[39m\"\u001b[39m)\n",
      "File \u001b[0;32m~/miniconda3/envs/ns-project/lib/python3.8/site-packages/networkx/readwrite/gml.py:368\u001b[0m, in \u001b[0;36mparse_gml_lines.<locals>.parse_kv\u001b[0;34m(curr_token)\u001b[0m\n\u001b[1;32m    366\u001b[0m     curr_token \u001b[39m=\u001b[39m \u001b[39mnext\u001b[39m(tokens)\n\u001b[1;32m    367\u001b[0m \u001b[39melif\u001b[39;00m category \u001b[39m==\u001b[39m Pattern\u001b[39m.\u001b[39mDICT_START:\n\u001b[0;32m--> 368\u001b[0m     curr_token, value \u001b[39m=\u001b[39m parse_dict(curr_token)\n\u001b[1;32m    369\u001b[0m \u001b[39melse\u001b[39;00m:\n\u001b[1;32m    370\u001b[0m     \u001b[39m# Allow for string convertible id and label values\u001b[39;00m\n\u001b[1;32m    371\u001b[0m     \u001b[39mif\u001b[39;00m key \u001b[39min\u001b[39;00m (\u001b[39m\"\u001b[39m\u001b[39mid\u001b[39m\u001b[39m\"\u001b[39m, \u001b[39m\"\u001b[39m\u001b[39mlabel\u001b[39m\u001b[39m\"\u001b[39m, \u001b[39m\"\u001b[39m\u001b[39msource\u001b[39m\u001b[39m\"\u001b[39m, \u001b[39m\"\u001b[39m\u001b[39mtarget\u001b[39m\u001b[39m\"\u001b[39m):\n",
      "File \u001b[0;32m~/miniconda3/envs/ns-project/lib/python3.8/site-packages/networkx/readwrite/gml.py:416\u001b[0m, in \u001b[0;36mparse_gml_lines.<locals>.parse_dict\u001b[0;34m(curr_token)\u001b[0m\n\u001b[1;32m    414\u001b[0m curr_token \u001b[39m=\u001b[39m consume(curr_token, Pattern\u001b[39m.\u001b[39mDICT_START, \u001b[39m\"\u001b[39m\u001b[39m'\u001b[39m\u001b[39m[\u001b[39m\u001b[39m'\u001b[39m\u001b[39m\"\u001b[39m)\n\u001b[1;32m    415\u001b[0m \u001b[39m# dict contents\u001b[39;00m\n\u001b[0;32m--> 416\u001b[0m curr_token, dct \u001b[39m=\u001b[39m parse_kv(curr_token)\n\u001b[1;32m    417\u001b[0m \u001b[39m# dict end\u001b[39;00m\n\u001b[1;32m    418\u001b[0m curr_token \u001b[39m=\u001b[39m consume(curr_token, Pattern\u001b[39m.\u001b[39mDICT_END, \u001b[39m\"\u001b[39m\u001b[39m'\u001b[39m\u001b[39m]\u001b[39m\u001b[39m'\u001b[39m\u001b[39m\"\u001b[39m)\n",
      "File \u001b[0;32m~/miniconda3/envs/ns-project/lib/python3.8/site-packages/networkx/readwrite/gml.py:354\u001b[0m, in \u001b[0;36mparse_gml_lines.<locals>.parse_kv\u001b[0;34m(curr_token)\u001b[0m\n\u001b[1;32m    352\u001b[0m \u001b[39mwhile\u001b[39;00m curr_token\u001b[39m.\u001b[39mcategory \u001b[39m==\u001b[39m Pattern\u001b[39m.\u001b[39mKEYS:\n\u001b[1;32m    353\u001b[0m     key \u001b[39m=\u001b[39m curr_token\u001b[39m.\u001b[39mvalue\n\u001b[0;32m--> 354\u001b[0m     curr_token \u001b[39m=\u001b[39m \u001b[39mnext\u001b[39;49m(tokens)\n\u001b[1;32m    355\u001b[0m     category \u001b[39m=\u001b[39m curr_token\u001b[39m.\u001b[39mcategory\n\u001b[1;32m    356\u001b[0m     \u001b[39mif\u001b[39;00m category \u001b[39m==\u001b[39m Pattern\u001b[39m.\u001b[39mREALS \u001b[39mor\u001b[39;00m category \u001b[39m==\u001b[39m Pattern\u001b[39m.\u001b[39mINTS:\n",
      "File \u001b[0;32m~/miniconda3/envs/ns-project/lib/python3.8/site-packages/networkx/readwrite/gml.py:323\u001b[0m, in \u001b[0;36mparse_gml_lines.<locals>.tokenize\u001b[0;34m()\u001b[0m\n\u001b[1;32m    321\u001b[0m     \u001b[39mraise\u001b[39;00m NetworkXError(m)\n\u001b[1;32m    322\u001b[0m \u001b[39mfor\u001b[39;00m i \u001b[39min\u001b[39;00m \u001b[39mrange\u001b[39m(\u001b[39mlen\u001b[39m(patterns)):\n\u001b[0;32m--> 323\u001b[0m     group \u001b[39m=\u001b[39m match\u001b[39m.\u001b[39;49mgroup(i \u001b[39m+\u001b[39;49m \u001b[39m1\u001b[39;49m)\n\u001b[1;32m    324\u001b[0m     \u001b[39mif\u001b[39;00m group \u001b[39mis\u001b[39;00m \u001b[39mnot\u001b[39;00m \u001b[39mNone\u001b[39;00m:\n\u001b[1;32m    325\u001b[0m         \u001b[39mif\u001b[39;00m i \u001b[39m==\u001b[39m \u001b[39m0\u001b[39m:  \u001b[39m# keys\u001b[39;00m\n",
      "\u001b[0;31mKeyboardInterrupt\u001b[0m: "
     ]
    }
   ],
   "source": [
    "for i, file in enumerate(list(medium_online_network_files)[:2]):\n",
    "    print(i, file)\n",
    "    try:\n",
    "        f = gml_cleaner(file)\n",
    "        g = nx.read_gml(f, label=\"id\")\n",
    "    except NetworkXError as e:\n",
    "        print(e)\n",
    "        print(\"Got a multigraph, skipping...\")\n",
    "        continue\n"
   ]
  },
  {
   "cell_type": "code",
   "execution_count": 11,
   "metadata": {},
   "outputs": [
    {
     "data": {
      "text/plain": [
       "<networkx.classes.graph.Graph at 0x7f06a9a05a30>"
      ]
     },
     "execution_count": 11,
     "metadata": {},
     "output_type": "execute_result"
    }
   ],
   "source": [
    "g"
   ]
  },
  {
   "cell_type": "code",
   "execution_count": 19,
   "metadata": {},
   "outputs": [],
   "source": [
    "#g = nx.Graph(g)"
   ]
  },
  {
   "cell_type": "code",
   "execution_count": 20,
   "metadata": {},
   "outputs": [
    {
     "data": {
      "text/plain": [
       "6410"
      ]
     },
     "execution_count": 20,
     "metadata": {},
     "output_type": "execute_result"
    }
   ],
   "source": [
    "nx.number_of_nodes(g)"
   ]
  },
  {
   "cell_type": "code",
   "execution_count": 21,
   "metadata": {},
   "outputs": [
    {
     "data": {
      "text/plain": [
       "-0.03850152209079841"
      ]
     },
     "execution_count": 21,
     "metadata": {},
     "output_type": "execute_result"
    }
   ],
   "source": [
    "nx.degree_assortativity_coefficient(g)"
   ]
  },
  {
   "cell_type": "code",
   "execution_count": 22,
   "metadata": {},
   "outputs": [
    {
     "data": {
      "text/plain": [
       "3.2377535101404056"
      ]
     },
     "execution_count": 22,
     "metadata": {},
     "output_type": "execute_result"
    }
   ],
   "source": [
    "average_degree(g)"
   ]
  },
  {
   "cell_type": "code",
   "execution_count": null,
   "metadata": {},
   "outputs": [],
   "source": []
  }
 ],
 "metadata": {
  "kernelspec": {
   "display_name": "Python 3.8.15 ('ns-project')",
   "language": "python",
   "name": "python3"
  },
  "language_info": {
   "codemirror_mode": {
    "name": "ipython",
    "version": 3
   },
   "file_extension": ".py",
   "mimetype": "text/x-python",
   "name": "python",
   "nbconvert_exporter": "python",
   "pygments_lexer": "ipython3",
   "version": "3.8.15"
  },
  "orig_nbformat": 4,
  "vscode": {
   "interpreter": {
    "hash": "92eeb2fd4dd9b582e38232a6a7b7054c4611accb0eebb75b041327f0c6d5f098"
   }
  }
 },
 "nbformat": 4,
 "nbformat_minor": 2
}
