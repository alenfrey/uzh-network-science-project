{
 "cells": [
  {
   "cell_type": "code",
   "execution_count": 136,
   "metadata": {},
   "outputs": [],
   "source": [
    "from lib import *\n",
    "from pathcensus import PathCensus\n",
    "from pathcensus.nullmodels import UBCM\n",
    "from pathcensus.inference import Inference\n",
    "from pathcensus.utils import set_seed\n",
    "import joblib\n",
    "\n",
    "import igraph as ig\n",
    "import re"
   ]
  },
  {
   "cell_type": "code",
   "execution_count": 103,
   "metadata": {},
   "outputs": [],
   "source": [
    "\n",
    "def statistics(graph: ig.Graph) -> pd.DataFrame:\n",
    "    \"\"\"Function for calculating graph statistics.\"\"\"\n",
    "    paths = PathCensus(graph)\n",
    "    coefs = paths.coefs(\"nodes\")\n",
    "    df = pd.DataFrame({\n",
    "        \"sim_g\":   paths.similarity(\"global\"),\n",
    "        \"sim\":     coefs[\"sim\"].mean(),\n",
    "        \"sim_e\":   paths.similarity(\"edges\").mean(),\n",
    "        \"comp_g\":  paths.complementarity(\"global\"),\n",
    "        \"comp\":    coefs[\"comp\"].mean(),\n",
    "        \"comp_e\":  paths.complementarity(\"edges\").mean(),\n",
    "        \"coefs\":   [coefs]\n",
    "    }, index=[0])\n",
    "    return df\n",
    "\n",
    "def get_metadata(graph: ig.Graph):\n",
    "    \"\"\"Get graph metadata dictionary.\"\"\"\n",
    "    name = graph[\"name\"]\n",
    "    return {\n",
    "        \"dataset\":    name.split()[0],\n",
    "        \"name\":       name,\n",
    "        \"domain\":     graph[\"domain\"],\n",
    "        \"relation\":   graph[\"relation\"],\n",
    "        \"desc\":       graph[\"desc\"],\n",
    "        \"label\":      graph[\"label\"],\n",
    "        \"idx\":        graph[\"idx\"] if \"idx\" in graph.attributes() else 0\n",
    "    }\n",
    "\n",
    "\n",
    "def get_largest_component(graph: ig.Graph, **kwds) -> ig.Graph:\n",
    "    \"\"\"Get largest component of a graph.\n",
    "\n",
    "    ``**kwds`` are passed to :py:meth:`igraph.Graph.components`.\n",
    "    \"\"\"\n",
    "    vids = None\n",
    "    for component in graph.components(**kwds):\n",
    "        if vids is None or len(component) > len(vids):\n",
    "            vids = component\n",
    "    return graph.induced_subgraph(vids)"
   ]
  },
  {
   "cell_type": "code",
   "execution_count": 104,
   "metadata": {},
   "outputs": [],
   "source": [
    "def get_digits_from_string(string: str) -> str:\n",
    "    \"\"\"Get digits from string.\"\"\"\n",
    "    return re.sub(\"[^0-9]\", \"\", string)"
   ]
  },
  {
   "cell_type": "code",
   "execution_count": 135,
   "metadata": {},
   "outputs": [],
   "source": [
    "rawdata = []\n"
   ]
  },
  {
   "cell_type": "code",
   "execution_count": 105,
   "metadata": {},
   "outputs": [],
   "source": [
    "N_SAMPLES = 200"
   ]
  },
  {
   "cell_type": "code",
   "execution_count": 146,
   "metadata": {},
   "outputs": [],
   "source": [
    "file_filter = lambda file: file.is_file()\n",
    "friendship_networks_file_names = list(filter(file_filter, (DATA_DIR_PATH / \"offline\").glob(\"**/friendship*\")))\n",
    "health_advice_networks_file_names = list(filter(file_filter, (DATA_DIR_PATH / \"offline\").glob(\"**/health-advice*\")))\n"
   ]
  },
  {
   "cell_type": "code",
   "execution_count": 149,
   "metadata": {},
   "outputs": [
    {
     "data": {
      "text/plain": [
       "[PosixPath('/home/af/Projects/uzh-network-science-project/data/offline/medium/ugandan_village/health-advice_1.gml'),\n",
       " PosixPath('/home/af/Projects/uzh-network-science-project/data/offline/medium/ugandan_village/health-advice_2.gml'),\n",
       " PosixPath('/home/af/Projects/uzh-network-science-project/data/offline/medium/ugandan_village/health-advice_3.gml')]"
      ]
     },
     "execution_count": 149,
     "metadata": {},
     "output_type": "execute_result"
    }
   ],
   "source": [
    "# sort the networks\n",
    "friendship_networks_file_names = sorted(\n",
    "    friendship_networks_file_names,\n",
    "    key=lambda path: get_digits_from_string(path.name).zfill(2),\n",
    ")\n",
    "\n",
    "health_advice_networks_file_names = sorted(\n",
    "    health_advice_networks_file_names,\n",
    "    key=lambda path: get_digits_from_string(path.name).zfill(2),\n",
    ")\n",
    "\n",
    "health_advice_networks_file_names[:3]"
   ]
  },
  {
   "cell_type": "code",
   "execution_count": 151,
   "metadata": {},
   "outputs": [
    {
     "data": {
      "text/plain": [
       "'health-advice_1'"
      ]
     },
     "execution_count": 151,
     "metadata": {},
     "output_type": "execute_result"
    }
   ],
   "source": [
    "health_advice_networks_file_names[0].stem"
   ]
  },
  {
   "cell_type": "code",
   "execution_count": 160,
   "metadata": {},
   "outputs": [],
   "source": [
    "ugandan_village_networks = health_advice_networks_file_names + friendship_networks_file_names"
   ]
  },
  {
   "cell_type": "code",
   "execution_count": 169,
   "metadata": {},
   "outputs": [],
   "source": [
    "rawdata = []"
   ]
  },
  {
   "cell_type": "code",
   "execution_count": 173,
   "metadata": {},
   "outputs": [],
   "source": [
    "# fit null models for all networks and append dataframes containing \n",
    "# properties to rawdata list\n",
    "for network_path in ugandan_village_networks:\n",
    "    dataset = \"ugandan_village\"\n",
    "    network_name = network_path.stem\n",
    "    domain = \"social\"\n",
    "    relation = \"friendship\" if \"friendship\" in network_name else \"health-advice\"\n",
    "    desc = \"offline\"\n",
    "    label = (\n",
    "        \"Friendship ({})\".format(get_digits_from_string(str(network_path)))\n",
    "        if \"friendship\" in network_name\n",
    "        else \"Advice ({})\".format(get_digits_from_string(str(network_path)))\n",
    "    )\n",
    "    graph = ig.Graph.Read_GML(gml_cleaner(network_path))\n",
    "    n_nodes = graph.vcount()\n",
    "    lc  = graph.connected_components().giant()\n",
    "    frac_total = lc.vcount() / graph.vcount()\n",
    "    degseq  = np.array(graph.degree())\n",
    "\n",
    "\n",
    "\n",
    "    net = pd.DataFrame({\n",
    "        \"dataset\": dataset,\n",
    "        \"network_name\": network_name,\n",
    "        \"domain\": domain,\n",
    "        \"relation\": relation,\n",
    "        \"desc\": desc,\n",
    "        \"label\": label,\n",
    "        \"n_nodes\": n_nodes,\n",
    "        \"frac_total\": frac_total,\n",
    "        \"density\":    graph.density(),\n",
    "        \"dbar\":       degseq.mean(),\n",
    "        \"dcv\":        degseq.std() / degseq.mean(),\n",
    "        \"dmax\":       degseq.max()\n",
    "\n",
    "    }, index=[0])\n",
    "\n",
    "    # fit UBCM null model\n",
    "    model = UBCM(graph)\n",
    "    model.fit()\n",
    "    model.validate()\n",
    "    infer = Inference(graph, model, statistics)\n",
    "    data, null = infer.init_comparison(n=N_SAMPLES)\n",
    "    # Estimate fractions of significant nodes\n",
    "    odf = pd.concat(data.pop(\"coefs\").tolist())\n",
    "    ndf = pd.concat(null.pop(\"coefs\").tolist())\n",
    "\n",
    "    infer.add_stats_index(odf)\n",
    "    infer.add_stats_index(ndf)\n",
    "\n",
    "    odf = pd.concat([odf], keys=[0], names=[\"_\"])\n",
    "    ndf = pd.concat([ndf], keys=[0], names=[\"_\"])\n",
    "\n",
    "    alpha = 0.01\n",
    "    pvals = infer.estimate_pvalues(odf, ndf, alpha=alpha, adjust=True)\n",
    "    sig   = (pvals <= alpha)[[\"sim\", \"comp\"]]\n",
    "\n",
    "    sig[\"both\"] = sig.all(axis=1)\n",
    "    sig = sig.mean().to_frame().T\n",
    "\n",
    "    # Compute calibrated coefficients\n",
    "    cdata = np.log(data / null).reset_index(drop=True) \\\n",
    "        .replace([np.inf, -np.inf], np.nan) \\\n",
    "        .dropna() \\\n",
    "        .mean() \\\n",
    "        .to_frame().T\n",
    "\n",
    "    net[\"rawdata\"]     = [data]\n",
    "    net[\"calibrated\"]  = [cdata]\n",
    "    net[\"significant\"] = [sig]\n",
    "    rawdata.append(net)\n"
   ]
  },
  {
   "cell_type": "code",
   "execution_count": 174,
   "metadata": {},
   "outputs": [
    {
     "data": {
      "text/html": [
       "<div>\n",
       "<style scoped>\n",
       "    .dataframe tbody tr th:only-of-type {\n",
       "        vertical-align: middle;\n",
       "    }\n",
       "\n",
       "    .dataframe tbody tr th {\n",
       "        vertical-align: top;\n",
       "    }\n",
       "\n",
       "    .dataframe thead th {\n",
       "        text-align: right;\n",
       "    }\n",
       "</style>\n",
       "<table border=\"1\" class=\"dataframe\">\n",
       "  <thead>\n",
       "    <tr style=\"text-align: right;\">\n",
       "      <th></th>\n",
       "      <th>dataset</th>\n",
       "      <th>network_name</th>\n",
       "      <th>domain</th>\n",
       "      <th>relation</th>\n",
       "      <th>desc</th>\n",
       "      <th>label</th>\n",
       "      <th>n_nodes</th>\n",
       "      <th>frac_total</th>\n",
       "      <th>density</th>\n",
       "      <th>dbar</th>\n",
       "      <th>dcv</th>\n",
       "      <th>dmax</th>\n",
       "      <th>rawdata</th>\n",
       "      <th>calibrated</th>\n",
       "      <th>significant</th>\n",
       "    </tr>\n",
       "  </thead>\n",
       "  <tbody>\n",
       "    <tr>\n",
       "      <th>0</th>\n",
       "      <td>ugandan_village</td>\n",
       "      <td>health-advice_1</td>\n",
       "      <td>social</td>\n",
       "      <td>health-advice</td>\n",
       "      <td>offline</td>\n",
       "      <td>Advice (1)</td>\n",
       "      <td>190</td>\n",
       "      <td>0.984211</td>\n",
       "      <td>0.026344</td>\n",
       "      <td>4.978947</td>\n",
       "      <td>1.271589</td>\n",
       "      <td>61</td>\n",
       "      <td>sim_g       sim     sim_e    comp_g     ...</td>\n",
       "      <td>sim_g       sim     sim_e    comp_g     ...</td>\n",
       "      <td>sim      comp      both\n",
       "0  0.015789  0...</td>\n",
       "    </tr>\n",
       "  </tbody>\n",
       "</table>\n",
       "</div>"
      ],
      "text/plain": [
       "           dataset     network_name  domain       relation     desc  \\\n",
       "0  ugandan_village  health-advice_1  social  health-advice  offline   \n",
       "\n",
       "        label  n_nodes  frac_total   density      dbar       dcv  dmax  \\\n",
       "0  Advice (1)      190    0.984211  0.026344  4.978947  1.271589    61   \n",
       "\n",
       "                                             rawdata  \\\n",
       "0        sim_g       sim     sim_e    comp_g     ...   \n",
       "\n",
       "                                          calibrated  \\\n",
       "0        sim_g       sim     sim_e    comp_g     ...   \n",
       "\n",
       "                                         significant  \n",
       "0          sim      comp      both\n",
       "0  0.015789  0...  "
      ]
     },
     "execution_count": 174,
     "metadata": {},
     "output_type": "execute_result"
    }
   ],
   "source": [
    "rawdata[0]"
   ]
  },
  {
   "cell_type": "code",
   "execution_count": 175,
   "metadata": {},
   "outputs": [
    {
     "data": {
      "text/plain": [
       "['/home/af/Projects/uzh-network-science-project/data/social.pkl.gz']"
      ]
     },
     "execution_count": 175,
     "metadata": {},
     "output_type": "execute_result"
    }
   ],
   "source": [
    "villages = pd.concat(rawdata, axis=0, ignore_index=True)\n",
    "\n",
    "# Save data -------------------------------------------------------------------\n",
    "\n",
    "joblib.dump(villages, DATA_DIR_PATH / \"social.pkl.gz\", compress=True)"
   ]
  },
  {
   "cell_type": "code",
   "execution_count": 109,
   "metadata": {},
   "outputs": [],
   "source": [
    "# get one network for testing the workflow"
   ]
  },
  {
   "cell_type": "code",
   "execution_count": 110,
   "metadata": {},
   "outputs": [],
   "source": [
    "friendship_1_path = friendship_networks_file_names[0]"
   ]
  },
  {
   "cell_type": "code",
   "execution_count": 111,
   "metadata": {},
   "outputs": [],
   "source": [
    "friendship_1 = ig.Graph.Read_GML(gml_cleaner(friendship_1_path))"
   ]
  },
  {
   "cell_type": "code",
   "execution_count": 112,
   "metadata": {},
   "outputs": [
    {
     "data": {
      "text/plain": [
       "202"
      ]
     },
     "execution_count": 112,
     "metadata": {},
     "output_type": "execute_result"
    }
   ],
   "source": [
    "# get (size of) largest component in the good way\n",
    "largest_component = friendship_1.connected_components().giant() ; largest_component.vcount()"
   ]
  },
  {
   "cell_type": "code",
   "execution_count": 113,
   "metadata": {},
   "outputs": [
    {
     "data": {
      "text/plain": [
       "202"
      ]
     },
     "execution_count": 113,
     "metadata": {},
     "output_type": "execute_result"
    }
   ],
   "source": [
    "# get (size of) largest component like in the paper, same result as above but more complicated\n",
    "get_largest_component(friendship_1).vcount()"
   ]
  },
  {
   "cell_type": "code",
   "execution_count": 114,
   "metadata": {},
   "outputs": [
    {
     "data": {
      "text/plain": [
       "203"
      ]
     },
     "execution_count": 114,
     "metadata": {},
     "output_type": "execute_result"
    }
   ],
   "source": [
    "n_nodes = friendship_1.vcount() ; n_nodes"
   ]
  },
  {
   "cell_type": "code",
   "execution_count": 115,
   "metadata": {},
   "outputs": [
    {
     "data": {
      "text/plain": [
       "0.02926401014485685"
      ]
     },
     "execution_count": 115,
     "metadata": {},
     "output_type": "execute_result"
    }
   ],
   "source": [
    "density = friendship_1.density() ; density"
   ]
  },
  {
   "cell_type": "code",
   "execution_count": 116,
   "metadata": {},
   "outputs": [
    {
     "data": {
      "text/plain": [
       "array([ 8, 11,  5, 15,  6, 16, 11,  4,  6, 15,  8, 11, 15,  3,  6,  7,  5,\n",
       "        3,  8,  5,  7,  7, 12,  7, 38,  3,  8, 11,  3,  6,  3,  4,  5,  9,\n",
       "        5, 12,  3,  6,  4,  9,  7,  4,  3,  6,  4,  5,  5,  4,  3,  2,  6,\n",
       "        6, 19,  6,  5,  5,  7,  8, 10,  9,  3, 13,  3,  9,  4,  1,  4,  4,\n",
       "        3,  3,  6,  3,  7, 17,  9,  8,  4,  3,  4,  5, 11,  8, 15,  8, 13,\n",
       "       17,  5,  8,  1,  7,  7,  8,  4,  5,  3,  4,  4,  9, 14, 10,  4,  4,\n",
       "        4,  1,  7,  5,  9,  2, 11, 14,  2,  4,  6,  4,  7,  3,  8,  8,  3,\n",
       "        4,  9,  6,  2, 10,  3,  3,  8,  3,  6, 17,  1,  6,  6,  6, 12,  3,\n",
       "        2,  1,  8,  3,  6,  4,  5,  4, 10,  3,  5,  5,  5,  1,  8,  4,  7,\n",
       "        5,  3,  5,  3,  7,  1,  3,  2,  6,  3,  6,  2,  3,  4,  1,  2,  1,\n",
       "        8,  3,  3,  2,  1,  2,  5,  7,  1,  5,  7,  4,  3,  5,  7,  4,  2,\n",
       "        9,  2,  5, 16,  4,  1,  2,  2,  1,  1,  2,  1,  3,  3,  1,  1])"
      ]
     },
     "execution_count": 116,
     "metadata": {},
     "output_type": "execute_result"
    }
   ],
   "source": [
    "degseq = np.array(friendship_1.degree()); degseq # get degrees "
   ]
  },
  {
   "cell_type": "code",
   "execution_count": 117,
   "metadata": {},
   "outputs": [
    {
     "data": {
      "text/plain": [
       "0.9950738916256158"
      ]
     },
     "execution_count": 117,
     "metadata": {},
     "output_type": "execute_result"
    }
   ],
   "source": [
    "# get fraction of largest connected component\n",
    "largest_component.vcount() / friendship_1.vcount()"
   ]
  },
  {
   "cell_type": "code",
   "execution_count": 118,
   "metadata": {},
   "outputs": [
    {
     "data": {
      "text/plain": [
       "5.911330049261084"
      ]
     },
     "execution_count": 118,
     "metadata": {},
     "output_type": "execute_result"
    }
   ],
   "source": [
    "dbar = degseq.mean() ; dbar # get average degree"
   ]
  },
  {
   "cell_type": "code",
   "execution_count": 119,
   "metadata": {},
   "outputs": [
    {
     "data": {
      "text/plain": [
       "0.7396142012337694"
      ]
     },
     "execution_count": 119,
     "metadata": {},
     "output_type": "execute_result"
    }
   ],
   "source": [
    "dcv = degseq.std() / dbar ; dcv # get degree coefficient of variation"
   ]
  },
  {
   "cell_type": "code",
   "execution_count": 120,
   "metadata": {},
   "outputs": [
    {
     "data": {
      "text/plain": [
       "38"
      ]
     },
     "execution_count": 120,
     "metadata": {},
     "output_type": "execute_result"
    }
   ],
   "source": [
    "dmax = degseq.max() ; dmax # get maximum degree"
   ]
  },
  {
   "cell_type": "code",
   "execution_count": 121,
   "metadata": {},
   "outputs": [
    {
     "data": {
      "text/plain": [
       "False"
      ]
     },
     "execution_count": 121,
     "metadata": {},
     "output_type": "execute_result"
    }
   ],
   "source": [
    "friendship_1.is_directed()"
   ]
  },
  {
   "cell_type": "code",
   "execution_count": 122,
   "metadata": {},
   "outputs": [],
   "source": [
    "net = pd.DataFrame({\n",
    "        \"graph\":      [friendship_1],\n",
    "        \"n_nodes\":    friendship_1.vcount(),\n",
    "        \"frac_total\": largest_component.vcount() / friendship_1.vcount(),\n",
    "        \"density\":    friendship_1.density(),\n",
    "        \"dbar\":       degseq.mean(),\n",
    "        \"dcv\":        degseq.std() / degseq.mean(),\n",
    "        \"dmax\":       degseq.max()\n",
    "    }, index=[0])"
   ]
  },
  {
   "cell_type": "code",
   "execution_count": 123,
   "metadata": {},
   "outputs": [
    {
     "data": {
      "text/html": [
       "<div>\n",
       "<style scoped>\n",
       "    .dataframe tbody tr th:only-of-type {\n",
       "        vertical-align: middle;\n",
       "    }\n",
       "\n",
       "    .dataframe tbody tr th {\n",
       "        vertical-align: top;\n",
       "    }\n",
       "\n",
       "    .dataframe thead th {\n",
       "        text-align: right;\n",
       "    }\n",
       "</style>\n",
       "<table border=\"1\" class=\"dataframe\">\n",
       "  <thead>\n",
       "    <tr style=\"text-align: right;\">\n",
       "      <th></th>\n",
       "      <th>graph</th>\n",
       "      <th>n_nodes</th>\n",
       "      <th>frac_total</th>\n",
       "      <th>density</th>\n",
       "      <th>dbar</th>\n",
       "      <th>dcv</th>\n",
       "      <th>dmax</th>\n",
       "    </tr>\n",
       "  </thead>\n",
       "  <tbody>\n",
       "    <tr>\n",
       "      <th>0</th>\n",
       "      <td>IGRAPH U--- 203 600 --\\n+ attr: id (v), id (e)...</td>\n",
       "      <td>203</td>\n",
       "      <td>0.995074</td>\n",
       "      <td>0.029264</td>\n",
       "      <td>5.91133</td>\n",
       "      <td>0.739614</td>\n",
       "      <td>38</td>\n",
       "    </tr>\n",
       "  </tbody>\n",
       "</table>\n",
       "</div>"
      ],
      "text/plain": [
       "                                               graph  n_nodes  frac_total  \\\n",
       "0  IGRAPH U--- 203 600 --\\n+ attr: id (v), id (e)...      203    0.995074   \n",
       "\n",
       "    density     dbar       dcv  dmax  \n",
       "0  0.029264  5.91133  0.739614    38  "
      ]
     },
     "execution_count": 123,
     "metadata": {},
     "output_type": "execute_result"
    }
   ],
   "source": [
    "net"
   ]
  },
  {
   "cell_type": "code",
   "execution_count": 124,
   "metadata": {},
   "outputs": [
    {
     "data": {
      "text/plain": [
       "<pathcensus.nullmodels.ubcm.UBCM at 0x7fc3577f5d30>"
      ]
     },
     "execution_count": 124,
     "metadata": {},
     "output_type": "execute_result"
    }
   ],
   "source": [
    "# fit UBCM null model\n",
    "model = UBCM(friendship_1)\n",
    "model.fit()\n",
    "model.validate()\n"
   ]
  },
  {
   "cell_type": "code",
   "execution_count": 125,
   "metadata": {},
   "outputs": [],
   "source": [
    "infer = Inference(friendship_1, model, statistics)\n",
    "data, null = infer.init_comparison(n=N_SAMPLES)\n"
   ]
  },
  {
   "cell_type": "code",
   "execution_count": 126,
   "metadata": {},
   "outputs": [],
   "source": [
    "# Estimate fractions of significant nodes\n",
    "odf = pd.concat(data.pop(\"coefs\").tolist())\n",
    "ndf = pd.concat(null.pop(\"coefs\").tolist())\n"
   ]
  },
  {
   "cell_type": "code",
   "execution_count": 127,
   "metadata": {},
   "outputs": [
    {
     "data": {
      "text/html": [
       "<div>\n",
       "<style scoped>\n",
       "    .dataframe tbody tr th:only-of-type {\n",
       "        vertical-align: middle;\n",
       "    }\n",
       "\n",
       "    .dataframe tbody tr th {\n",
       "        vertical-align: top;\n",
       "    }\n",
       "\n",
       "    .dataframe thead th {\n",
       "        text-align: right;\n",
       "    }\n",
       "</style>\n",
       "<table border=\"1\" class=\"dataframe\">\n",
       "  <thead>\n",
       "    <tr style=\"text-align: right;\">\n",
       "      <th></th>\n",
       "      <th></th>\n",
       "      <th>sim</th>\n",
       "      <th>tclust</th>\n",
       "      <th>tclosure</th>\n",
       "      <th>comp</th>\n",
       "      <th>qclust</th>\n",
       "      <th>qclosure</th>\n",
       "    </tr>\n",
       "    <tr>\n",
       "      <th>i</th>\n",
       "      <th>di</th>\n",
       "      <th></th>\n",
       "      <th></th>\n",
       "      <th></th>\n",
       "      <th></th>\n",
       "      <th></th>\n",
       "      <th></th>\n",
       "    </tr>\n",
       "  </thead>\n",
       "  <tbody>\n",
       "    <tr>\n",
       "      <th>0</th>\n",
       "      <th>6.0</th>\n",
       "      <td>0.066667</td>\n",
       "      <td>0.071429</td>\n",
       "      <td>0.062500</td>\n",
       "      <td>0.020683</td>\n",
       "      <td>0.022523</td>\n",
       "      <td>0.019120</td>\n",
       "    </tr>\n",
       "    <tr>\n",
       "      <th>1</th>\n",
       "      <th>7.0</th>\n",
       "      <td>0.117647</td>\n",
       "      <td>0.138889</td>\n",
       "      <td>0.102041</td>\n",
       "      <td>0.029777</td>\n",
       "      <td>0.031008</td>\n",
       "      <td>0.028640</td>\n",
       "    </tr>\n",
       "    <tr>\n",
       "      <th>2</th>\n",
       "      <th>4.0</th>\n",
       "      <td>0.000000</td>\n",
       "      <td>0.000000</td>\n",
       "      <td>0.000000</td>\n",
       "      <td>0.000000</td>\n",
       "      <td>0.000000</td>\n",
       "      <td>0.000000</td>\n",
       "    </tr>\n",
       "    <tr>\n",
       "      <th>3</th>\n",
       "      <th>14.0</th>\n",
       "      <td>0.031496</td>\n",
       "      <td>0.035714</td>\n",
       "      <td>0.028169</td>\n",
       "      <td>0.031128</td>\n",
       "      <td>0.032323</td>\n",
       "      <td>0.030019</td>\n",
       "    </tr>\n",
       "    <tr>\n",
       "      <th>4</th>\n",
       "      <th>6.0</th>\n",
       "      <td>0.000000</td>\n",
       "      <td>0.000000</td>\n",
       "      <td>0.000000</td>\n",
       "      <td>0.000000</td>\n",
       "      <td>0.000000</td>\n",
       "      <td>0.000000</td>\n",
       "    </tr>\n",
       "    <tr>\n",
       "      <th>...</th>\n",
       "      <th>...</th>\n",
       "      <td>...</td>\n",
       "      <td>...</td>\n",
       "      <td>...</td>\n",
       "      <td>...</td>\n",
       "      <td>...</td>\n",
       "      <td>...</td>\n",
       "    </tr>\n",
       "    <tr>\n",
       "      <th>198</th>\n",
       "      <th>1.0</th>\n",
       "      <td>0.000000</td>\n",
       "      <td>0.000000</td>\n",
       "      <td>0.000000</td>\n",
       "      <td>0.000000</td>\n",
       "      <td>0.000000</td>\n",
       "      <td>0.000000</td>\n",
       "    </tr>\n",
       "    <tr>\n",
       "      <th>199</th>\n",
       "      <th>2.0</th>\n",
       "      <td>NaN</td>\n",
       "      <td>NaN</td>\n",
       "      <td>NaN</td>\n",
       "      <td>NaN</td>\n",
       "      <td>NaN</td>\n",
       "      <td>NaN</td>\n",
       "    </tr>\n",
       "    <tr>\n",
       "      <th>200</th>\n",
       "      <th>3.0</th>\n",
       "      <td>0.000000</td>\n",
       "      <td>0.000000</td>\n",
       "      <td>0.000000</td>\n",
       "      <td>0.000000</td>\n",
       "      <td>0.000000</td>\n",
       "      <td>0.000000</td>\n",
       "    </tr>\n",
       "    <tr>\n",
       "      <th>201</th>\n",
       "      <th>1.0</th>\n",
       "      <td>0.000000</td>\n",
       "      <td>NaN</td>\n",
       "      <td>0.000000</td>\n",
       "      <td>0.000000</td>\n",
       "      <td>NaN</td>\n",
       "      <td>0.000000</td>\n",
       "    </tr>\n",
       "    <tr>\n",
       "      <th>202</th>\n",
       "      <th>1.0</th>\n",
       "      <td>NaN</td>\n",
       "      <td>NaN</td>\n",
       "      <td>NaN</td>\n",
       "      <td>NaN</td>\n",
       "      <td>NaN</td>\n",
       "      <td>NaN</td>\n",
       "    </tr>\n",
       "  </tbody>\n",
       "</table>\n",
       "<p>40600 rows × 6 columns</p>\n",
       "</div>"
      ],
      "text/plain": [
       "               sim    tclust  tclosure      comp    qclust  qclosure\n",
       "i   di                                                              \n",
       "0   6.0   0.066667  0.071429  0.062500  0.020683  0.022523  0.019120\n",
       "1   7.0   0.117647  0.138889  0.102041  0.029777  0.031008  0.028640\n",
       "2   4.0   0.000000  0.000000  0.000000  0.000000  0.000000  0.000000\n",
       "3   14.0  0.031496  0.035714  0.028169  0.031128  0.032323  0.030019\n",
       "4   6.0   0.000000  0.000000  0.000000  0.000000  0.000000  0.000000\n",
       "...            ...       ...       ...       ...       ...       ...\n",
       "198 1.0   0.000000  0.000000  0.000000  0.000000  0.000000  0.000000\n",
       "199 2.0        NaN       NaN       NaN       NaN       NaN       NaN\n",
       "200 3.0   0.000000  0.000000  0.000000  0.000000  0.000000  0.000000\n",
       "201 1.0   0.000000       NaN  0.000000  0.000000       NaN  0.000000\n",
       "202 1.0        NaN       NaN       NaN       NaN       NaN       NaN\n",
       "\n",
       "[40600 rows x 6 columns]"
      ]
     },
     "execution_count": 127,
     "metadata": {},
     "output_type": "execute_result"
    }
   ],
   "source": [
    "infer.add_stats_index(odf)\n",
    "infer.add_stats_index(ndf)"
   ]
  },
  {
   "cell_type": "code",
   "execution_count": 128,
   "metadata": {},
   "outputs": [],
   "source": [
    "odf = pd.concat([odf], keys=[0], names=[\"_\"])\n",
    "ndf = pd.concat([ndf], keys=[0], names=[\"_\"])"
   ]
  },
  {
   "cell_type": "code",
   "execution_count": 129,
   "metadata": {},
   "outputs": [
    {
     "data": {
      "text/html": [
       "<div>\n",
       "<style scoped>\n",
       "    .dataframe tbody tr th:only-of-type {\n",
       "        vertical-align: middle;\n",
       "    }\n",
       "\n",
       "    .dataframe tbody tr th {\n",
       "        vertical-align: top;\n",
       "    }\n",
       "\n",
       "    .dataframe thead th {\n",
       "        text-align: right;\n",
       "    }\n",
       "</style>\n",
       "<table border=\"1\" class=\"dataframe\">\n",
       "  <thead>\n",
       "    <tr style=\"text-align: right;\">\n",
       "      <th></th>\n",
       "      <th></th>\n",
       "      <th></th>\n",
       "      <th>sim</th>\n",
       "      <th>tclust</th>\n",
       "      <th>tclosure</th>\n",
       "      <th>comp</th>\n",
       "      <th>qclust</th>\n",
       "      <th>qclosure</th>\n",
       "    </tr>\n",
       "    <tr>\n",
       "      <th>_</th>\n",
       "      <th>i</th>\n",
       "      <th>di</th>\n",
       "      <th></th>\n",
       "      <th></th>\n",
       "      <th></th>\n",
       "      <th></th>\n",
       "      <th></th>\n",
       "      <th></th>\n",
       "    </tr>\n",
       "  </thead>\n",
       "  <tbody>\n",
       "    <tr>\n",
       "      <th rowspan=\"11\" valign=\"top\">0</th>\n",
       "      <th>0</th>\n",
       "      <th>6.0</th>\n",
       "      <td>0.246914</td>\n",
       "      <td>0.333333</td>\n",
       "      <td>0.196078</td>\n",
       "      <td>0.043143</td>\n",
       "      <td>0.057143</td>\n",
       "      <td>0.034653</td>\n",
       "    </tr>\n",
       "    <tr>\n",
       "      <th>1</th>\n",
       "      <th>7.0</th>\n",
       "      <td>0.156863</td>\n",
       "      <td>0.190476</td>\n",
       "      <td>0.133333</td>\n",
       "      <td>0.039360</td>\n",
       "      <td>0.045455</td>\n",
       "      <td>0.034707</td>\n",
       "    </tr>\n",
       "    <tr>\n",
       "      <th>2</th>\n",
       "      <th>4.0</th>\n",
       "      <td>0.195122</td>\n",
       "      <td>0.333333</td>\n",
       "      <td>0.137931</td>\n",
       "      <td>0.000000</td>\n",
       "      <td>0.000000</td>\n",
       "      <td>0.000000</td>\n",
       "    </tr>\n",
       "    <tr>\n",
       "      <th>3</th>\n",
       "      <th>14.0</th>\n",
       "      <td>0.136054</td>\n",
       "      <td>0.109890</td>\n",
       "      <td>0.178571</td>\n",
       "      <td>0.035614</td>\n",
       "      <td>0.026462</td>\n",
       "      <td>0.054441</td>\n",
       "    </tr>\n",
       "    <tr>\n",
       "      <th>4</th>\n",
       "      <th>6.0</th>\n",
       "      <td>0.141176</td>\n",
       "      <td>0.200000</td>\n",
       "      <td>0.109091</td>\n",
       "      <td>0.018018</td>\n",
       "      <td>0.022305</td>\n",
       "      <td>0.015113</td>\n",
       "    </tr>\n",
       "    <tr>\n",
       "      <th>...</th>\n",
       "      <th>...</th>\n",
       "      <td>...</td>\n",
       "      <td>...</td>\n",
       "      <td>...</td>\n",
       "      <td>...</td>\n",
       "      <td>...</td>\n",
       "      <td>...</td>\n",
       "    </tr>\n",
       "    <tr>\n",
       "      <th>198</th>\n",
       "      <th>1.0</th>\n",
       "      <td>0.000000</td>\n",
       "      <td>NaN</td>\n",
       "      <td>0.000000</td>\n",
       "      <td>0.000000</td>\n",
       "      <td>NaN</td>\n",
       "      <td>0.000000</td>\n",
       "    </tr>\n",
       "    <tr>\n",
       "      <th>199</th>\n",
       "      <th>2.0</th>\n",
       "      <td>0.000000</td>\n",
       "      <td>0.000000</td>\n",
       "      <td>0.000000</td>\n",
       "      <td>0.000000</td>\n",
       "      <td>0.000000</td>\n",
       "      <td>0.000000</td>\n",
       "    </tr>\n",
       "    <tr>\n",
       "      <th>200</th>\n",
       "      <th>3.0</th>\n",
       "      <td>0.000000</td>\n",
       "      <td>0.000000</td>\n",
       "      <td>0.000000</td>\n",
       "      <td>0.000000</td>\n",
       "      <td>0.000000</td>\n",
       "      <td>0.000000</td>\n",
       "    </tr>\n",
       "    <tr>\n",
       "      <th>201</th>\n",
       "      <th>1.0</th>\n",
       "      <td>0.000000</td>\n",
       "      <td>NaN</td>\n",
       "      <td>0.000000</td>\n",
       "      <td>0.000000</td>\n",
       "      <td>NaN</td>\n",
       "      <td>0.000000</td>\n",
       "    </tr>\n",
       "    <tr>\n",
       "      <th>202</th>\n",
       "      <th>1.0</th>\n",
       "      <td>0.000000</td>\n",
       "      <td>NaN</td>\n",
       "      <td>0.000000</td>\n",
       "      <td>0.000000</td>\n",
       "      <td>NaN</td>\n",
       "      <td>0.000000</td>\n",
       "    </tr>\n",
       "  </tbody>\n",
       "</table>\n",
       "<p>203 rows × 6 columns</p>\n",
       "</div>"
      ],
      "text/plain": [
       "                 sim    tclust  tclosure      comp    qclust  qclosure\n",
       "_ i   di                                                              \n",
       "0 0   6.0   0.246914  0.333333  0.196078  0.043143  0.057143  0.034653\n",
       "  1   7.0   0.156863  0.190476  0.133333  0.039360  0.045455  0.034707\n",
       "  2   4.0   0.195122  0.333333  0.137931  0.000000  0.000000  0.000000\n",
       "  3   14.0  0.136054  0.109890  0.178571  0.035614  0.026462  0.054441\n",
       "  4   6.0   0.141176  0.200000  0.109091  0.018018  0.022305  0.015113\n",
       "...              ...       ...       ...       ...       ...       ...\n",
       "  198 1.0   0.000000       NaN  0.000000  0.000000       NaN  0.000000\n",
       "  199 2.0   0.000000  0.000000  0.000000  0.000000  0.000000  0.000000\n",
       "  200 3.0   0.000000  0.000000  0.000000  0.000000  0.000000  0.000000\n",
       "  201 1.0   0.000000       NaN  0.000000  0.000000       NaN  0.000000\n",
       "  202 1.0   0.000000       NaN  0.000000  0.000000       NaN  0.000000\n",
       "\n",
       "[203 rows x 6 columns]"
      ]
     },
     "execution_count": 129,
     "metadata": {},
     "output_type": "execute_result"
    }
   ],
   "source": [
    "odf"
   ]
  },
  {
   "cell_type": "code",
   "execution_count": 130,
   "metadata": {},
   "outputs": [],
   "source": [
    "alpha = 0.01\n",
    "pvals = infer.estimate_pvalues(odf, ndf, alpha=alpha, adjust=True)\n",
    "sig   = (pvals <= alpha)[[\"sim\", \"comp\"]]"
   ]
  },
  {
   "cell_type": "code",
   "execution_count": 131,
   "metadata": {},
   "outputs": [],
   "source": [
    "sig[\"both\"] = sig.all(axis=1)\n",
    "sig = sig.mean().to_frame().T"
   ]
  },
  {
   "cell_type": "code",
   "execution_count": 132,
   "metadata": {},
   "outputs": [],
   "source": [
    "# Compute calibrated coefficients\n",
    "cdata = np.log(data / null).reset_index(drop=True) \\\n",
    "    .replace([np.inf, -np.inf], np.nan) \\\n",
    "    .dropna() \\\n",
    "    .mean() \\\n",
    "    .to_frame().T\n",
    "\n",
    "net[\"rawdata\"]     = [data]\n",
    "net[\"calibrated\"]  = [cdata]\n",
    "net[\"significant\"] = [sig]\n"
   ]
  },
  {
   "cell_type": "code",
   "execution_count": 133,
   "metadata": {},
   "outputs": [
    {
     "data": {
      "text/html": [
       "<div>\n",
       "<style scoped>\n",
       "    .dataframe tbody tr th:only-of-type {\n",
       "        vertical-align: middle;\n",
       "    }\n",
       "\n",
       "    .dataframe tbody tr th {\n",
       "        vertical-align: top;\n",
       "    }\n",
       "\n",
       "    .dataframe thead th {\n",
       "        text-align: right;\n",
       "    }\n",
       "</style>\n",
       "<table border=\"1\" class=\"dataframe\">\n",
       "  <thead>\n",
       "    <tr style=\"text-align: right;\">\n",
       "      <th></th>\n",
       "      <th>graph</th>\n",
       "      <th>n_nodes</th>\n",
       "      <th>frac_total</th>\n",
       "      <th>density</th>\n",
       "      <th>dbar</th>\n",
       "      <th>dcv</th>\n",
       "      <th>dmax</th>\n",
       "      <th>rawdata</th>\n",
       "      <th>calibrated</th>\n",
       "      <th>significant</th>\n",
       "    </tr>\n",
       "  </thead>\n",
       "  <tbody>\n",
       "    <tr>\n",
       "      <th>0</th>\n",
       "      <td>IGRAPH U--- 203 600 --\\n+ attr: id (v), id (e)...</td>\n",
       "      <td>203</td>\n",
       "      <td>0.995074</td>\n",
       "      <td>0.029264</td>\n",
       "      <td>5.91133</td>\n",
       "      <td>0.739614</td>\n",
       "      <td>38</td>\n",
       "      <td>sim_g       sim     sim_e    comp_g     ...</td>\n",
       "      <td>sim_g       sim     sim_e    comp_g     ...</td>\n",
       "      <td>sim      comp      both\n",
       "0  0.009852  0...</td>\n",
       "    </tr>\n",
       "  </tbody>\n",
       "</table>\n",
       "</div>"
      ],
      "text/plain": [
       "                                               graph  n_nodes  frac_total  \\\n",
       "0  IGRAPH U--- 203 600 --\\n+ attr: id (v), id (e)...      203    0.995074   \n",
       "\n",
       "    density     dbar       dcv  dmax  \\\n",
       "0  0.029264  5.91133  0.739614    38   \n",
       "\n",
       "                                             rawdata  \\\n",
       "0        sim_g       sim     sim_e    comp_g     ...   \n",
       "\n",
       "                                          calibrated  \\\n",
       "0        sim_g       sim     sim_e    comp_g     ...   \n",
       "\n",
       "                                         significant  \n",
       "0          sim      comp      both\n",
       "0  0.009852  0...  "
      ]
     },
     "execution_count": 133,
     "metadata": {},
     "output_type": "execute_result"
    }
   ],
   "source": [
    "net"
   ]
  },
  {
   "cell_type": "code",
   "execution_count": 138,
   "metadata": {},
   "outputs": [],
   "source": [
    "rawdata.append(net)"
   ]
  },
  {
   "cell_type": "code",
   "execution_count": 140,
   "metadata": {},
   "outputs": [
    {
     "data": {
      "text/plain": [
       "['/home/af/Projects/uzh-network-science-project/data/villages.pkl.gz']"
      ]
     },
     "execution_count": 140,
     "metadata": {},
     "output_type": "execute_result"
    }
   ],
   "source": [
    "villages = pd.concat(rawdata, axis=0, ignore_index=True)\n",
    "\n",
    "# Save data -------------------------------------------------------------------\n",
    "\n",
    "joblib.dump(villages, DATA_DIR_PATH / \"villages.pkl.gz\", compress=True)"
   ]
  },
  {
   "cell_type": "code",
   "execution_count": null,
   "metadata": {},
   "outputs": [],
   "source": []
  }
 ],
 "metadata": {
  "kernelspec": {
   "display_name": "Python 3.8.15 ('ns-project')",
   "language": "python",
   "name": "python3"
  },
  "language_info": {
   "codemirror_mode": {
    "name": "ipython",
    "version": 3
   },
   "file_extension": ".py",
   "mimetype": "text/x-python",
   "name": "python",
   "nbconvert_exporter": "python",
   "pygments_lexer": "ipython3",
   "version": "3.8.15"
  },
  "orig_nbformat": 4,
  "vscode": {
   "interpreter": {
    "hash": "92eeb2fd4dd9b582e38232a6a7b7054c4611accb0eebb75b041327f0c6d5f098"
   }
  }
 },
 "nbformat": 4,
 "nbformat_minor": 2
}
