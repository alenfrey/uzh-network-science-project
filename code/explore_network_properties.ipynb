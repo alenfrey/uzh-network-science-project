{
 "cells": [
  {
   "cell_type": "code",
   "execution_count": 43,
   "metadata": {},
   "outputs": [
    {
     "name": "stdout",
     "output_type": "stream",
     "text": [
      "The autoreload extension is already loaded. To reload it, use:\n",
      "  %reload_ext autoreload\n"
     ]
    }
   ],
   "source": [
    "# reload imported files automatically without restarting the kernel\n",
    "%load_ext autoreload\n",
    "%autoreload 2"
   ]
  },
  {
   "cell_type": "code",
   "execution_count": 49,
   "metadata": {},
   "outputs": [],
   "source": [
    "from lib import *\n",
    "from humanfriendly import format_size\n",
    "from functools import reduce"
   ]
  },
  {
   "cell_type": "code",
   "execution_count": 45,
   "metadata": {},
   "outputs": [],
   "source": [
    "all_online_networks = pd.read_csv(DATA_DIR_PATH / \"online_social_networks.csv\")\n",
    "all_offline_networks = pd.read_csv(DATA_DIR_PATH / \"offline_social_networks.csv\")"
   ]
  },
  {
   "cell_type": "code",
   "execution_count": 63,
   "metadata": {},
   "outputs": [],
   "source": [
    "small_online_networks = all_online_networks[\"nodes_qcut\"] == \"small\"\n",
    "medium_online_networks = all_online_networks[\"nodes_qcut\"] == \"medium\"\n",
    "large_online_networks = all_online_networks[\"nodes_qcut\"] == \"large\""
   ]
  },
  {
   "cell_type": "code",
   "execution_count": 64,
   "metadata": {},
   "outputs": [
    {
     "data": {
      "text/html": [
       "<div>\n",
       "<style scoped>\n",
       "    .dataframe tbody tr th:only-of-type {\n",
       "        vertical-align: middle;\n",
       "    }\n",
       "\n",
       "    .dataframe tbody tr th {\n",
       "        vertical-align: top;\n",
       "    }\n",
       "\n",
       "    .dataframe thead th {\n",
       "        text-align: right;\n",
       "    }\n",
       "</style>\n",
       "<table border=\"1\" class=\"dataframe\">\n",
       "  <thead>\n",
       "    <tr style=\"text-align: right;\">\n",
       "      <th></th>\n",
       "      <th>group</th>\n",
       "      <th>name</th>\n",
       "      <th>nodes</th>\n",
       "      <th>edges</th>\n",
       "      <th>avg_degree</th>\n",
       "      <th>std_dev_degree</th>\n",
       "      <th>largest_eigenvalue_hashimoto</th>\n",
       "      <th>random_walk_mixing_time</th>\n",
       "      <th>degree_assortativity</th>\n",
       "      <th>global_clustering</th>\n",
       "      <th>diameter</th>\n",
       "      <th>relative_size_of_largest_component</th>\n",
       "      <th>kind</th>\n",
       "      <th>mode</th>\n",
       "      <th>node_properties</th>\n",
       "      <th>edge_properties</th>\n",
       "      <th>gml_file_size</th>\n",
       "      <th>nodes_qcut</th>\n",
       "      <th>gml_file_size_bytes</th>\n",
       "    </tr>\n",
       "  </thead>\n",
       "  <tbody>\n",
       "    <tr>\n",
       "      <th>0</th>\n",
       "      <td>douban</td>\n",
       "      <td>douban</td>\n",
       "      <td>154908</td>\n",
       "      <td>327162</td>\n",
       "      <td>4.22</td>\n",
       "      <td>11.75</td>\n",
       "      <td>39.78</td>\n",
       "      <td>103.63</td>\n",
       "      <td>-0.18</td>\n",
       "      <td>0.01</td>\n",
       "      <td>9</td>\n",
       "      <td>1.00</td>\n",
       "      <td>Undirected</td>\n",
       "      <td>Unipartite</td>\n",
       "      <td>NaN</td>\n",
       "      <td>NaN</td>\n",
       "      <td>3460300</td>\n",
       "      <td>large</td>\n",
       "      <td>3460300</td>\n",
       "    </tr>\n",
       "    <tr>\n",
       "      <th>1</th>\n",
       "      <td>ego_social</td>\n",
       "      <td>facebook_0</td>\n",
       "      <td>333</td>\n",
       "      <td>2519</td>\n",
       "      <td>15.13</td>\n",
       "      <td>15.51</td>\n",
       "      <td>35.79</td>\n",
       "      <td>172.26</td>\n",
       "      <td>0.24</td>\n",
       "      <td>0.43</td>\n",
       "      <td>11</td>\n",
       "      <td>0.97</td>\n",
       "      <td>Undirected</td>\n",
       "      <td>Unipartite</td>\n",
       "      <td>name  feat  circles</td>\n",
       "      <td>NaN</td>\n",
       "      <td>22528</td>\n",
       "      <td>small</td>\n",
       "      <td>22528</td>\n",
       "    </tr>\n",
       "    <tr>\n",
       "      <th>2</th>\n",
       "      <td>ego_social</td>\n",
       "      <td>facebook_107</td>\n",
       "      <td>1034</td>\n",
       "      <td>26749</td>\n",
       "      <td>51.74</td>\n",
       "      <td>47.00</td>\n",
       "      <td>122.05</td>\n",
       "      <td>51.91</td>\n",
       "      <td>0.43</td>\n",
       "      <td>0.50</td>\n",
       "      <td>9</td>\n",
       "      <td>1.00</td>\n",
       "      <td>Undirected</td>\n",
       "      <td>Unipartite</td>\n",
       "      <td>name  feat  circles</td>\n",
       "      <td>NaN</td>\n",
       "      <td>121856</td>\n",
       "      <td>medium</td>\n",
       "      <td>121856</td>\n",
       "    </tr>\n",
       "    <tr>\n",
       "      <th>3</th>\n",
       "      <td>ego_social</td>\n",
       "      <td>facebook_348</td>\n",
       "      <td>224</td>\n",
       "      <td>3192</td>\n",
       "      <td>28.50</td>\n",
       "      <td>22.37</td>\n",
       "      <td>48.64</td>\n",
       "      <td>81.92</td>\n",
       "      <td>0.22</td>\n",
       "      <td>0.49</td>\n",
       "      <td>9</td>\n",
       "      <td>1.00</td>\n",
       "      <td>Undirected</td>\n",
       "      <td>Unipartite</td>\n",
       "      <td>name  feat  circles</td>\n",
       "      <td>NaN</td>\n",
       "      <td>19456</td>\n",
       "      <td>small</td>\n",
       "      <td>19456</td>\n",
       "    </tr>\n",
       "    <tr>\n",
       "      <th>4</th>\n",
       "      <td>ego_social</td>\n",
       "      <td>facebook_414</td>\n",
       "      <td>150</td>\n",
       "      <td>1693</td>\n",
       "      <td>22.57</td>\n",
       "      <td>13.06</td>\n",
       "      <td>34.42</td>\n",
       "      <td>243.01</td>\n",
       "      <td>0.31</td>\n",
       "      <td>0.65</td>\n",
       "      <td>7</td>\n",
       "      <td>0.99</td>\n",
       "      <td>Undirected</td>\n",
       "      <td>Unipartite</td>\n",
       "      <td>name  feat  circles</td>\n",
       "      <td>NaN</td>\n",
       "      <td>11264</td>\n",
       "      <td>small</td>\n",
       "      <td>11264</td>\n",
       "    </tr>\n",
       "  </tbody>\n",
       "</table>\n",
       "</div>"
      ],
      "text/plain": [
       "        group          name   nodes   edges  avg_degree  std_dev_degree  \\\n",
       "0      douban        douban  154908  327162        4.22           11.75   \n",
       "1  ego_social    facebook_0     333    2519       15.13           15.51   \n",
       "2  ego_social  facebook_107    1034   26749       51.74           47.00   \n",
       "3  ego_social  facebook_348     224    3192       28.50           22.37   \n",
       "4  ego_social  facebook_414     150    1693       22.57           13.06   \n",
       "\n",
       "   largest_eigenvalue_hashimoto  random_walk_mixing_time  \\\n",
       "0                         39.78                   103.63   \n",
       "1                         35.79                   172.26   \n",
       "2                        122.05                    51.91   \n",
       "3                         48.64                    81.92   \n",
       "4                         34.42                   243.01   \n",
       "\n",
       "   degree_assortativity  global_clustering  diameter  \\\n",
       "0                 -0.18               0.01         9   \n",
       "1                  0.24               0.43        11   \n",
       "2                  0.43               0.50         9   \n",
       "3                  0.22               0.49         9   \n",
       "4                  0.31               0.65         7   \n",
       "\n",
       "   relative_size_of_largest_component        kind        mode  \\\n",
       "0                                1.00  Undirected  Unipartite   \n",
       "1                                0.97  Undirected  Unipartite   \n",
       "2                                1.00  Undirected  Unipartite   \n",
       "3                                1.00  Undirected  Unipartite   \n",
       "4                                0.99  Undirected  Unipartite   \n",
       "\n",
       "       node_properties edge_properties  gml_file_size nodes_qcut  \\\n",
       "0                  NaN             NaN        3460300      large   \n",
       "1  name  feat  circles             NaN          22528      small   \n",
       "2  name  feat  circles             NaN         121856     medium   \n",
       "3  name  feat  circles             NaN          19456      small   \n",
       "4  name  feat  circles             NaN          11264      small   \n",
       "\n",
       "   gml_file_size_bytes  \n",
       "0              3460300  \n",
       "1                22528  \n",
       "2               121856  \n",
       "3                19456  \n",
       "4                11264  "
      ]
     },
     "execution_count": 64,
     "metadata": {},
     "output_type": "execute_result"
    }
   ],
   "source": [
    "all_online_networks.head()"
   ]
  },
  {
   "cell_type": "code",
   "execution_count": 87,
   "metadata": {},
   "outputs": [
    {
     "data": {
      "text/html": [
       "<div>\n",
       "<style scoped>\n",
       "    .dataframe tbody tr th:only-of-type {\n",
       "        vertical-align: middle;\n",
       "    }\n",
       "\n",
       "    .dataframe tbody tr th {\n",
       "        vertical-align: top;\n",
       "    }\n",
       "\n",
       "    .dataframe thead tr th {\n",
       "        text-align: left;\n",
       "    }\n",
       "\n",
       "    .dataframe thead tr:last-of-type th {\n",
       "        text-align: right;\n",
       "    }\n",
       "</style>\n",
       "<table border=\"1\" class=\"dataframe\">\n",
       "  <thead>\n",
       "    <tr>\n",
       "      <th></th>\n",
       "      <th colspan=\"3\" halign=\"left\">gml_file_size</th>\n",
       "    </tr>\n",
       "    <tr>\n",
       "      <th></th>\n",
       "      <th>&lt;lambda_0&gt;</th>\n",
       "      <th>count</th>\n",
       "      <th>median</th>\n",
       "    </tr>\n",
       "    <tr>\n",
       "      <th>nodes_qcut</th>\n",
       "      <th></th>\n",
       "      <th></th>\n",
       "      <th></th>\n",
       "    </tr>\n",
       "  </thead>\n",
       "  <tbody>\n",
       "    <tr>\n",
       "      <th>large</th>\n",
       "      <td>11.08 GiB</td>\n",
       "      <td>57</td>\n",
       "      <td>2306867.0</td>\n",
       "    </tr>\n",
       "    <tr>\n",
       "      <th>medium</th>\n",
       "      <td>30.55 MiB</td>\n",
       "      <td>56</td>\n",
       "      <td>382976.0</td>\n",
       "    </tr>\n",
       "    <tr>\n",
       "      <th>small</th>\n",
       "      <td>1.76 MiB</td>\n",
       "      <td>57</td>\n",
       "      <td>23552.0</td>\n",
       "    </tr>\n",
       "  </tbody>\n",
       "</table>\n",
       "</div>"
      ],
      "text/plain": [
       "           gml_file_size                 \n",
       "              <lambda_0> count     median\n",
       "nodes_qcut                               \n",
       "large          11.08 GiB    57  2306867.0\n",
       "medium         30.55 MiB    56   382976.0\n",
       "small           1.76 MiB    57    23552.0"
      ]
     },
     "execution_count": 87,
     "metadata": {},
     "output_type": "execute_result"
    }
   ],
   "source": [
    "# calculate dataset sizes per group\n",
    "all_online_networks.groupby(\"nodes_qcut\").agg({\"gml_file_size\": [lambda val: format_size(val.sum(), binary=True), \"count\", \"median\"]})"
   ]
  },
  {
   "cell_type": "code",
   "execution_count": 65,
   "metadata": {},
   "outputs": [
    {
     "data": {
      "text/plain": [
       "'11.11 GiB'"
      ]
     },
     "execution_count": 65,
     "metadata": {},
     "output_type": "execute_result"
    }
   ],
   "source": [
    "# get total size of all online network datasets\n",
    "format_size(reduce(lambda x, y: x + y, all_online_networks[\"gml_file_size\"]), binary=True)"
   ]
  },
  {
   "cell_type": "code",
   "execution_count": 11,
   "metadata": {},
   "outputs": [
    {
     "data": {
      "text/plain": [
       "Text(0.5, 1.0, 'Counts of network modes of online networks')"
      ]
     },
     "execution_count": 11,
     "metadata": {},
     "output_type": "execute_result"
    },
    {
     "data": {
      "image/png": "[encoded data removed]",
      "text/plain": [
       "<Figure size 640x480 with 1 Axes>"
      ]
     },
     "metadata": {},
     "output_type": "display_data"
    }
   ],
   "source": [
    "all_online_networks[\"mode\"].value_counts().sort_values().plot(kind = 'bar')\n",
    "plt.title(\"Counts of network modes of online networks\")"
   ]
  },
  {
   "cell_type": "code",
   "execution_count": 20,
   "metadata": {},
   "outputs": [
    {
     "data": {
      "text/plain": [
       "Text(0.5, 1.0, 'Distribution of Network Diameters')"
      ]
     },
     "execution_count": 20,
     "metadata": {},
     "output_type": "execute_result"
    },
    {
     "data": {
      "image/png": "[encoded data removed]",
      "text/plain": [
       "<Figure size 640x480 with 1 Axes>"
      ]
     },
     "metadata": {},
     "output_type": "display_data"
    }
   ],
   "source": [
    "all_online_networks[\"diameter\"].hist(density = True, bins = 20)\n",
    "plt.title(\"Distribution of Network Diameters\")"
   ]
  },
  {
   "cell_type": "markdown",
   "metadata": {},
   "source": [
    "Calculating the distribution of the global clustering coefficients is important, because\n",
    "the **global similarity coefficient** is the same as global clustering coefficient,\n",
    "see page 4 (4):\n",
    "\n",
    ">Global similarity. From the global perspective both local clustering and local closure lead to the same conclusion   \n",
    "that the corresponding global measure is just the fraction of triples that can be closed to make a triangle.  \n",
    "This implies that the same quantity is also the proper global measure of the extent to which relations are driven  \n",
    "by similarity. In other words, global similarity coefficient is equal to the standard global clustering coefficient."
   ]
  },
  {
   "cell_type": "code",
   "execution_count": 89,
   "metadata": {},
   "outputs": [
    {
     "data": {
      "text/plain": [
       "Text(0.5, 1.0, 'Distribution of Global Clusering Coefficients of Online Networks')"
      ]
     },
     "execution_count": 89,
     "metadata": {},
     "output_type": "execute_result"
    },
    {
     "data": {
      "image/png": "[encoded data removed]",
      "text/plain": [
       "<Figure size 640x480 with 1 Axes>"
      ]
     },
     "metadata": {},
     "output_type": "display_data"
    }
   ],
   "source": [
    "all_online_networks[\"global_clustering\"].hist(density = True, bins = 20)\n",
    "plt.title(\"Distribution of Global Clustering Coefficients of Online Networks\")"
   ]
  },
  {
   "cell_type": "markdown",
   "metadata": {},
   "source": [
    "# **Todo** Explore further"
   ]
  },
  {
   "cell_type": "markdown",
   "metadata": {},
   "source": []
  }
 ],
 "metadata": {
  "kernelspec": {
   "display_name": "Python 3.8.15 ('ns-project')",
   "language": "python",
   "name": "python3"
  },
  "language_info": {
   "codemirror_mode": {
    "name": "ipython",
    "version": 3
   },
   "file_extension": ".py",
   "mimetype": "text/x-python",
   "name": "python",
   "nbconvert_exporter": "python",
   "pygments_lexer": "ipython3",
   "version": "3.8.15"
  },
  "orig_nbformat": 4,
  "vscode": {
   "interpreter": {
    "hash": "92eeb2fd4dd9b582e38232a6a7b7054c4611accb0eebb75b041327f0c6d5f098"
   }
  }
 },
 "nbformat": 4,
 "nbformat_minor": 2
}
