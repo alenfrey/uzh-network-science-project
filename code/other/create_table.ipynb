{
 "cells": [
  {
   "cell_type": "markdown",
   "metadata": {},
   "source": [
    "This script creates a table that can be output in different formats, for LaTeX, Markdown, etc..."
   ]
  },
  {
   "cell_type": "code",
   "execution_count": 1,
   "metadata": {},
   "outputs": [],
   "source": [
    "import pandas as pd\n",
    "from collections import namedtuple"
   ]
  },
  {
   "cell_type": "code",
   "execution_count": 2,
   "metadata": {},
   "outputs": [],
   "source": [
    "# Create dataframe of individial contributions"
   ]
  },
  {
   "cell_type": "code",
   "execution_count": 3,
   "metadata": {},
   "outputs": [],
   "source": [
    "TableRow = namedtuple(\"TableRow\", [\"File\", \"Description\", \"Contributor\"])"
   ]
  },
  {
   "cell_type": "code",
   "execution_count": 19,
   "metadata": {},
   "outputs": [],
   "source": [
    "table_rows = [\n",
    "    TableRow(File=\"project_proposal.pdf\", Description=\"Project Proposal\", Contributor=\"Keisuke, Alen\"),\n",
    "    TableRow(File=\"explore_network_properties.ipynb\", Description=\"Exploration of available datasets\", Contributor=\"Alen\"),\n",
    "    TableRow(File=\"group_available_datasets.ipynb\", Description=\"Group and structure available datasets\", Contributor=\"Alen\"),\n",
    "    TableRow(File=\"paper_replication/*\", Description=\"Relplicate paper results\", Contributor=\"Alen\"),\n",
    "    TableRow(File=\"download_datasets.ipynb\", Description=\"Download script for social networks\", Contributor=\"Alen\"),\n",
    "    TableRow(File=\"report.md\", Description=\"Written report of project\", Contributor=\"Alen\"),\n",
    "]"
   ]
  },
  {
   "cell_type": "code",
   "execution_count": 20,
   "metadata": {},
   "outputs": [],
   "source": [
    "table = pd.DataFrame(table_rows)"
   ]
  },
  {
   "cell_type": "code",
   "execution_count": 21,
   "metadata": {},
   "outputs": [
    {
     "name": "stdout",
     "output_type": "stream",
     "text": [
      "|    | File                             | Description                            | Contributor   |\n",
      "|---:|:---------------------------------|:---------------------------------------|:--------------|\n",
      "|  0 | project_proposal.pdf             | Project Proposal                       | Keisuke, Alen |\n",
      "|  1 | explore_network_properties.ipynb | Exploration of available datasets      | Alen          |\n",
      "|  2 | group_available_datasets.ipynb   | Group and structure available datasets | Alen          |\n",
      "|  3 | paper_replication/*              | Relplicate paper results               | Alen          |\n",
      "|  4 | download_datasets.ipynb          | Download script for social networks    | Alen          |\n",
      "|  5 | report.md                        | Written report of project              | Alen          |\n"
     ]
    }
   ],
   "source": [
    "print(table.to_markdown())"
   ]
  },
  {
   "cell_type": "code",
   "execution_count": null,
   "metadata": {},
   "outputs": [],
   "source": []
  },
  {
   "cell_type": "code",
   "execution_count": null,
   "metadata": {},
   "outputs": [],
   "source": []
  }
 ],
 "metadata": {
  "kernelspec": {
   "display_name": "Python 3.10.6 ('venv': venv)",
   "language": "python",
   "name": "python3"
  },
  "language_info": {
   "codemirror_mode": {
    "name": "ipython",
    "version": 3
   },
   "file_extension": ".py",
   "mimetype": "text/x-python",
   "name": "python",
   "nbconvert_exporter": "python",
   "pygments_lexer": "ipython3",
   "version": "3.10.6"
  },
  "orig_nbformat": 4,
  "vscode": {
   "interpreter": {
    "hash": "45e9e9119b36140a2a9bca0259b0a24ad8917ae126aa158bf5a8fa6cf8c03ef3"
   }
  }
 },
 "nbformat": 4,
 "nbformat_minor": 2
}
