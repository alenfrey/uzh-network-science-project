{
 "cells": [
  {
   "cell_type": "markdown",
   "metadata": {},
   "source": [
    "## We implement the similarity and complementarity coefficients in networkx\n",
    "### ToDO Alen"
   ]
  },
  {
   "cell_type": "markdown",
   "metadata": {},
   "source": []
  }
 ],
 "metadata": {
  "kernelspec": {
   "display_name": "Python 3.8.15 ('ns-project')",
   "language": "python",
   "name": "python3"
  },
  "language_info": {
   "name": "python",
   "version": "3.8.15"
  },
  "orig_nbformat": 4,
  "vscode": {
   "interpreter": {
    "hash": "92eeb2fd4dd9b582e38232a6a7b7054c4611accb0eebb75b041327f0c6d5f098"
   }
  }
 },
 "nbformat": 4,
 "nbformat_minor": 2
}
