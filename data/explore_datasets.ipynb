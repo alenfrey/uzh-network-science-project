{
 "cells": [
  {
   "cell_type": "markdown",
   "metadata": {},
   "source": [
    "## In this notebook we analyse the available datasets to determine which ones to use"
   ]
  },
  {
   "cell_type": "code",
   "execution_count": 128,
   "metadata": {},
   "outputs": [
    {
     "name": "stdout",
     "output_type": "stream",
     "text": [
      "The autoreload extension is already loaded. To reload it, use:\n",
      "  %reload_ext autoreload\n"
     ]
    }
   ],
   "source": [
    "# reload imported files automatically without restarting the kernel\n",
    "%load_ext autoreload\n",
    "%autoreload 2"
   ]
  },
  {
   "cell_type": "code",
   "execution_count": 129,
   "metadata": {},
   "outputs": [],
   "source": [
    "import pandas as pd\n",
    "import matplotlib.pyplot as plt\n",
    "import seaborn as sns\n",
    "import altair as alt\n",
    "from lib import *"
   ]
  },
  {
   "cell_type": "code",
   "execution_count": 130,
   "metadata": {},
   "outputs": [],
   "source": [
    "# config\n",
    "\n",
    "sns.set()\n"
   ]
  },
  {
   "cell_type": "code",
   "execution_count": 131,
   "metadata": {},
   "outputs": [],
   "source": [
    "df = pd.read_html(\"https://networks.skewed.de/\")[0] # get a df of all networks on Netzschleuder"
   ]
  },
  {
   "cell_type": "code",
   "execution_count": 132,
   "metadata": {},
   "outputs": [],
   "source": [
    "# create dataset filters\n",
    "social_networks = df[\"Tags\"].str.contains(\"Social\")\n",
    "unweighted = df[\"Tags\"].str.contains(\"Unweighted\")\n",
    "undirected = df[\"Kind\"] == \"Undirected\"\n",
    "online = df[\"Tags\"].str.contains(\"Online\")\n",
    "offline = df[\"Tags\"].str.contains(\"Offline\")"
   ]
  },
  {
   "cell_type": "code",
   "execution_count": 133,
   "metadata": {},
   "outputs": [],
   "source": [
    "online_social_filter = (online & social_networks & unweighted & undirected)\n",
    "offline_social_filter = (offline & social_networks & unweighted & undirected)"
   ]
  },
  {
   "cell_type": "markdown",
   "metadata": {},
   "source": [
    "### We create filters for our categories that we compare"
   ]
  },
  {
   "cell_type": "code",
   "execution_count": 134,
   "metadata": {},
   "outputs": [
    {
     "name": "stdout",
     "output_type": "stream",
     "text": [
      "Number of online social networks: 15\n"
     ]
    },
    {
     "data": {
      "text/html": [
       "<div>\n",
       "<style scoped>\n",
       "    .dataframe tbody tr th:only-of-type {\n",
       "        vertical-align: middle;\n",
       "    }\n",
       "\n",
       "    .dataframe tbody tr th {\n",
       "        vertical-align: top;\n",
       "    }\n",
       "\n",
       "    .dataframe thead th {\n",
       "        text-align: right;\n",
       "    }\n",
       "</style>\n",
       "<table border=\"1\" class=\"dataframe\">\n",
       "  <thead>\n",
       "    <tr style=\"text-align: right;\">\n",
       "      <th></th>\n",
       "      <th>Name</th>\n",
       "      <th>Title</th>\n",
       "      <th>Nodes</th>\n",
       "      <th>Edges</th>\n",
       "      <th>$\\left&lt;k\\right&gt;$</th>\n",
       "      <th>$\\sigma_k$</th>\n",
       "      <th>$\\lambda_h$</th>\n",
       "      <th>$\\tau$</th>\n",
       "      <th>$r$</th>\n",
       "      <th>$c$</th>\n",
       "      <th>$\\oslash$</th>\n",
       "      <th>$S$</th>\n",
       "      <th>Kind</th>\n",
       "      <th>Mode</th>\n",
       "      <th>$n$</th>\n",
       "      <th>Tags</th>\n",
       "    </tr>\n",
       "  </thead>\n",
       "  <tbody>\n",
       "    <tr>\n",
       "      <th>74</th>\n",
       "      <td>douban</td>\n",
       "      <td>Douban friendship network (2009)</td>\n",
       "      <td>154908</td>\n",
       "      <td>327162</td>\n",
       "      <td>4.22000</td>\n",
       "      <td>11.75000</td>\n",
       "      <td>39.78000</td>\n",
       "      <td>103.63000</td>\n",
       "      <td>-0.18000</td>\n",
       "      <td>0.01000</td>\n",
       "      <td>9</td>\n",
       "      <td>1.00000</td>\n",
       "      <td>Undirected</td>\n",
       "      <td>Unipartite</td>\n",
       "      <td>1</td>\n",
       "      <td>Social  Online  Unweighted</td>\n",
       "    </tr>\n",
       "    <tr>\n",
       "      <th>82</th>\n",
       "      <td>ego_social</td>\n",
       "      <td>Ego networks in social media (2012)</td>\n",
       "      <td>107614</td>\n",
       "      <td>12238285</td>\n",
       "      <td>227.45000</td>\n",
       "      <td>581.50000</td>\n",
       "      <td>1718.72000</td>\n",
       "      <td>110.57000</td>\n",
       "      <td>-0.08000</td>\n",
       "      <td>0.15000</td>\n",
       "      <td>6</td>\n",
       "      <td>1.00000</td>\n",
       "      <td>Undirected</td>\n",
       "      <td>Unipartite</td>\n",
       "      <td>143</td>\n",
       "      <td>Social  Online  Unweighted  Metadata</td>\n",
       "    </tr>\n",
       "    <tr>\n",
       "      <th>96</th>\n",
       "      <td>facebook_friends</td>\n",
       "      <td>Maier Facebook friends (2014)</td>\n",
       "      <td>362</td>\n",
       "      <td>1988</td>\n",
       "      <td>10.98000</td>\n",
       "      <td>10.83000</td>\n",
       "      <td>23.30000</td>\n",
       "      <td>78.68000</td>\n",
       "      <td>0.10000</td>\n",
       "      <td>0.51000</td>\n",
       "      <td>9</td>\n",
       "      <td>0.91000</td>\n",
       "      <td>Undirected</td>\n",
       "      <td>Unipartite</td>\n",
       "      <td>1</td>\n",
       "      <td>Social  Online  Unweighted  Metadata</td>\n",
       "    </tr>\n",
       "  </tbody>\n",
       "</table>\n",
       "</div>"
      ],
      "text/plain": [
       "                Name                                Title   Nodes     Edges  \\\n",
       "74            douban     Douban friendship network (2009)  154908    327162   \n",
       "82        ego_social  Ego networks in social media (2012)  107614  12238285   \n",
       "96  facebook_friends        Maier Facebook friends (2014)     362      1988   \n",
       "\n",
       "    $\\left<k\\right>$  $\\sigma_k$  $\\lambda_h$    $\\tau$      $r$     $c$  \\\n",
       "74           4.22000    11.75000     39.78000 103.63000 -0.18000 0.01000   \n",
       "82         227.45000   581.50000   1718.72000 110.57000 -0.08000 0.15000   \n",
       "96          10.98000    10.83000     23.30000  78.68000  0.10000 0.51000   \n",
       "\n",
       "    $\\oslash$     $S$        Kind        Mode  $n$  \\\n",
       "74          9 1.00000  Undirected  Unipartite    1   \n",
       "82          6 1.00000  Undirected  Unipartite  143   \n",
       "96          9 0.91000  Undirected  Unipartite    1   \n",
       "\n",
       "                                    Tags  \n",
       "74            Social  Online  Unweighted  \n",
       "82  Social  Online  Unweighted  Metadata  \n",
       "96  Social  Online  Unweighted  Metadata  "
      ]
     },
     "execution_count": 134,
     "metadata": {},
     "output_type": "execute_result"
    }
   ],
   "source": [
    "online_social = df[online_social_filter]\n",
    "# filter df for social, unweighted, online, undirected networks\n",
    "len(online_social)\n",
    "print(\"Number of online social networks:\", len(online_social))\n",
    "online_social.head(3)"
   ]
  },
  {
   "cell_type": "code",
   "execution_count": 135,
   "metadata": {},
   "outputs": [
    {
     "name": "stdout",
     "output_type": "stream",
     "text": [
      "Number of offline social networks: 17\n"
     ]
    },
    {
     "data": {
      "text/html": [
       "<div>\n",
       "<style scoped>\n",
       "    .dataframe tbody tr th:only-of-type {\n",
       "        vertical-align: middle;\n",
       "    }\n",
       "\n",
       "    .dataframe tbody tr th {\n",
       "        vertical-align: top;\n",
       "    }\n",
       "\n",
       "    .dataframe thead th {\n",
       "        text-align: right;\n",
       "    }\n",
       "</style>\n",
       "<table border=\"1\" class=\"dataframe\">\n",
       "  <thead>\n",
       "    <tr style=\"text-align: right;\">\n",
       "      <th></th>\n",
       "      <th>Name</th>\n",
       "      <th>Title</th>\n",
       "      <th>Nodes</th>\n",
       "      <th>Edges</th>\n",
       "      <th>$\\left&lt;k\\right&gt;$</th>\n",
       "      <th>$\\sigma_k$</th>\n",
       "      <th>$\\lambda_h$</th>\n",
       "      <th>$\\tau$</th>\n",
       "      <th>$r$</th>\n",
       "      <th>$c$</th>\n",
       "      <th>$\\oslash$</th>\n",
       "      <th>$S$</th>\n",
       "      <th>Kind</th>\n",
       "      <th>Mode</th>\n",
       "      <th>$n$</th>\n",
       "      <th>Tags</th>\n",
       "    </tr>\n",
       "  </thead>\n",
       "  <tbody>\n",
       "    <tr>\n",
       "      <th>74</th>\n",
       "      <td>douban</td>\n",
       "      <td>Douban friendship network (2009)</td>\n",
       "      <td>154908</td>\n",
       "      <td>327162</td>\n",
       "      <td>4.22000</td>\n",
       "      <td>11.75000</td>\n",
       "      <td>39.78000</td>\n",
       "      <td>103.63000</td>\n",
       "      <td>-0.18000</td>\n",
       "      <td>0.01000</td>\n",
       "      <td>9</td>\n",
       "      <td>1.00000</td>\n",
       "      <td>Undirected</td>\n",
       "      <td>Unipartite</td>\n",
       "      <td>1</td>\n",
       "      <td>Social  Online  Unweighted</td>\n",
       "    </tr>\n",
       "    <tr>\n",
       "      <th>82</th>\n",
       "      <td>ego_social</td>\n",
       "      <td>Ego networks in social media (2012)</td>\n",
       "      <td>107614</td>\n",
       "      <td>12238285</td>\n",
       "      <td>227.45000</td>\n",
       "      <td>581.50000</td>\n",
       "      <td>1718.72000</td>\n",
       "      <td>110.57000</td>\n",
       "      <td>-0.08000</td>\n",
       "      <td>0.15000</td>\n",
       "      <td>6</td>\n",
       "      <td>1.00000</td>\n",
       "      <td>Undirected</td>\n",
       "      <td>Unipartite</td>\n",
       "      <td>143</td>\n",
       "      <td>Social  Online  Unweighted  Metadata</td>\n",
       "    </tr>\n",
       "    <tr>\n",
       "      <th>96</th>\n",
       "      <td>facebook_friends</td>\n",
       "      <td>Maier Facebook friends (2014)</td>\n",
       "      <td>362</td>\n",
       "      <td>1988</td>\n",
       "      <td>10.98000</td>\n",
       "      <td>10.83000</td>\n",
       "      <td>23.30000</td>\n",
       "      <td>78.68000</td>\n",
       "      <td>0.10000</td>\n",
       "      <td>0.51000</td>\n",
       "      <td>9</td>\n",
       "      <td>0.91000</td>\n",
       "      <td>Undirected</td>\n",
       "      <td>Unipartite</td>\n",
       "      <td>1</td>\n",
       "      <td>Social  Online  Unweighted  Metadata</td>\n",
       "    </tr>\n",
       "  </tbody>\n",
       "</table>\n",
       "</div>"
      ],
      "text/plain": [
       "                Name                                Title   Nodes     Edges  \\\n",
       "74            douban     Douban friendship network (2009)  154908    327162   \n",
       "82        ego_social  Ego networks in social media (2012)  107614  12238285   \n",
       "96  facebook_friends        Maier Facebook friends (2014)     362      1988   \n",
       "\n",
       "    $\\left<k\\right>$  $\\sigma_k$  $\\lambda_h$    $\\tau$      $r$     $c$  \\\n",
       "74           4.22000    11.75000     39.78000 103.63000 -0.18000 0.01000   \n",
       "82         227.45000   581.50000   1718.72000 110.57000 -0.08000 0.15000   \n",
       "96          10.98000    10.83000     23.30000  78.68000  0.10000 0.51000   \n",
       "\n",
       "    $\\oslash$     $S$        Kind        Mode  $n$  \\\n",
       "74          9 1.00000  Undirected  Unipartite    1   \n",
       "82          6 1.00000  Undirected  Unipartite  143   \n",
       "96          9 0.91000  Undirected  Unipartite    1   \n",
       "\n",
       "                                    Tags  \n",
       "74            Social  Online  Unweighted  \n",
       "82  Social  Online  Unweighted  Metadata  \n",
       "96  Social  Online  Unweighted  Metadata  "
      ]
     },
     "execution_count": 135,
     "metadata": {},
     "output_type": "execute_result"
    }
   ],
   "source": [
    "# filter df for social, unweighted, online, undirected networks\n",
    "offline_social = df[social_networks & offline & unweighted & undirected]\n",
    "print(\"Number of offline social networks:\", len(offline_social))\n",
    "online_social.head(3)"
   ]
  },
  {
   "cell_type": "markdown",
   "metadata": {},
   "source": [
    "### We compare the avaiable network types"
   ]
  },
  {
   "cell_type": "code",
   "execution_count": 153,
   "metadata": {},
   "outputs": [
    {
     "data": {
      "text/html": [
       "<style type=\"text/css\">\n",
       "</style>\n",
       "<table id=\"T_08ad9\">\n",
       "  <caption>Online Social networks</caption>\n",
       "  <thead>\n",
       "    <tr>\n",
       "      <th class=\"blank level0\" >&nbsp;</th>\n",
       "      <th id=\"T_08ad9_level0_col0\" class=\"col_heading level0 col0\" >Nodes</th>\n",
       "      <th id=\"T_08ad9_level0_col1\" class=\"col_heading level0 col1\" >Edges</th>\n",
       "    </tr>\n",
       "  </thead>\n",
       "  <tbody>\n",
       "    <tr>\n",
       "      <th id=\"T_08ad9_level0_row0\" class=\"row_heading level0 row0\" >mean</th>\n",
       "      <td id=\"T_08ad9_row0_col0\" class=\"data row0 col0\" >5082770</td>\n",
       "      <td id=\"T_08ad9_row0_col1\" class=\"data row0 col1\" >126652876</td>\n",
       "    </tr>\n",
       "    <tr>\n",
       "      <th id=\"T_08ad9_level0_row1\" class=\"row_heading level0 row1\" >median</th>\n",
       "      <td id=\"T_08ad9_row1_col0\" class=\"data row1 col0\" >154908</td>\n",
       "      <td id=\"T_08ad9_row1_col1\" class=\"data row1 col1\" >2777419</td>\n",
       "    </tr>\n",
       "    <tr>\n",
       "      <th id=\"T_08ad9_level0_row2\" class=\"row_heading level0 row2\" >std</th>\n",
       "      <td id=\"T_08ad9_row2_col0\" class=\"data row2 col0\" >16781456</td>\n",
       "      <td id=\"T_08ad9_row2_col1\" class=\"data row2 col1\" >464657993</td>\n",
       "    </tr>\n",
       "  </tbody>\n",
       "</table>\n"
      ],
      "text/plain": [
       "<pandas.io.formats.style.Styler at 0x7fc99c3d5790>"
      ]
     },
     "execution_count": 153,
     "metadata": {},
     "output_type": "execute_result"
    }
   ],
   "source": [
    "online_social.agg({\"Nodes\": [\"mean\", \"median\", \"std\"], \"Edges\": [\"mean\", \"median\", \"std\"]}).style.format(\"{:.0f}\").set_caption(\"Online Social networks\")"
   ]
  },
  {
   "cell_type": "code",
   "execution_count": 151,
   "metadata": {},
   "outputs": [
    {
     "data": {
      "text/html": [
       "<style type=\"text/css\">\n",
       "</style>\n",
       "<table id=\"T_b8afc\">\n",
       "  <caption>Offline Social networks</caption>\n",
       "  <thead>\n",
       "    <tr>\n",
       "      <th class=\"blank level0\" >&nbsp;</th>\n",
       "      <th id=\"T_b8afc_level0_col0\" class=\"col_heading level0 col0\" >Nodes</th>\n",
       "      <th id=\"T_b8afc_level0_col1\" class=\"col_heading level0 col1\" >Edges</th>\n",
       "    </tr>\n",
       "  </thead>\n",
       "  <tbody>\n",
       "    <tr>\n",
       "      <th id=\"T_b8afc_level0_row0\" class=\"row_heading level0 row0\" >mean</th>\n",
       "      <td id=\"T_b8afc_row0_col0\" class=\"data row0 col0\" >905</td>\n",
       "      <td id=\"T_b8afc_row0_col1\" class=\"data row0 col1\" >192800</td>\n",
       "    </tr>\n",
       "    <tr>\n",
       "      <th id=\"T_b8afc_level0_row1\" class=\"row_heading level0 row1\" >median</th>\n",
       "      <td id=\"T_b8afc_row1_col0\" class=\"data row1 col0\" >180</td>\n",
       "      <td id=\"T_b8afc_row1_col1\" class=\"data row1 col1\" >20818</td>\n",
       "    </tr>\n",
       "    <tr>\n",
       "      <th id=\"T_b8afc_level0_row2\" class=\"row_heading level0 row2\" >std</th>\n",
       "      <td id=\"T_b8afc_row2_col0\" class=\"data row2 col0\" >2617</td>\n",
       "      <td id=\"T_b8afc_row2_col1\" class=\"data row2 col1\" >416200</td>\n",
       "    </tr>\n",
       "  </tbody>\n",
       "</table>\n"
      ],
      "text/plain": [
       "<pandas.io.formats.style.Styler at 0x7fc99c3dd550>"
      ]
     },
     "execution_count": 151,
     "metadata": {},
     "output_type": "execute_result"
    }
   ],
   "source": [
    "offline_social.agg({\"Nodes\": [\"mean\", \"median\", \"std\"], \"Edges\": [\"mean\", \"median\", \"std\"]}).style.format(\"{:.0f}\").set_caption(\"Offline Social networks\")"
   ]
  },
  {
   "cell_type": "markdown",
   "metadata": {},
   "source": [
    "###  We check the network size distribution of available datasets"
   ]
  },
  {
   "cell_type": "markdown",
   "metadata": {},
   "source": [
    "In this first linearly scaled plot, we can see that there is an extreme outlier present in the online\n",
    "social network datasets."
   ]
  },
  {
   "cell_type": "code",
   "execution_count": 138,
   "metadata": {},
   "outputs": [
    {
     "data": {
      "text/plain": [
       "[362,\n",
       " 5793,\n",
       " 6410,\n",
       " 69413,\n",
       " 104103,\n",
       " 107614,\n",
       " 114324,\n",
       " 154908,\n",
       " 499610,\n",
       " 623766,\n",
       " 1085612,\n",
       " 1402673,\n",
       " 2523386,\n",
       " 3935215,\n",
       " 65608366]"
      ]
     },
     "execution_count": 138,
     "metadata": {},
     "output_type": "execute_result"
    }
   ],
   "source": [
    "sorted(online_social[\"Nodes\"].to_numpy())"
   ]
  },
  {
   "cell_type": "code",
   "execution_count": 139,
   "metadata": {},
   "outputs": [
    {
     "data": {
      "text/plain": [
       "<matplotlib.legend.Legend at 0x7fc99ca2feb0>"
      ]
     },
     "execution_count": 139,
     "metadata": {},
     "output_type": "execute_result"
    },
    {
     "data": {
      "image/png": "[encoded data removed]",
      "text/plain": [
       "<Figure size 640x480 with 1 Axes>"
      ]
     },
     "metadata": {},
     "output_type": "display_data"
    }
   ],
   "source": [
    "plot_distribution(\n",
    "    online_social[\"Nodes\"].to_numpy(),\n",
    "    xlabel=\"Network Size\",\n",
    "    title=\"Online Social Network Size Distribution, n={}\".format(len(online_social)),\n",
    ")\n",
    "plt.ticklabel_format(useOffset=False)\n",
    "\n",
    "plot_vertical_line(online_social[\"Nodes\"].mean(), \"arithmetic mean\")\n",
    "plt.legend()"
   ]
  },
  {
   "cell_type": "code",
   "execution_count": 155,
   "metadata": {},
   "outputs": [
    {
     "data": {
      "text/plain": [
       "<matplotlib.legend.Legend at 0x7fc99bb045e0>"
      ]
     },
     "execution_count": 155,
     "metadata": {},
     "output_type": "execute_result"
    },
    {
     "data": {
      "image/png": "[encoded data removed]",
      "text/plain": [
       "<Figure size 640x480 with 1 Axes>"
      ]
     },
     "metadata": {},
     "output_type": "display_data"
    }
   ],
   "source": [
    "plot_distribution(\n",
    "    online_social[\"Nodes\"].to_numpy(),\n",
    "    xlabel=\"test\",\n",
    "    title=\"Online Social Network Size Distribution, n={} \\n log scale\".format(len(online_social)),\n",
    "    bins=logarithmic_bins(online_social[\"Nodes\"].to_numpy(), 30),\n",
    "    x_scale=\"log\",\n",
    "    y_scale=\"log\",\n",
    ")\n",
    "\n",
    "plot_vertical_line(online_social[\"Nodes\"].mean(), \"arithmetic mean\")\n",
    "plt.legend()"
   ]
  },
  {
   "cell_type": "markdown",
   "metadata": {},
   "source": [
    "### The available offline social networks are in generall smaller than online social networks"
   ]
  },
  {
   "cell_type": "code",
   "execution_count": 142,
   "metadata": {},
   "outputs": [
    {
     "data": {
      "text/plain": [
       "[22,\n",
       " 34,\n",
       " 35,\n",
       " 47,\n",
       " 62,\n",
       " 75,\n",
       " 96,\n",
       " 113,\n",
       " 180,\n",
       " 185,\n",
       " 274,\n",
       " 329,\n",
       " 372,\n",
       " 403,\n",
       " 800,\n",
       " 1380,\n",
       " 10972]"
      ]
     },
     "execution_count": 142,
     "metadata": {},
     "output_type": "execute_result"
    }
   ],
   "source": [
    "sorted(offline_social[\"Nodes\"].to_numpy())"
   ]
  },
  {
   "cell_type": "code",
   "execution_count": 154,
   "metadata": {},
   "outputs": [
    {
     "data": {
      "text/plain": [
       "<matplotlib.legend.Legend at 0x7fc99bc337c0>"
      ]
     },
     "execution_count": 154,
     "metadata": {},
     "output_type": "execute_result"
    },
    {
     "data": {
      "image/png": "[encoded data removed]",
      "text/plain": [
       "<Figure size 640x480 with 1 Axes>"
      ]
     },
     "metadata": {},
     "output_type": "display_data"
    }
   ],
   "source": [
    "plot_distribution(\n",
    "    offline_social[\"Nodes\"].to_numpy(),\n",
    "    xlabel=\"Network Size\",\n",
    "    title=\"Offline Social Network Size Distribution, n={}\".format(len(offline_social)),\n",
    ")\n",
    "plt.ticklabel_format(useOffset=False)\n",
    "\n",
    "plot_vertical_line(offline_social[\"Nodes\"].mean(), \"arithmetic mean\")\n",
    "plt.legend()"
   ]
  },
  {
   "cell_type": "code",
   "execution_count": null,
   "metadata": {},
   "outputs": [],
   "source": []
  }
 ],
 "metadata": {
  "kernelspec": {
   "display_name": "Python 3.8.15 ('ns-project')",
   "language": "python",
   "name": "python3"
  },
  "language_info": {
   "codemirror_mode": {
    "name": "ipython",
    "version": 3
   },
   "file_extension": ".py",
   "mimetype": "text/x-python",
   "name": "python",
   "nbconvert_exporter": "python",
   "pygments_lexer": "ipython3",
   "version": "3.8.15"
  },
  "orig_nbformat": 4,
  "vscode": {
   "interpreter": {
    "hash": "92eeb2fd4dd9b582e38232a6a7b7054c4611accb0eebb75b041327f0c6d5f098"
   }
  }
 },
 "nbformat": 4,
 "nbformat_minor": 2
}
