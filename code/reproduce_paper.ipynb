{
 "cells": [
  {
   "cell_type": "code",
   "execution_count": 1,
   "metadata": {},
   "outputs": [],
   "source": [
    "from lib import *\n",
    "from pathcensus import PathCensus\n",
    "from pathcensus.nullmodels import UBCM\n",
    "from pathcensus.inference import Inference\n",
    "from pathcensus.utils import set_seed\n",
    "import igraph as ig"
   ]
  },
  {
   "cell_type": "code",
   "execution_count": 2,
   "metadata": {},
   "outputs": [],
   "source": [
    "\n",
    "def statistics(graph: ig.Graph) -> pd.DataFrame:\n",
    "    \"\"\"Function for calculating graph statistics.\"\"\"\n",
    "    paths = PathCensus(graph)\n",
    "    coefs = paths.coefs(\"nodes\")\n",
    "    df = pd.DataFrame({\n",
    "        \"sim_g\":   paths.similarity(\"global\"),\n",
    "        \"sim\":     coefs[\"sim\"].mean(),\n",
    "        \"sim_e\":   paths.similarity(\"edges\").mean(),\n",
    "        \"comp_g\":  paths.complementarity(\"global\"),\n",
    "        \"comp\":    coefs[\"comp\"].mean(),\n",
    "        \"comp_e\":  paths.complementarity(\"edges\").mean(),\n",
    "        \"coefs\":   [coefs]\n",
    "    }, index=[0])\n",
    "    return df\n",
    "\n",
    "def get_metadata(graph: ig.Graph):\n",
    "    \"\"\"Get graph metadata dictionary.\"\"\"\n",
    "    name = graph[\"name\"]\n",
    "    return {\n",
    "        \"dataset\":    name.split()[0],\n",
    "        \"name\":       name,\n",
    "        \"domain\":     graph[\"domain\"],\n",
    "        \"relation\":   graph[\"relation\"],\n",
    "        \"desc\":       graph[\"desc\"],\n",
    "        \"label\":      graph[\"label\"],\n",
    "        \"idx\":        graph[\"idx\"] if \"idx\" in graph.attributes() else 0\n",
    "    }\n"
   ]
  },
  {
   "cell_type": "code",
   "execution_count": 5,
   "metadata": {},
   "outputs": [],
   "source": [
    "tmp = gml_cleaner(\"/home/af/Projects/uzh-network-science-project/data/offline/small/ugandan_village/friendship-7.gml\")"
   ]
  },
  {
   "cell_type": "code",
   "execution_count": 6,
   "metadata": {},
   "outputs": [
    {
     "ename": "AttributeError",
     "evalue": "module 'igraph' has no attribute 'igraph_read_graph_gml'",
     "output_type": "error",
     "traceback": [
      "\u001b[0;31m---------------------------------------------------------------------------\u001b[0m",
      "\u001b[0;31mAttributeError\u001b[0m                            Traceback (most recent call last)",
      "Cell \u001b[0;32mIn[6], line 1\u001b[0m\n\u001b[0;32m----> 1\u001b[0m ig\u001b[39m.\u001b[39;49migraph_read_graph_gml(tmp)\n",
      "\u001b[0;31mAttributeError\u001b[0m: module 'igraph' has no attribute 'igraph_read_graph_gml'"
     ]
    }
   ],
   "source": [
    "ig.igraph_read_graph_gml(tmp)"
   ]
  },
  {
   "cell_type": "code",
   "execution_count": null,
   "metadata": {},
   "outputs": [],
   "source": []
  },
  {
   "cell_type": "code",
   "execution_count": 3,
   "metadata": {},
   "outputs": [],
   "source": [
    "N_SAMPLES = 200"
   ]
  },
  {
   "cell_type": "code",
   "execution_count": null,
   "metadata": {},
   "outputs": [],
   "source": [
    "friendship_7 = "
   ]
  }
 ],
 "metadata": {
  "kernelspec": {
   "display_name": "Python 3.8.15 ('ns-project')",
   "language": "python",
   "name": "python3"
  },
  "language_info": {
   "codemirror_mode": {
    "name": "ipython",
    "version": 3
   },
   "file_extension": ".py",
   "mimetype": "text/x-python",
   "name": "python",
   "nbconvert_exporter": "python",
   "pygments_lexer": "ipython3",
   "version": "3.8.15"
  },
  "orig_nbformat": 4,
  "vscode": {
   "interpreter": {
    "hash": "92eeb2fd4dd9b582e38232a6a7b7054c4611accb0eebb75b041327f0c6d5f098"
   }
  }
 },
 "nbformat": 4,
 "nbformat_minor": 2
}
