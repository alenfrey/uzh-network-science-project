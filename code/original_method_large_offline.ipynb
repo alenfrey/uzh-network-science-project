{
 "cells": [
  {
   "cell_type": "markdown",
   "metadata": {},
   "source": [
    "## We run the methods of the paper on additional social networks\n",
    "### In this notebook, we run it on large offline social networks"
   ]
  },
  {
   "cell_type": "code",
   "execution_count": 1,
   "metadata": {},
   "outputs": [],
   "source": [
    "# reload imported files automatically without restarting the kernel\n",
    "%load_ext autoreload\n",
    "%autoreload 2"
   ]
  },
  {
   "cell_type": "code",
   "execution_count": 2,
   "metadata": {},
   "outputs": [],
   "source": [
    "from lib import *\n",
    "from pathcensus import PathCensus\n",
    "from pathcensus.nullmodels import UBCM\n",
    "from pathcensus.inference import Inference\n",
    "from pathcensus.utils import set_seed\n",
    "from mandarina.benchmark import timer\n",
    "import networkx as nx\n"
   ]
  },
  {
   "cell_type": "code",
   "execution_count": 3,
   "metadata": {},
   "outputs": [],
   "source": [
    "@timer\n",
    "def calculate_structural_measures(network_name, g, n_samples_null_model):\n",
    "    \"\"\"\n",
    "    This function calculates the structural measures of a network and \n",
    "    its null model average values by fitting a UBCM null model to the network.\n",
    "    \"\"\"\n",
    "    n_total = g.number_of_nodes()  # get total number of nodes\n",
    "    # remove self-loops and multiedges and get largest connected component\n",
    "    g = preprocess_graph(g)  ; g\n",
    "    n_giant = g.number_of_nodes()  # get number of nodes in largest connected component\n",
    "    degseq = sorted([d for n, d in g.degree()], reverse=True)  # get degree sequence\n",
    "    dataset = \"\"\n",
    "    network_name = network_name.split(\".\")[0]\n",
    "    label = \"large offline\"\n",
    "    \n",
    "    properties = {\n",
    "            \"idx\": 1,\n",
    "            \"dataset\": dataset,\n",
    "            \"name\": network_name,\n",
    "            #\"graph\": [g],  # get graph\n",
    "            \"n_nodes\": n_giant,  # get number of nodes in largest connected component\n",
    "            \"frac_total\": n_giant\n",
    "            / n_total,  # get fraction of nodes in largest connected component\n",
    "            \"density\": nx.density(g),  # get density\n",
    "            \"dbar\": np.mean(degseq),  # get mean degree\n",
    "            \"dcv\": np.std(degseq)\n",
    "            / np.mean(degseq),  # get coefficient of variation of degree\n",
    "            \"dmax\": np.max(degseq),  # get maximum degree\n",
    "        }\n",
    "    \n",
    "    model = UBCM(g)  # initialize model\n",
    "    model.fit()  # fit model\n",
    "    model.validate()  # validate model\n",
    "    # compare null model to actual graph using statistics function\n",
    "    infer = Inference(g, model, statistics)\n",
    "    data, null = infer.init_comparison(n=n_samples_null_model)\n",
    "    original_network_values = dict(data)\n",
    "    original_network_values = {'data_' + k: v for k, v in original_network_values.items()}\n",
    "    null_model_mean_values = dict(null.mean(numeric_only=True)) \n",
    "    null_model_mean_values = {f'null_{n_samples_null_model}_{k}': v for k, v in null_model_mean_values.items()}\n",
    "    return properties | null_model_mean_values |original_network_values | null_model_mean_values"
   ]
  },
  {
   "cell_type": "code",
   "execution_count": 4,
   "metadata": {},
   "outputs": [],
   "source": [
    "OUTPUT_CSV_FILE_PATH = DATA_DIR_PATH / \"structural_measures_large_offline.csv\""
   ]
  },
  {
   "cell_type": "code",
   "execution_count": 5,
   "metadata": {
    "scrolled": false
   },
   "outputs": [
    {
     "name": "stdout",
     "output_type": "stream",
     "text": [
      "2673414\n",
      "Running calculations for network:  contact.gml\n",
      "Function calculate_structural_measures with args (('contact', <networkx.classes.multigraph.MultiGraph object at 0x0000020CB6F63460>), {'n_samples_null_model': 100}) took: 21.5201 seconds.\n",
      "215472294\n",
      "480826\n",
      "Running calculations for network:  fb_friends.gml\n",
      "Function calculate_structural_measures with args (('fb_friends', <networkx.classes.multigraph.MultiGraph object at 0x0000020CB6F61CF0>), {'n_samples_null_model': 100}) took: 10.5513 seconds.\n",
      "229225\n",
      "Running calculations for network:  crime.gml\n",
      "Function calculate_structural_measures with args (('crime', <networkx.classes.multigraph.MultiGraph object at 0x0000020CB9A16B30>), {'n_samples_null_model': 100}) took: 3.0528 seconds.\n",
      "105477054\n",
      "Running calculations for network:  InVS15.gml\n",
      "Function calculate_structural_measures with args (('InVS15', <networkx.classes.multigraph.MultiGraph object at 0x0000020CB98184C0>), {'n_samples_null_model': 100}) took: 68.7959 seconds.\n",
      "543498074\n",
      "116183934\n",
      "Running calculations for network:  SFHH.gml\n",
      "Function calculate_structural_measures with args (('SFHH', <networkx.classes.multigraph.MultiGraph object at 0x0000020CB99B6A10>), {'n_samples_null_model': 100}) took: 255.6400 seconds.\n",
      "1556003880\n",
      "129036\n",
      "Running calculations for network:  facebook.gml\n",
      "Function calculate_structural_measures with args (('facebook', <networkx.classes.multigraph.MultiGraph object at 0x0000020CBD376A70>), {'n_samples_null_model': 100}) took: 2.8814 seconds.\n",
      "16194360\n",
      "Running calculations for network:  proximity.gml\n",
      "Function calculate_structural_measures with args (('proximity', <networkx.classes.multigraph.MultiGraph object at 0x0000020CBD3C1D20>), {'n_samples_null_model': 100}) took: 13.7508 seconds.\n",
      "37997989\n",
      "105226\n",
      "Running calculations for network:  friendship-11.gml\n",
      "Function calculate_structural_measures with args (('friendship-11', <networkx.classes.multigraph.MultiGraph object at 0x0000020CBBCC7010>), {'n_samples_null_model': 100}) took: 2.2109 seconds.\n",
      "89085\n",
      "Running calculations for network:  friendship-12.gml\n",
      "Function calculate_structural_measures with args (('friendship-12', <networkx.classes.multigraph.MultiGraph object at 0x0000020CBBCC7760>), {'n_samples_null_model': 100}) took: 2.3150 seconds.\n",
      "140119\n",
      "Running calculations for network:  friendship-16.gml\n",
      "Function calculate_structural_measures with args (('friendship-16', <networkx.classes.multigraph.MultiGraph object at 0x0000020CBBBEA710>), {'n_samples_null_model': 100}) took: 2.4036 seconds.\n",
      "184284\n",
      "Running calculations for network:  friendship-4.gml\n",
      "Function calculate_structural_measures with args (('friendship-4', <networkx.classes.multigraph.MultiGraph object at 0x0000020CBD33AFE0>), {'n_samples_null_model': 100}) took: 3.3753 seconds.\n",
      "166727\n",
      "Running calculations for network:  friendship-8.gml\n",
      "Function calculate_structural_measures with args (('friendship-8', <networkx.classes.multigraph.MultiGraph object at 0x0000020CBBBEAC80>), {'n_samples_null_model': 100}) took: 2.8784 seconds.\n",
      "67772\n",
      "Running calculations for network:  health-advice_11.gml\n",
      "Function calculate_structural_measures with args (('health-advice_11', <networkx.classes.multigraph.MultiGraph object at 0x0000020CBD6E5BA0>), {'n_samples_null_model': 100}) took: 1.9506 seconds.\n",
      "106323\n",
      "Running calculations for network:  health-advice_16.gml\n",
      "Function calculate_structural_measures with args (('health-advice_16', <networkx.classes.multigraph.MultiGraph object at 0x0000020CBD6E7A00>), {'n_samples_null_model': 100}) took: 2.2345 seconds.\n",
      "110301\n",
      "Running calculations for network:  health-advice_4.gml\n",
      "Function calculate_structural_measures with args (('health-advice_4', <networkx.classes.multigraph.MultiGraph object at 0x0000020CB95A9660>), {'n_samples_null_model': 100}) took: 2.1673 seconds.\n",
      "131805\n",
      "Running calculations for network:  health-advice_8.gml\n",
      "Function calculate_structural_measures with args (('health-advice_8', <networkx.classes.multigraph.MultiGraph object at 0x0000020CB95AAEF0>), {'n_samples_null_model': 100}) took: 2.2704 seconds.\n"
     ]
    }
   ],
   "source": [
    "file_filter = lambda file: file.is_file()\n",
    "large_offline_network_files = list(filter(file_filter, (DATA_DIR_PATH / \"offline\" / \"large\").glob(\"**/*\")))\n",
    "\n",
    "results = []\n",
    "for i, file in enumerate(large_offline_network_files): # loop over all offline large social network files\n",
    "    file_size = file.stat().st_size\n",
    "    print(file_size)\n",
    "    if file_size > 200000000: \n",
    "        continue\n",
    "    f = gml_cleaner(file) # clean gml file\n",
    "    try:\n",
    "        g = nx.read_gml(f, label=\"id\") # load into networkx\n",
    "        print(\"Running calculations for network: \", file.name) \n",
    "        # calculate measures from original network and null model\n",
    "        result = calculate_structural_measures(file.name.split(\".\")[0] , g, n_samples_null_model=100) \n",
    "        df = pd.DataFrame(result).reset_index()\n",
    "        df[df.columns[:-1]].to_csv(OUTPUT_CSV_FILE_PATH, mode='a', header=not OUTPUT_CSV_FILE_PATH.is_file()) # append result row to csv file\n",
    "        results.append(result) # collect results\n",
    "    except:\n",
    "        continue\n"
   ]
  },
  {
   "cell_type": "code",
   "execution_count": 6,
   "metadata": {},
   "outputs": [],
   "source": [
    "df = pd.concat([pd.DataFrame(result) for result in results]).reset_index() # combine all data to dataframe for analysis\n",
    "df = df[df.columns[:-1]]"
   ]
  },
  {
   "cell_type": "code",
   "execution_count": 8,
   "metadata": {
    "scrolled": false
   },
   "outputs": [],
   "source": [
    "df.to_csv('largeoffline.csv')"
   ]
  },
  {
   "cell_type": "code",
   "execution_count": null,
   "metadata": {},
   "outputs": [],
   "source": []
  }
 ],
 "metadata": {
  "kernelspec": {
   "display_name": "Python 3.8.15 ('nsp')",
   "language": "python",
   "name": "python3"
  },
  "language_info": {
   "codemirror_mode": {
    "name": "ipython",
    "version": 3
   },
   "file_extension": ".py",
   "mimetype": "text/x-python",
   "name": "python",
   "nbconvert_exporter": "python",
   "pygments_lexer": "ipython3",
   "version": "3.8.15"
  },
  "vscode": {
   "interpreter": {
    "hash": "322ce98f348e1b728bd0f7459d7c0a9c228a96f87ab30036517d385db03c9650"
   }
  }
 },
 "nbformat": 4,
 "nbformat_minor": 2
}
