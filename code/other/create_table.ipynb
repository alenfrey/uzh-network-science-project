{
 "cells": [
  {
   "cell_type": "markdown",
   "metadata": {},
   "source": [
    "This script creates a table that can be output in different formats, for LaTeX, Markdown, etc..."
   ]
  },
  {
   "cell_type": "code",
   "execution_count": 1,
   "metadata": {},
   "outputs": [],
   "source": [
    "import pandas as pd\n",
    "from collections import namedtuple\n"
   ]
  },
  {
   "cell_type": "code",
   "execution_count": 2,
   "metadata": {},
   "outputs": [],
   "source": [
    "# Create dataframe of individial contributions\n"
   ]
  },
  {
   "cell_type": "code",
   "execution_count": 3,
   "metadata": {},
   "outputs": [],
   "source": [
    "TableRow = namedtuple(\"TableRow\", [\"File\", \"Description\", \"Contributor\"])\n"
   ]
  },
  {
   "cell_type": "code",
   "execution_count": 4,
   "metadata": {},
   "outputs": [],
   "source": [
    "table_rows = [\n",
    "    TableRow(\n",
    "        File=\"project_proposal.pdf\",\n",
    "        Description=\"Project Proposal\",\n",
    "        Contributor=\"Keisuke, Alen\",\n",
    "    ),\n",
    "    TableRow(\n",
    "        File=\"explore_network_properties.ipynb\",\n",
    "        Description=\"Exploration of available datasets\",\n",
    "        Contributor=\"Alen\",\n",
    "    ),\n",
    "    TableRow(File=\"lib.py\", Description=\"Library for functions\", Contributor=\"Alen\"),\n",
    "    TableRow(\n",
    "        File=\"group_available_datasets.ipynb\",\n",
    "        Description=\"Group and structure available datasets\",\n",
    "        Contributor=\"Alen\",\n",
    "    ),\n",
    "    TableRow(\n",
    "        File=\"paper_replication/*\",\n",
    "        Description=\"Relplicate paper results\",\n",
    "        Contributor=\"Alen\",\n",
    "    ),\n",
    "    TableRow(\n",
    "        File=\"download_datasets.ipynb\",\n",
    "        Description=\"Download script for social networks\",\n",
    "        Contributor=\"Alen\",\n",
    "    ),\n",
    "    TableRow(\n",
    "        File=\"report.md\", Description=\"Written report of project\", Contributor=\"Alen\"\n",
    "    ),\n",
    "]\n"
   ]
  },
  {
   "cell_type": "code",
   "execution_count": 5,
   "metadata": {},
   "outputs": [],
   "source": [
    "table = pd.DataFrame(table_rows)\n"
   ]
  },
  {
   "cell_type": "code",
   "execution_count": 6,
   "metadata": {},
   "outputs": [
    {
     "name": "stdout",
     "output_type": "stream",
     "text": [
      "|    | File                             | Description                            | Contributor   |\n",
      "|---:|:---------------------------------|:---------------------------------------|:--------------|\n",
      "|  0 | project_proposal.pdf             | Project Proposal                       | Keisuke, Alen |\n",
      "|  1 | explore_network_properties.ipynb | Exploration of available datasets      | Alen          |\n",
      "|  2 | lib.py                           | Library for functions                  | Alen          |\n",
      "|  3 | group_available_datasets.ipynb   | Group and structure available datasets | Alen          |\n",
      "|  4 | paper_replication/*              | Relplicate paper results               | Alen          |\n",
      "|  5 | download_datasets.ipynb          | Download script for social networks    | Alen          |\n",
      "|  6 | report.md                        | Written report of project              | Alen          |\n"
     ]
    }
   ],
   "source": [
    "print(table.to_markdown())\n"
   ]
  },
  {
   "cell_type": "code",
   "execution_count": null,
   "metadata": {},
   "outputs": [],
   "source": []
  },
  {
   "cell_type": "code",
   "execution_count": null,
   "metadata": {},
   "outputs": [],
   "source": []
  }
 ],
 "metadata": {
  "kernelspec": {
   "display_name": "Python 3.8.15 ('nsp')",
   "language": "python",
   "name": "python3"
  },
  "language_info": {
   "codemirror_mode": {
    "name": "ipython",
    "version": 3
   },
   "file_extension": ".py",
   "mimetype": "text/x-python",
   "name": "python",
   "nbconvert_exporter": "python",
   "pygments_lexer": "ipython3",
   "version": "3.8.15"
  },
  "orig_nbformat": 4,
  "vscode": {
   "interpreter": {
    "hash": "322ce98f348e1b728bd0f7459d7c0a9c228a96f87ab30036517d385db03c9650"
   }
  }
 },
 "nbformat": 4,
 "nbformat_minor": 2
}
