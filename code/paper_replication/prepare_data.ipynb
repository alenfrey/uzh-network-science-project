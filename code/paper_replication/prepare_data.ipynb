{
 "cells": [
  {
   "cell_type": "code",
   "execution_count": 1,
   "metadata": {},
   "outputs": [],
   "source": [
    "from lib import *\n",
    "from pathcensus import PathCensus\n",
    "from pathcensus.nullmodels import UBCM\n",
    "from pathcensus.inference import Inference\n",
    "from pathcensus.utils import set_seed\n",
    "import joblib\n",
    "\n",
    "import igraph as ig\n",
    "import re"
   ]
  },
  {
   "cell_type": "code",
   "execution_count": 2,
   "metadata": {},
   "outputs": [],
   "source": [
    "\n",
    "def statistics(graph: ig.Graph) -> pd.DataFrame:\n",
    "    \"\"\"Function for calculating graph statistics.\"\"\"\n",
    "    paths = PathCensus(graph)\n",
    "    coefs = paths.coefs(\"nodes\")\n",
    "    df = pd.DataFrame({\n",
    "        \"sim_g\":   paths.similarity(\"global\"),\n",
    "        \"sim\":     coefs[\"sim\"].mean(),\n",
    "        \"sim_e\":   paths.similarity(\"edges\").mean(),\n",
    "        \"comp_g\":  paths.complementarity(\"global\"),\n",
    "        \"comp\":    coefs[\"comp\"].mean(),\n",
    "        \"comp_e\":  paths.complementarity(\"edges\").mean(),\n",
    "        \"coefs\":   [coefs]\n",
    "    }, index=[0])\n",
    "    return df\n",
    "\n",
    "def get_metadata(graph: ig.Graph):\n",
    "    \"\"\"Get graph metadata dictionary.\"\"\"\n",
    "    name = graph[\"name\"]\n",
    "    return {\n",
    "        \"dataset\":    name.split()[0],\n",
    "        \"name\":       name,\n",
    "        \"domain\":     graph[\"domain\"],\n",
    "        \"relation\":   graph[\"relation\"],\n",
    "        \"desc\":       graph[\"desc\"],\n",
    "        \"label\":      graph[\"label\"],\n",
    "        \"idx\":        graph[\"idx\"] if \"idx\" in graph.attributes() else 0\n",
    "    }\n",
    "\n",
    "\n",
    "def get_largest_component(graph: ig.Graph, **kwds) -> ig.Graph:\n",
    "    \"\"\"Get largest component of a graph.\n",
    "\n",
    "    ``**kwds`` are passed to :py:meth:`igraph.Graph.components`.\n",
    "    \"\"\"\n",
    "    vids = None\n",
    "    for component in graph.components(**kwds):\n",
    "        if vids is None or len(component) > len(vids):\n",
    "            vids = component\n",
    "    return graph.induced_subgraph(vids)"
   ]
  },
  {
   "cell_type": "code",
   "execution_count": 3,
   "metadata": {},
   "outputs": [],
   "source": [
    "def get_digits_from_string(string: str) -> str:\n",
    "    \"\"\"Get digits from string.\"\"\"\n",
    "    return re.sub(\"[^0-9]\", \"\", string)"
   ]
  },
  {
   "cell_type": "code",
   "execution_count": 4,
   "metadata": {},
   "outputs": [],
   "source": [
    "rawdata = []\n"
   ]
  },
  {
   "cell_type": "code",
   "execution_count": 5,
   "metadata": {},
   "outputs": [],
   "source": [
    "N_SAMPLES = 200"
   ]
  },
  {
   "cell_type": "code",
   "execution_count": 6,
   "metadata": {},
   "outputs": [],
   "source": [
    "file_filter = lambda file: file.is_file()\n",
    "friendship_networks_file_names = list(filter(file_filter, (DATA_DIR_PATH / \"offline\").glob(\"**/friendship*\")))\n",
    "health_advice_networks_file_names = list(filter(file_filter, (DATA_DIR_PATH / \"offline\").glob(\"**/health-advice*\")))\n"
   ]
  },
  {
   "cell_type": "code",
   "execution_count": 7,
   "metadata": {},
   "outputs": [],
   "source": [
    "def preprocess_graph(\n",
    "    graph: ig.Graph,\n",
    "    simplify: bool = True,\n",
    "    undirected: bool = True,\n",
    "    largest_component: bool = True,\n",
    "    mode= None,\n",
    "    *,\n",
    "    combine_edges = None,\n",
    "    **kwds\n",
    ") -> ig.Graph:\n",
    "    \"\"\"Preprocess a graph.\n",
    "\n",
    "    Parameters\n",
    "    ----------\n",
    "    graph\n",
    "        Graph object.\n",
    "    simplify\n",
    "        Whether to simplify the graph.\n",
    "    largest_component\n",
    "        Whether only the largest component should be taken.\n",
    "    mode\n",
    "        Passed to :py:meth:`igraph.Graph.components`.\n",
    "    combine_edges\n",
    "        Optional edge combination method.\n",
    "        Passed to :py:meth:`igraph.Graph.simplify`\n",
    "        and :py:meth:`igraph.Graph.to_undirected`.\n",
    "    **kwds\n",
    "        Passed to :py:meth:`igraph.Graph.simplify`.\n",
    "\n",
    "    Returns\n",
    "    -------\n",
    "    graph\n",
    "        Preprocess copy of the original `graph`.\n",
    "    \"\"\"\n",
    "    graph = graph.copy()\n",
    "    if simplify:\n",
    "        graph.simplify(combine_edges=combine_edges, **kwds)\n",
    "    if undirected:\n",
    "        graph.to_undirected(combine_edges=combine_edges)\n",
    "    if largest_component:\n",
    "        mode = dict(mode=mode) if mode else {}\n",
    "        graph = get_largest_component(graph, **mode)\n",
    "    return graph"
   ]
  },
  {
   "cell_type": "code",
   "execution_count": 8,
   "metadata": {},
   "outputs": [
    {
     "data": {
      "text/plain": [
       "[PosixPath('/home/af/Projects/uzh-network-science-project/data/offline/medium/ugandan_village/health-advice_1.gml'),\n",
       " PosixPath('/home/af/Projects/uzh-network-science-project/data/offline/medium/ugandan_village/health-advice_2.gml'),\n",
       " PosixPath('/home/af/Projects/uzh-network-science-project/data/offline/medium/ugandan_village/health-advice_3.gml')]"
      ]
     },
     "execution_count": 8,
     "metadata": {},
     "output_type": "execute_result"
    }
   ],
   "source": [
    "# sort the networks\n",
    "friendship_networks_file_names = sorted(\n",
    "    friendship_networks_file_names,\n",
    "    key=lambda path: get_digits_from_string(path.name).zfill(2),\n",
    ")\n",
    "\n",
    "health_advice_networks_file_names = sorted(\n",
    "    health_advice_networks_file_names,\n",
    "    key=lambda path: get_digits_from_string(path.name).zfill(2),\n",
    ")\n",
    "\n",
    "health_advice_networks_file_names[:3]"
   ]
  },
  {
   "cell_type": "code",
   "execution_count": 9,
   "metadata": {},
   "outputs": [
    {
     "data": {
      "text/plain": [
       "'health-advice_1'"
      ]
     },
     "execution_count": 9,
     "metadata": {},
     "output_type": "execute_result"
    }
   ],
   "source": [
    "health_advice_networks_file_names[0].stem"
   ]
  },
  {
   "cell_type": "code",
   "execution_count": 10,
   "metadata": {},
   "outputs": [],
   "source": [
    "ugandan_village_networks = friendship_networks_file_names + health_advice_networks_file_names"
   ]
  },
  {
   "cell_type": "code",
   "execution_count": 17,
   "metadata": {},
   "outputs": [
    {
     "data": {
      "text/plain": [
       "[PosixPath('/home/af/Projects/uzh-network-science-project/data/offline/medium/ugandan_village/friendship-1.gml'),\n",
       " PosixPath('/home/af/Projects/uzh-network-science-project/data/offline/medium/ugandan_village/friendship-2.gml'),\n",
       " PosixPath('/home/af/Projects/uzh-network-science-project/data/offline/medium/ugandan_village/friendship-3.gml'),\n",
       " PosixPath('/home/af/Projects/uzh-network-science-project/data/offline/large/ugandan_village/friendship-4.gml'),\n",
       " PosixPath('/home/af/Projects/uzh-network-science-project/data/offline/medium/ugandan_village/friendship-5.gml'),\n",
       " PosixPath('/home/af/Projects/uzh-network-science-project/data/offline/medium/ugandan_village/friendship-6.gml'),\n",
       " PosixPath('/home/af/Projects/uzh-network-science-project/data/offline/small/ugandan_village/friendship-7.gml'),\n",
       " PosixPath('/home/af/Projects/uzh-network-science-project/data/offline/large/ugandan_village/friendship-8.gml'),\n",
       " PosixPath('/home/af/Projects/uzh-network-science-project/data/offline/medium/ugandan_village/friendship-9.gml'),\n",
       " PosixPath('/home/af/Projects/uzh-network-science-project/data/offline/medium/ugandan_village/friendship-10.gml'),\n",
       " PosixPath('/home/af/Projects/uzh-network-science-project/data/offline/large/ugandan_village/friendship-11.gml'),\n",
       " PosixPath('/home/af/Projects/uzh-network-science-project/data/offline/large/ugandan_village/friendship-12.gml'),\n",
       " PosixPath('/home/af/Projects/uzh-network-science-project/data/offline/medium/ugandan_village/friendship-13.gml'),\n",
       " PosixPath('/home/af/Projects/uzh-network-science-project/data/offline/small/ugandan_village/friendship-14.gml'),\n",
       " PosixPath('/home/af/Projects/uzh-network-science-project/data/offline/small/ugandan_village/friendship-15.gml'),\n",
       " PosixPath('/home/af/Projects/uzh-network-science-project/data/offline/large/ugandan_village/friendship-16.gml'),\n",
       " PosixPath('/home/af/Projects/uzh-network-science-project/data/offline/small/ugandan_village/friendship-17.gml'),\n",
       " PosixPath('/home/af/Projects/uzh-network-science-project/data/offline/medium/ugandan_village/health-advice_1.gml'),\n",
       " PosixPath('/home/af/Projects/uzh-network-science-project/data/offline/medium/ugandan_village/health-advice_2.gml'),\n",
       " PosixPath('/home/af/Projects/uzh-network-science-project/data/offline/medium/ugandan_village/health-advice_3.gml'),\n",
       " PosixPath('/home/af/Projects/uzh-network-science-project/data/offline/large/ugandan_village/health-advice_4.gml'),\n",
       " PosixPath('/home/af/Projects/uzh-network-science-project/data/offline/medium/ugandan_village/health-advice_5.gml'),\n",
       " PosixPath('/home/af/Projects/uzh-network-science-project/data/offline/medium/ugandan_village/health-advice_6.gml'),\n",
       " PosixPath('/home/af/Projects/uzh-network-science-project/data/offline/small/ugandan_village/health-advice_7.gml'),\n",
       " PosixPath('/home/af/Projects/uzh-network-science-project/data/offline/large/ugandan_village/health-advice_8.gml'),\n",
       " PosixPath('/home/af/Projects/uzh-network-science-project/data/offline/medium/ugandan_village/health-advice_9.gml'),\n",
       " PosixPath('/home/af/Projects/uzh-network-science-project/data/offline/medium/ugandan_village/health-advice_10.gml'),\n",
       " PosixPath('/home/af/Projects/uzh-network-science-project/data/offline/large/ugandan_village/health-advice_11.gml'),\n",
       " PosixPath('/home/af/Projects/uzh-network-science-project/data/offline/medium/ugandan_village/health-advice_12.gml'),\n",
       " PosixPath('/home/af/Projects/uzh-network-science-project/data/offline/medium/ugandan_village/health-advice_13.gml'),\n",
       " PosixPath('/home/af/Projects/uzh-network-science-project/data/offline/small/ugandan_village/health-advice_14.gml'),\n",
       " PosixPath('/home/af/Projects/uzh-network-science-project/data/offline/small/ugandan_village/health-advice_15.gml'),\n",
       " PosixPath('/home/af/Projects/uzh-network-science-project/data/offline/large/ugandan_village/health-advice_16.gml'),\n",
       " PosixPath('/home/af/Projects/uzh-network-science-project/data/offline/small/ugandan_village/health-advice_17.gml')]"
      ]
     },
     "execution_count": 17,
     "metadata": {},
     "output_type": "execute_result"
    }
   ],
   "source": [
    "ugandan_village_networks"
   ]
  },
  {
   "cell_type": "code",
   "execution_count": 18,
   "metadata": {},
   "outputs": [],
   "source": [
    "rawdata = []"
   ]
  },
  {
   "cell_type": "code",
   "execution_count": 19,
   "metadata": {},
   "outputs": [],
   "source": [
    "set_seed(1019)"
   ]
  },
  {
   "cell_type": "code",
   "execution_count": 21,
   "metadata": {},
   "outputs": [],
   "source": [
    "# fit null models for all networks and append dataframes containing \n",
    "# properties to rawdata list\n",
    "for network_path in ugandan_village_networks:\n",
    "    graph = ig.Graph.Read_GML(gml_cleaner(network_path))\n",
    "    n_total = graph.vcount()\n",
    "    # they \"simplify\" the graph by removing self-loops and parallel edges\n",
    "    # they take just the the largest connected component as graph\n",
    "    graph = preprocess_graph(graph, simplify=True, largest_component=True)\n",
    "    n_giant = graph.vcount()\n",
    "    degseq  = np.array(graph.degree())\n",
    "    name = network_name = network_path.stem\n",
    "\n",
    "    dataset = \"ugandan_village\"\n",
    "    network_name = network_path.stem\n",
    "    domain = \"social\"\n",
    "    relation = \"friendship\" if \"friendship\" in network_name else \"health advice\"\n",
    "    desc = \"offline\"\n",
    "    label = (\n",
    "        \"Friendship ({})\".format(get_digits_from_string(str(network_path)))\n",
    "        if \"friendship\" in network_name\n",
    "        else \"Advice ({})\".format(get_digits_from_string(str(network_path)))\n",
    "    )\n",
    "\n",
    "    net = pd.DataFrame({\n",
    "        \"idx\": int(get_digits_from_string(str(network_path))),\n",
    "        \"dataset\": dataset,\n",
    "        \"name\": network_name,\n",
    "        \"domain\": domain,\n",
    "        \"relation\": relation,\n",
    "        \"desc\": desc,\n",
    "        \"label\": label,\n",
    "        \"graph\": [graph],\n",
    "        \"n_nodes\": n_giant,\n",
    "        \"frac_total\": n_giant / n_total,\n",
    "        \"density\":    graph.density(),\n",
    "        \"dbar\":       degseq.mean(),\n",
    "        \"dcv\":        degseq.std() / degseq.mean(),\n",
    "        \"dmax\":       degseq.max()\n",
    "    }, index=[0])\n",
    "\n",
    "    # fit UBCM null model\n",
    "    model = UBCM(graph)\n",
    "    model.fit()\n",
    "    model.validate()\n",
    "    infer = Inference(graph, model, statistics)\n",
    "    data, null = infer.init_comparison(n=N_SAMPLES)\n",
    "    # Estimate fractions of significant nodes\n",
    "    odf = pd.concat(data.pop(\"coefs\").tolist())\n",
    "    ndf = pd.concat(null.pop(\"coefs\").tolist())\n",
    "\n",
    "    infer.add_stats_index(odf)\n",
    "    infer.add_stats_index(ndf)\n",
    "\n",
    "    odf = pd.concat([odf], keys=[0], names=[\"_\"])\n",
    "    ndf = pd.concat([ndf], keys=[0], names=[\"_\"])\n",
    "\n",
    "    alpha = 0.01\n",
    "    pvals = infer.estimate_pvalues(odf, ndf, alpha=alpha, adjust=True)\n",
    "    sig   = (pvals <= alpha)[[\"sim\", \"comp\"]]\n",
    "\n",
    "    sig[\"both\"] = sig.all(axis=1)\n",
    "    sig = sig.mean().to_frame().T\n",
    "\n",
    "    # Compute calibrated coefficients\n",
    "    cdata = np.log(data / null).reset_index(drop=True) \\\n",
    "        .replace([np.inf, -np.inf], np.nan) \\\n",
    "        .dropna() \\\n",
    "        .mean() \\\n",
    "        .to_frame().T\n",
    "\n",
    "    net[\"rawdata\"]     = [data]\n",
    "    net[\"calibrated\"]  = [cdata]\n",
    "    net[\"significant\"] = [sig]\n",
    "    rawdata.append(net)\n"
   ]
  },
  {
   "cell_type": "code",
   "execution_count": 22,
   "metadata": {},
   "outputs": [
    {
     "data": {
      "text/html": [
       "<div>\n",
       "<style scoped>\n",
       "    .dataframe tbody tr th:only-of-type {\n",
       "        vertical-align: middle;\n",
       "    }\n",
       "\n",
       "    .dataframe tbody tr th {\n",
       "        vertical-align: top;\n",
       "    }\n",
       "\n",
       "    .dataframe thead th {\n",
       "        text-align: right;\n",
       "    }\n",
       "</style>\n",
       "<table border=\"1\" class=\"dataframe\">\n",
       "  <thead>\n",
       "    <tr style=\"text-align: right;\">\n",
       "      <th></th>\n",
       "      <th>idx</th>\n",
       "      <th>dataset</th>\n",
       "      <th>name</th>\n",
       "      <th>domain</th>\n",
       "      <th>relation</th>\n",
       "      <th>desc</th>\n",
       "      <th>label</th>\n",
       "      <th>graph</th>\n",
       "      <th>n_nodes</th>\n",
       "      <th>frac_total</th>\n",
       "      <th>density</th>\n",
       "      <th>dbar</th>\n",
       "      <th>dcv</th>\n",
       "      <th>dmax</th>\n",
       "      <th>rawdata</th>\n",
       "      <th>calibrated</th>\n",
       "      <th>significant</th>\n",
       "    </tr>\n",
       "  </thead>\n",
       "  <tbody>\n",
       "    <tr>\n",
       "      <th>0</th>\n",
       "      <td>1</td>\n",
       "      <td>ugandan_village</td>\n",
       "      <td>friendship-1</td>\n",
       "      <td>social</td>\n",
       "      <td>friendship</td>\n",
       "      <td>offline</td>\n",
       "      <td>Friendship (1)</td>\n",
       "      <td>IGRAPH U--- 202 547 --\\n+ attr: id (v)\\n+ edge...</td>\n",
       "      <td>202</td>\n",
       "      <td>0.995074</td>\n",
       "      <td>0.026944</td>\n",
       "      <td>5.415842</td>\n",
       "      <td>0.723459</td>\n",
       "      <td>32</td>\n",
       "      <td>sim_g       sim     sim_e    comp_g     ...</td>\n",
       "      <td>sim_g       sim     sim_e    comp_g     ...</td>\n",
       "      <td>sim  comp  both\n",
       "0  0.0   0.0   0.0</td>\n",
       "    </tr>\n",
       "  </tbody>\n",
       "</table>\n",
       "</div>"
      ],
      "text/plain": [
       "   idx          dataset          name  domain    relation     desc  \\\n",
       "0    1  ugandan_village  friendship-1  social  friendship  offline   \n",
       "\n",
       "            label                                              graph  n_nodes  \\\n",
       "0  Friendship (1)  IGRAPH U--- 202 547 --\\n+ attr: id (v)\\n+ edge...      202   \n",
       "\n",
       "   frac_total   density      dbar       dcv  dmax  \\\n",
       "0    0.995074  0.026944  5.415842  0.723459    32   \n",
       "\n",
       "                                             rawdata  \\\n",
       "0        sim_g       sim     sim_e    comp_g     ...   \n",
       "\n",
       "                                          calibrated  \\\n",
       "0        sim_g       sim     sim_e    comp_g     ...   \n",
       "\n",
       "                             significant  \n",
       "0     sim  comp  both\n",
       "0  0.0   0.0   0.0  "
      ]
     },
     "execution_count": 22,
     "metadata": {},
     "output_type": "execute_result"
    }
   ],
   "source": [
    "rawdata[0]"
   ]
  },
  {
   "cell_type": "code",
   "execution_count": 23,
   "metadata": {},
   "outputs": [
    {
     "data": {
      "text/html": [
       "<div>\n",
       "<style scoped>\n",
       "    .dataframe tbody tr th:only-of-type {\n",
       "        vertical-align: middle;\n",
       "    }\n",
       "\n",
       "    .dataframe tbody tr th {\n",
       "        vertical-align: top;\n",
       "    }\n",
       "\n",
       "    .dataframe thead th {\n",
       "        text-align: right;\n",
       "    }\n",
       "</style>\n",
       "<table border=\"1\" class=\"dataframe\">\n",
       "  <thead>\n",
       "    <tr style=\"text-align: right;\">\n",
       "      <th></th>\n",
       "      <th>idx</th>\n",
       "      <th>dataset</th>\n",
       "      <th>name</th>\n",
       "      <th>domain</th>\n",
       "      <th>relation</th>\n",
       "      <th>desc</th>\n",
       "      <th>label</th>\n",
       "      <th>graph</th>\n",
       "      <th>n_nodes</th>\n",
       "      <th>frac_total</th>\n",
       "      <th>density</th>\n",
       "      <th>dbar</th>\n",
       "      <th>dcv</th>\n",
       "      <th>dmax</th>\n",
       "      <th>rawdata</th>\n",
       "      <th>calibrated</th>\n",
       "      <th>significant</th>\n",
       "    </tr>\n",
       "  </thead>\n",
       "  <tbody>\n",
       "    <tr>\n",
       "      <th>0</th>\n",
       "      <td>11</td>\n",
       "      <td>ugandan_village</td>\n",
       "      <td>health-advice_11</td>\n",
       "      <td>social</td>\n",
       "      <td>health advice</td>\n",
       "      <td>offline</td>\n",
       "      <td>Advice (11)</td>\n",
       "      <td>IGRAPH U--- 234 527 --\\n+ attr: id (v)\\n+ edge...</td>\n",
       "      <td>234</td>\n",
       "      <td>0.975</td>\n",
       "      <td>0.019332</td>\n",
       "      <td>4.504274</td>\n",
       "      <td>1.66635</td>\n",
       "      <td>85</td>\n",
       "      <td>sim_g       sim     sim_e    comp_g     ...</td>\n",
       "      <td>sim_g       sim    sim_e    comp_g      ...</td>\n",
       "      <td>sim      comp  both\n",
       "0  0.004274  0.021...</td>\n",
       "    </tr>\n",
       "  </tbody>\n",
       "</table>\n",
       "</div>"
      ],
      "text/plain": [
       "   idx          dataset              name  domain       relation     desc  \\\n",
       "0   11  ugandan_village  health-advice_11  social  health advice  offline   \n",
       "\n",
       "         label                                              graph  n_nodes  \\\n",
       "0  Advice (11)  IGRAPH U--- 234 527 --\\n+ attr: id (v)\\n+ edge...      234   \n",
       "\n",
       "   frac_total   density      dbar      dcv  dmax  \\\n",
       "0       0.975  0.019332  4.504274  1.66635    85   \n",
       "\n",
       "                                             rawdata  \\\n",
       "0        sim_g       sim     sim_e    comp_g     ...   \n",
       "\n",
       "                                          calibrated  \\\n",
       "0        sim_g       sim    sim_e    comp_g      ...   \n",
       "\n",
       "                                         significant  \n",
       "0          sim      comp  both\n",
       "0  0.004274  0.021...  "
      ]
     },
     "execution_count": 23,
     "metadata": {},
     "output_type": "execute_result"
    }
   ],
   "source": [
    "rawdata[27]"
   ]
  },
  {
   "cell_type": "code",
   "execution_count": 24,
   "metadata": {},
   "outputs": [
    {
     "data": {
      "text/html": [
       "<div>\n",
       "<style scoped>\n",
       "    .dataframe tbody tr th:only-of-type {\n",
       "        vertical-align: middle;\n",
       "    }\n",
       "\n",
       "    .dataframe tbody tr th {\n",
       "        vertical-align: top;\n",
       "    }\n",
       "\n",
       "    .dataframe thead th {\n",
       "        text-align: right;\n",
       "    }\n",
       "</style>\n",
       "<table border=\"1\" class=\"dataframe\">\n",
       "  <thead>\n",
       "    <tr style=\"text-align: right;\">\n",
       "      <th></th>\n",
       "      <th>idx</th>\n",
       "      <th>dataset</th>\n",
       "      <th>name</th>\n",
       "      <th>domain</th>\n",
       "      <th>relation</th>\n",
       "      <th>desc</th>\n",
       "      <th>label</th>\n",
       "      <th>graph</th>\n",
       "      <th>n_nodes</th>\n",
       "      <th>frac_total</th>\n",
       "      <th>density</th>\n",
       "      <th>dbar</th>\n",
       "      <th>dcv</th>\n",
       "      <th>dmax</th>\n",
       "      <th>rawdata</th>\n",
       "      <th>calibrated</th>\n",
       "      <th>significant</th>\n",
       "    </tr>\n",
       "  </thead>\n",
       "  <tbody>\n",
       "    <tr>\n",
       "      <th>0</th>\n",
       "      <td>3</td>\n",
       "      <td>ugandan_village</td>\n",
       "      <td>friendship-3</td>\n",
       "      <td>social</td>\n",
       "      <td>friendship</td>\n",
       "      <td>offline</td>\n",
       "      <td>Friendship (3)</td>\n",
       "      <td>IGRAPH U--- 192 1060 --\\n+ attr: id (v)\\n+ edg...</td>\n",
       "      <td>192</td>\n",
       "      <td>1.0</td>\n",
       "      <td>0.05781</td>\n",
       "      <td>11.041667</td>\n",
       "      <td>0.736913</td>\n",
       "      <td>53</td>\n",
       "      <td>sim_g       sim     sim_e    comp_g     ...</td>\n",
       "      <td>sim_g       sim     sim_e    comp_g     ...</td>\n",
       "      <td>sim  comp  both\n",
       "0  0.005208   0.0   0.0</td>\n",
       "    </tr>\n",
       "  </tbody>\n",
       "</table>\n",
       "</div>"
      ],
      "text/plain": [
       "   idx          dataset          name  domain    relation     desc  \\\n",
       "0    3  ugandan_village  friendship-3  social  friendship  offline   \n",
       "\n",
       "            label                                              graph  n_nodes  \\\n",
       "0  Friendship (3)  IGRAPH U--- 192 1060 --\\n+ attr: id (v)\\n+ edg...      192   \n",
       "\n",
       "   frac_total  density       dbar       dcv  dmax  \\\n",
       "0         1.0  0.05781  11.041667  0.736913    53   \n",
       "\n",
       "                                             rawdata  \\\n",
       "0        sim_g       sim     sim_e    comp_g     ...   \n",
       "\n",
       "                                          calibrated  \\\n",
       "0        sim_g       sim     sim_e    comp_g     ...   \n",
       "\n",
       "                                       significant  \n",
       "0          sim  comp  both\n",
       "0  0.005208   0.0   0.0  "
      ]
     },
     "execution_count": 24,
     "metadata": {},
     "output_type": "execute_result"
    }
   ],
   "source": [
    "rawdata[2]"
   ]
  },
  {
   "cell_type": "code",
   "execution_count": 25,
   "metadata": {},
   "outputs": [
    {
     "data": {
      "text/plain": [
       "['/home/af/Projects/uzh-network-science-project/data/social.pkl.gz']"
      ]
     },
     "execution_count": 25,
     "metadata": {},
     "output_type": "execute_result"
    }
   ],
   "source": [
    "villages = pd.concat(rawdata, axis=0, ignore_index=True)\n",
    "\n",
    "# Save data -------------------------------------------------------------------\n",
    "\n",
    "joblib.dump(villages, DATA_DIR_PATH / \"social.pkl.gz\", compress=True)"
   ]
  },
  {
   "cell_type": "code",
   "execution_count": 189,
   "metadata": {},
   "outputs": [],
   "source": [
    "# get one network for testing the workflow"
   ]
  },
  {
   "cell_type": "code",
   "execution_count": 190,
   "metadata": {},
   "outputs": [],
   "source": [
    "friendship_1_path = friendship_networks_file_names[0]"
   ]
  },
  {
   "cell_type": "code",
   "execution_count": 191,
   "metadata": {},
   "outputs": [],
   "source": [
    "friendship_1 = ig.Graph.Read_GML(gml_cleaner(friendship_1_path))"
   ]
  },
  {
   "cell_type": "code",
   "execution_count": 192,
   "metadata": {},
   "outputs": [
    {
     "data": {
      "text/plain": [
       "202"
      ]
     },
     "execution_count": 192,
     "metadata": {},
     "output_type": "execute_result"
    }
   ],
   "source": [
    "# get (size of) largest component in the good way\n",
    "largest_component = friendship_1.connected_components().giant() ; largest_component.vcount()"
   ]
  },
  {
   "cell_type": "code",
   "execution_count": 193,
   "metadata": {},
   "outputs": [
    {
     "data": {
      "text/plain": [
       "202"
      ]
     },
     "execution_count": 193,
     "metadata": {},
     "output_type": "execute_result"
    }
   ],
   "source": [
    "# get (size of) largest component like in the paper, same result as above but more complicated\n",
    "get_largest_component(friendship_1).vcount()"
   ]
  },
  {
   "cell_type": "code",
   "execution_count": 194,
   "metadata": {},
   "outputs": [
    {
     "data": {
      "text/plain": [
       "203"
      ]
     },
     "execution_count": 194,
     "metadata": {},
     "output_type": "execute_result"
    }
   ],
   "source": [
    "n_nodes = friendship_1.vcount() ; n_nodes"
   ]
  },
  {
   "cell_type": "code",
   "execution_count": 195,
   "metadata": {},
   "outputs": [
    {
     "data": {
      "text/plain": [
       "0.02926401014485685"
      ]
     },
     "execution_count": 195,
     "metadata": {},
     "output_type": "execute_result"
    }
   ],
   "source": [
    "density = friendship_1.density() ; density"
   ]
  },
  {
   "cell_type": "code",
   "execution_count": 196,
   "metadata": {},
   "outputs": [
    {
     "data": {
      "text/plain": [
       "array([ 8, 11,  5, 15,  6, 16, 11,  4,  6, 15,  8, 11, 15,  3,  6,  7,  5,\n",
       "        3,  8,  5,  7,  7, 12,  7, 38,  3,  8, 11,  3,  6,  3,  4,  5,  9,\n",
       "        5, 12,  3,  6,  4,  9,  7,  4,  3,  6,  4,  5,  5,  4,  3,  2,  6,\n",
       "        6, 19,  6,  5,  5,  7,  8, 10,  9,  3, 13,  3,  9,  4,  1,  4,  4,\n",
       "        3,  3,  6,  3,  7, 17,  9,  8,  4,  3,  4,  5, 11,  8, 15,  8, 13,\n",
       "       17,  5,  8,  1,  7,  7,  8,  4,  5,  3,  4,  4,  9, 14, 10,  4,  4,\n",
       "        4,  1,  7,  5,  9,  2, 11, 14,  2,  4,  6,  4,  7,  3,  8,  8,  3,\n",
       "        4,  9,  6,  2, 10,  3,  3,  8,  3,  6, 17,  1,  6,  6,  6, 12,  3,\n",
       "        2,  1,  8,  3,  6,  4,  5,  4, 10,  3,  5,  5,  5,  1,  8,  4,  7,\n",
       "        5,  3,  5,  3,  7,  1,  3,  2,  6,  3,  6,  2,  3,  4,  1,  2,  1,\n",
       "        8,  3,  3,  2,  1,  2,  5,  7,  1,  5,  7,  4,  3,  5,  7,  4,  2,\n",
       "        9,  2,  5, 16,  4,  1,  2,  2,  1,  1,  2,  1,  3,  3,  1,  1])"
      ]
     },
     "execution_count": 196,
     "metadata": {},
     "output_type": "execute_result"
    }
   ],
   "source": [
    "degseq = np.array(friendship_1.degree()); degseq # get degrees "
   ]
  },
  {
   "cell_type": "code",
   "execution_count": 197,
   "metadata": {},
   "outputs": [
    {
     "data": {
      "text/plain": [
       "0.9950738916256158"
      ]
     },
     "execution_count": 197,
     "metadata": {},
     "output_type": "execute_result"
    }
   ],
   "source": [
    "# get fraction of largest connected component\n",
    "largest_component.vcount() / friendship_1.vcount()"
   ]
  },
  {
   "cell_type": "code",
   "execution_count": 198,
   "metadata": {},
   "outputs": [
    {
     "data": {
      "text/plain": [
       "5.911330049261084"
      ]
     },
     "execution_count": 198,
     "metadata": {},
     "output_type": "execute_result"
    }
   ],
   "source": [
    "dbar = degseq.mean() ; dbar # get average degree"
   ]
  },
  {
   "cell_type": "code",
   "execution_count": 199,
   "metadata": {},
   "outputs": [
    {
     "data": {
      "text/plain": [
       "0.7396142012337694"
      ]
     },
     "execution_count": 199,
     "metadata": {},
     "output_type": "execute_result"
    }
   ],
   "source": [
    "dcv = degseq.std() / dbar ; dcv # get degree coefficient of variation"
   ]
  },
  {
   "cell_type": "code",
   "execution_count": 200,
   "metadata": {},
   "outputs": [
    {
     "data": {
      "text/plain": [
       "38"
      ]
     },
     "execution_count": 200,
     "metadata": {},
     "output_type": "execute_result"
    }
   ],
   "source": [
    "dmax = degseq.max() ; dmax # get maximum degree"
   ]
  },
  {
   "cell_type": "code",
   "execution_count": 201,
   "metadata": {},
   "outputs": [
    {
     "data": {
      "text/plain": [
       "False"
      ]
     },
     "execution_count": 201,
     "metadata": {},
     "output_type": "execute_result"
    }
   ],
   "source": [
    "friendship_1.is_directed()"
   ]
  },
  {
   "cell_type": "code",
   "execution_count": 202,
   "metadata": {},
   "outputs": [],
   "source": [
    "net = pd.DataFrame({\n",
    "        \"graph\":      [friendship_1],\n",
    "        \"n_nodes\":    friendship_1.vcount(),\n",
    "        \"frac_total\": largest_component.vcount() / friendship_1.vcount(),\n",
    "        \"density\":    friendship_1.density(),\n",
    "        \"dbar\":       degseq.mean(),\n",
    "        \"dcv\":        degseq.std() / degseq.mean(),\n",
    "        \"dmax\":       degseq.max()\n",
    "    }, index=[0])"
   ]
  },
  {
   "cell_type": "code",
   "execution_count": 203,
   "metadata": {},
   "outputs": [
    {
     "data": {
      "text/html": [
       "<div>\n",
       "<style scoped>\n",
       "    .dataframe tbody tr th:only-of-type {\n",
       "        vertical-align: middle;\n",
       "    }\n",
       "\n",
       "    .dataframe tbody tr th {\n",
       "        vertical-align: top;\n",
       "    }\n",
       "\n",
       "    .dataframe thead th {\n",
       "        text-align: right;\n",
       "    }\n",
       "</style>\n",
       "<table border=\"1\" class=\"dataframe\">\n",
       "  <thead>\n",
       "    <tr style=\"text-align: right;\">\n",
       "      <th></th>\n",
       "      <th>graph</th>\n",
       "      <th>n_nodes</th>\n",
       "      <th>frac_total</th>\n",
       "      <th>density</th>\n",
       "      <th>dbar</th>\n",
       "      <th>dcv</th>\n",
       "      <th>dmax</th>\n",
       "    </tr>\n",
       "  </thead>\n",
       "  <tbody>\n",
       "    <tr>\n",
       "      <th>0</th>\n",
       "      <td>IGRAPH U--- 203 600 --\\n+ attr: id (v), id (e)...</td>\n",
       "      <td>203</td>\n",
       "      <td>0.995074</td>\n",
       "      <td>0.029264</td>\n",
       "      <td>5.91133</td>\n",
       "      <td>0.739614</td>\n",
       "      <td>38</td>\n",
       "    </tr>\n",
       "  </tbody>\n",
       "</table>\n",
       "</div>"
      ],
      "text/plain": [
       "                                               graph  n_nodes  frac_total  \\\n",
       "0  IGRAPH U--- 203 600 --\\n+ attr: id (v), id (e)...      203    0.995074   \n",
       "\n",
       "    density     dbar       dcv  dmax  \n",
       "0  0.029264  5.91133  0.739614    38  "
      ]
     },
     "execution_count": 203,
     "metadata": {},
     "output_type": "execute_result"
    }
   ],
   "source": [
    "net"
   ]
  },
  {
   "cell_type": "code",
   "execution_count": 204,
   "metadata": {},
   "outputs": [
    {
     "data": {
      "text/plain": [
       "<pathcensus.nullmodels.ubcm.UBCM at 0x7fc35770b4c0>"
      ]
     },
     "execution_count": 204,
     "metadata": {},
     "output_type": "execute_result"
    }
   ],
   "source": [
    "# fit UBCM null model\n",
    "model = UBCM(friendship_1)\n",
    "model.fit()\n",
    "model.validate()\n"
   ]
  },
  {
   "cell_type": "code",
   "execution_count": 205,
   "metadata": {},
   "outputs": [],
   "source": [
    "infer = Inference(friendship_1, model, statistics)\n",
    "data, null = infer.init_comparison(n=N_SAMPLES)\n"
   ]
  },
  {
   "cell_type": "code",
   "execution_count": 206,
   "metadata": {},
   "outputs": [],
   "source": [
    "# Estimate fractions of significant nodes\n",
    "odf = pd.concat(data.pop(\"coefs\").tolist())\n",
    "ndf = pd.concat(null.pop(\"coefs\").tolist())\n"
   ]
  },
  {
   "cell_type": "code",
   "execution_count": 207,
   "metadata": {},
   "outputs": [
    {
     "data": {
      "text/html": [
       "<div>\n",
       "<style scoped>\n",
       "    .dataframe tbody tr th:only-of-type {\n",
       "        vertical-align: middle;\n",
       "    }\n",
       "\n",
       "    .dataframe tbody tr th {\n",
       "        vertical-align: top;\n",
       "    }\n",
       "\n",
       "    .dataframe thead th {\n",
       "        text-align: right;\n",
       "    }\n",
       "</style>\n",
       "<table border=\"1\" class=\"dataframe\">\n",
       "  <thead>\n",
       "    <tr style=\"text-align: right;\">\n",
       "      <th></th>\n",
       "      <th></th>\n",
       "      <th>sim</th>\n",
       "      <th>tclust</th>\n",
       "      <th>tclosure</th>\n",
       "      <th>comp</th>\n",
       "      <th>qclust</th>\n",
       "      <th>qclosure</th>\n",
       "    </tr>\n",
       "    <tr>\n",
       "      <th>i</th>\n",
       "      <th>di</th>\n",
       "      <th></th>\n",
       "      <th></th>\n",
       "      <th></th>\n",
       "      <th></th>\n",
       "      <th></th>\n",
       "      <th></th>\n",
       "    </tr>\n",
       "  </thead>\n",
       "  <tbody>\n",
       "    <tr>\n",
       "      <th>0</th>\n",
       "      <th>6.0</th>\n",
       "      <td>0.074074</td>\n",
       "      <td>0.166667</td>\n",
       "      <td>0.047619</td>\n",
       "      <td>0.018913</td>\n",
       "      <td>0.032258</td>\n",
       "      <td>0.013378</td>\n",
       "    </tr>\n",
       "    <tr>\n",
       "      <th>1</th>\n",
       "      <th>7.0</th>\n",
       "      <td>0.045977</td>\n",
       "      <td>0.047619</td>\n",
       "      <td>0.044444</td>\n",
       "      <td>0.020033</td>\n",
       "      <td>0.022388</td>\n",
       "      <td>0.018127</td>\n",
       "    </tr>\n",
       "    <tr>\n",
       "      <th>2</th>\n",
       "      <th>4.0</th>\n",
       "      <td>0.064516</td>\n",
       "      <td>0.100000</td>\n",
       "      <td>0.047619</td>\n",
       "      <td>0.051613</td>\n",
       "      <td>0.072289</td>\n",
       "      <td>0.040134</td>\n",
       "    </tr>\n",
       "    <tr>\n",
       "      <th>3</th>\n",
       "      <th>14.0</th>\n",
       "      <td>0.060453</td>\n",
       "      <td>0.044118</td>\n",
       "      <td>0.096000</td>\n",
       "      <td>0.064362</td>\n",
       "      <td>0.047284</td>\n",
       "      <td>0.100750</td>\n",
       "    </tr>\n",
       "    <tr>\n",
       "      <th>4</th>\n",
       "      <th>6.0</th>\n",
       "      <td>0.000000</td>\n",
       "      <td>0.000000</td>\n",
       "      <td>0.000000</td>\n",
       "      <td>0.026316</td>\n",
       "      <td>0.153846</td>\n",
       "      <td>0.014388</td>\n",
       "    </tr>\n",
       "    <tr>\n",
       "      <th>...</th>\n",
       "      <th>...</th>\n",
       "      <td>...</td>\n",
       "      <td>...</td>\n",
       "      <td>...</td>\n",
       "      <td>...</td>\n",
       "      <td>...</td>\n",
       "      <td>...</td>\n",
       "    </tr>\n",
       "    <tr>\n",
       "      <th>198</th>\n",
       "      <th>1.0</th>\n",
       "      <td>0.000000</td>\n",
       "      <td>NaN</td>\n",
       "      <td>0.000000</td>\n",
       "      <td>0.000000</td>\n",
       "      <td>NaN</td>\n",
       "      <td>0.000000</td>\n",
       "    </tr>\n",
       "    <tr>\n",
       "      <th>199</th>\n",
       "      <th>2.0</th>\n",
       "      <td>0.000000</td>\n",
       "      <td>0.000000</td>\n",
       "      <td>0.000000</td>\n",
       "      <td>0.028369</td>\n",
       "      <td>0.153846</td>\n",
       "      <td>0.015625</td>\n",
       "    </tr>\n",
       "    <tr>\n",
       "      <th>200</th>\n",
       "      <th>3.0</th>\n",
       "      <td>0.000000</td>\n",
       "      <td>0.000000</td>\n",
       "      <td>0.000000</td>\n",
       "      <td>0.015810</td>\n",
       "      <td>0.041667</td>\n",
       "      <td>0.009756</td>\n",
       "    </tr>\n",
       "    <tr>\n",
       "      <th>201</th>\n",
       "      <th>1.0</th>\n",
       "      <td>NaN</td>\n",
       "      <td>NaN</td>\n",
       "      <td>NaN</td>\n",
       "      <td>NaN</td>\n",
       "      <td>NaN</td>\n",
       "      <td>NaN</td>\n",
       "    </tr>\n",
       "    <tr>\n",
       "      <th>202</th>\n",
       "      <th>1.0</th>\n",
       "      <td>NaN</td>\n",
       "      <td>NaN</td>\n",
       "      <td>NaN</td>\n",
       "      <td>NaN</td>\n",
       "      <td>NaN</td>\n",
       "      <td>NaN</td>\n",
       "    </tr>\n",
       "  </tbody>\n",
       "</table>\n",
       "<p>40600 rows × 6 columns</p>\n",
       "</div>"
      ],
      "text/plain": [
       "               sim    tclust  tclosure      comp    qclust  qclosure\n",
       "i   di                                                              \n",
       "0   6.0   0.074074  0.166667  0.047619  0.018913  0.032258  0.013378\n",
       "1   7.0   0.045977  0.047619  0.044444  0.020033  0.022388  0.018127\n",
       "2   4.0   0.064516  0.100000  0.047619  0.051613  0.072289  0.040134\n",
       "3   14.0  0.060453  0.044118  0.096000  0.064362  0.047284  0.100750\n",
       "4   6.0   0.000000  0.000000  0.000000  0.026316  0.153846  0.014388\n",
       "...            ...       ...       ...       ...       ...       ...\n",
       "198 1.0   0.000000       NaN  0.000000  0.000000       NaN  0.000000\n",
       "199 2.0   0.000000  0.000000  0.000000  0.028369  0.153846  0.015625\n",
       "200 3.0   0.000000  0.000000  0.000000  0.015810  0.041667  0.009756\n",
       "201 1.0        NaN       NaN       NaN       NaN       NaN       NaN\n",
       "202 1.0        NaN       NaN       NaN       NaN       NaN       NaN\n",
       "\n",
       "[40600 rows x 6 columns]"
      ]
     },
     "execution_count": 207,
     "metadata": {},
     "output_type": "execute_result"
    }
   ],
   "source": [
    "infer.add_stats_index(odf)\n",
    "infer.add_stats_index(ndf)"
   ]
  },
  {
   "cell_type": "code",
   "execution_count": 208,
   "metadata": {},
   "outputs": [],
   "source": [
    "odf = pd.concat([odf], keys=[0], names=[\"_\"])\n",
    "ndf = pd.concat([ndf], keys=[0], names=[\"_\"])"
   ]
  },
  {
   "cell_type": "code",
   "execution_count": 209,
   "metadata": {},
   "outputs": [
    {
     "data": {
      "text/html": [
       "<div>\n",
       "<style scoped>\n",
       "    .dataframe tbody tr th:only-of-type {\n",
       "        vertical-align: middle;\n",
       "    }\n",
       "\n",
       "    .dataframe tbody tr th {\n",
       "        vertical-align: top;\n",
       "    }\n",
       "\n",
       "    .dataframe thead th {\n",
       "        text-align: right;\n",
       "    }\n",
       "</style>\n",
       "<table border=\"1\" class=\"dataframe\">\n",
       "  <thead>\n",
       "    <tr style=\"text-align: right;\">\n",
       "      <th></th>\n",
       "      <th></th>\n",
       "      <th></th>\n",
       "      <th>sim</th>\n",
       "      <th>tclust</th>\n",
       "      <th>tclosure</th>\n",
       "      <th>comp</th>\n",
       "      <th>qclust</th>\n",
       "      <th>qclosure</th>\n",
       "    </tr>\n",
       "    <tr>\n",
       "      <th>_</th>\n",
       "      <th>i</th>\n",
       "      <th>di</th>\n",
       "      <th></th>\n",
       "      <th></th>\n",
       "      <th></th>\n",
       "      <th></th>\n",
       "      <th></th>\n",
       "      <th></th>\n",
       "    </tr>\n",
       "  </thead>\n",
       "  <tbody>\n",
       "    <tr>\n",
       "      <th rowspan=\"11\" valign=\"top\">0</th>\n",
       "      <th>0</th>\n",
       "      <th>6.0</th>\n",
       "      <td>0.246914</td>\n",
       "      <td>0.333333</td>\n",
       "      <td>0.196078</td>\n",
       "      <td>0.043143</td>\n",
       "      <td>0.057143</td>\n",
       "      <td>0.034653</td>\n",
       "    </tr>\n",
       "    <tr>\n",
       "      <th>1</th>\n",
       "      <th>7.0</th>\n",
       "      <td>0.156863</td>\n",
       "      <td>0.190476</td>\n",
       "      <td>0.133333</td>\n",
       "      <td>0.039360</td>\n",
       "      <td>0.045455</td>\n",
       "      <td>0.034707</td>\n",
       "    </tr>\n",
       "    <tr>\n",
       "      <th>2</th>\n",
       "      <th>4.0</th>\n",
       "      <td>0.195122</td>\n",
       "      <td>0.333333</td>\n",
       "      <td>0.137931</td>\n",
       "      <td>0.000000</td>\n",
       "      <td>0.000000</td>\n",
       "      <td>0.000000</td>\n",
       "    </tr>\n",
       "    <tr>\n",
       "      <th>3</th>\n",
       "      <th>14.0</th>\n",
       "      <td>0.136054</td>\n",
       "      <td>0.109890</td>\n",
       "      <td>0.178571</td>\n",
       "      <td>0.035614</td>\n",
       "      <td>0.026462</td>\n",
       "      <td>0.054441</td>\n",
       "    </tr>\n",
       "    <tr>\n",
       "      <th>4</th>\n",
       "      <th>6.0</th>\n",
       "      <td>0.141176</td>\n",
       "      <td>0.200000</td>\n",
       "      <td>0.109091</td>\n",
       "      <td>0.018018</td>\n",
       "      <td>0.022305</td>\n",
       "      <td>0.015113</td>\n",
       "    </tr>\n",
       "    <tr>\n",
       "      <th>...</th>\n",
       "      <th>...</th>\n",
       "      <td>...</td>\n",
       "      <td>...</td>\n",
       "      <td>...</td>\n",
       "      <td>...</td>\n",
       "      <td>...</td>\n",
       "      <td>...</td>\n",
       "    </tr>\n",
       "    <tr>\n",
       "      <th>198</th>\n",
       "      <th>1.0</th>\n",
       "      <td>0.000000</td>\n",
       "      <td>NaN</td>\n",
       "      <td>0.000000</td>\n",
       "      <td>0.000000</td>\n",
       "      <td>NaN</td>\n",
       "      <td>0.000000</td>\n",
       "    </tr>\n",
       "    <tr>\n",
       "      <th>199</th>\n",
       "      <th>2.0</th>\n",
       "      <td>0.000000</td>\n",
       "      <td>0.000000</td>\n",
       "      <td>0.000000</td>\n",
       "      <td>0.000000</td>\n",
       "      <td>0.000000</td>\n",
       "      <td>0.000000</td>\n",
       "    </tr>\n",
       "    <tr>\n",
       "      <th>200</th>\n",
       "      <th>3.0</th>\n",
       "      <td>0.000000</td>\n",
       "      <td>0.000000</td>\n",
       "      <td>0.000000</td>\n",
       "      <td>0.000000</td>\n",
       "      <td>0.000000</td>\n",
       "      <td>0.000000</td>\n",
       "    </tr>\n",
       "    <tr>\n",
       "      <th>201</th>\n",
       "      <th>1.0</th>\n",
       "      <td>0.000000</td>\n",
       "      <td>NaN</td>\n",
       "      <td>0.000000</td>\n",
       "      <td>0.000000</td>\n",
       "      <td>NaN</td>\n",
       "      <td>0.000000</td>\n",
       "    </tr>\n",
       "    <tr>\n",
       "      <th>202</th>\n",
       "      <th>1.0</th>\n",
       "      <td>0.000000</td>\n",
       "      <td>NaN</td>\n",
       "      <td>0.000000</td>\n",
       "      <td>0.000000</td>\n",
       "      <td>NaN</td>\n",
       "      <td>0.000000</td>\n",
       "    </tr>\n",
       "  </tbody>\n",
       "</table>\n",
       "<p>203 rows × 6 columns</p>\n",
       "</div>"
      ],
      "text/plain": [
       "                 sim    tclust  tclosure      comp    qclust  qclosure\n",
       "_ i   di                                                              \n",
       "0 0   6.0   0.246914  0.333333  0.196078  0.043143  0.057143  0.034653\n",
       "  1   7.0   0.156863  0.190476  0.133333  0.039360  0.045455  0.034707\n",
       "  2   4.0   0.195122  0.333333  0.137931  0.000000  0.000000  0.000000\n",
       "  3   14.0  0.136054  0.109890  0.178571  0.035614  0.026462  0.054441\n",
       "  4   6.0   0.141176  0.200000  0.109091  0.018018  0.022305  0.015113\n",
       "...              ...       ...       ...       ...       ...       ...\n",
       "  198 1.0   0.000000       NaN  0.000000  0.000000       NaN  0.000000\n",
       "  199 2.0   0.000000  0.000000  0.000000  0.000000  0.000000  0.000000\n",
       "  200 3.0   0.000000  0.000000  0.000000  0.000000  0.000000  0.000000\n",
       "  201 1.0   0.000000       NaN  0.000000  0.000000       NaN  0.000000\n",
       "  202 1.0   0.000000       NaN  0.000000  0.000000       NaN  0.000000\n",
       "\n",
       "[203 rows x 6 columns]"
      ]
     },
     "execution_count": 209,
     "metadata": {},
     "output_type": "execute_result"
    }
   ],
   "source": [
    "odf"
   ]
  },
  {
   "cell_type": "code",
   "execution_count": 210,
   "metadata": {},
   "outputs": [],
   "source": [
    "alpha = 0.01\n",
    "pvals = infer.estimate_pvalues(odf, ndf, alpha=alpha, adjust=True)\n",
    "sig   = (pvals <= alpha)[[\"sim\", \"comp\"]]"
   ]
  },
  {
   "cell_type": "code",
   "execution_count": 211,
   "metadata": {},
   "outputs": [],
   "source": [
    "sig[\"both\"] = sig.all(axis=1)\n",
    "sig = sig.mean().to_frame().T"
   ]
  },
  {
   "cell_type": "code",
   "execution_count": 212,
   "metadata": {},
   "outputs": [],
   "source": [
    "# Compute calibrated coefficients\n",
    "cdata = np.log(data / null).reset_index(drop=True) \\\n",
    "    .replace([np.inf, -np.inf], np.nan) \\\n",
    "    .dropna() \\\n",
    "    .mean() \\\n",
    "    .to_frame().T\n",
    "\n",
    "net[\"rawdata\"]     = [data]\n",
    "net[\"calibrated\"]  = [cdata]\n",
    "net[\"significant\"] = [sig]\n"
   ]
  },
  {
   "cell_type": "code",
   "execution_count": 213,
   "metadata": {},
   "outputs": [
    {
     "data": {
      "text/html": [
       "<div>\n",
       "<style scoped>\n",
       "    .dataframe tbody tr th:only-of-type {\n",
       "        vertical-align: middle;\n",
       "    }\n",
       "\n",
       "    .dataframe tbody tr th {\n",
       "        vertical-align: top;\n",
       "    }\n",
       "\n",
       "    .dataframe thead th {\n",
       "        text-align: right;\n",
       "    }\n",
       "</style>\n",
       "<table border=\"1\" class=\"dataframe\">\n",
       "  <thead>\n",
       "    <tr style=\"text-align: right;\">\n",
       "      <th></th>\n",
       "      <th>graph</th>\n",
       "      <th>n_nodes</th>\n",
       "      <th>frac_total</th>\n",
       "      <th>density</th>\n",
       "      <th>dbar</th>\n",
       "      <th>dcv</th>\n",
       "      <th>dmax</th>\n",
       "      <th>rawdata</th>\n",
       "      <th>calibrated</th>\n",
       "      <th>significant</th>\n",
       "    </tr>\n",
       "  </thead>\n",
       "  <tbody>\n",
       "    <tr>\n",
       "      <th>0</th>\n",
       "      <td>IGRAPH U--- 203 600 --\\n+ attr: id (v), id (e)...</td>\n",
       "      <td>203</td>\n",
       "      <td>0.995074</td>\n",
       "      <td>0.029264</td>\n",
       "      <td>5.91133</td>\n",
       "      <td>0.739614</td>\n",
       "      <td>38</td>\n",
       "      <td>sim_g       sim     sim_e    comp_g     ...</td>\n",
       "      <td>sim_g       sim     sim_e    comp_g     ...</td>\n",
       "      <td>sim      comp      both\n",
       "0  0.009852  0...</td>\n",
       "    </tr>\n",
       "  </tbody>\n",
       "</table>\n",
       "</div>"
      ],
      "text/plain": [
       "                                               graph  n_nodes  frac_total  \\\n",
       "0  IGRAPH U--- 203 600 --\\n+ attr: id (v), id (e)...      203    0.995074   \n",
       "\n",
       "    density     dbar       dcv  dmax  \\\n",
       "0  0.029264  5.91133  0.739614    38   \n",
       "\n",
       "                                             rawdata  \\\n",
       "0        sim_g       sim     sim_e    comp_g     ...   \n",
       "\n",
       "                                          calibrated  \\\n",
       "0        sim_g       sim     sim_e    comp_g     ...   \n",
       "\n",
       "                                         significant  \n",
       "0          sim      comp      both\n",
       "0  0.009852  0...  "
      ]
     },
     "execution_count": 213,
     "metadata": {},
     "output_type": "execute_result"
    }
   ],
   "source": [
    "net"
   ]
  },
  {
   "cell_type": "code",
   "execution_count": 214,
   "metadata": {},
   "outputs": [],
   "source": [
    "rawdata.append(net)"
   ]
  },
  {
   "cell_type": "code",
   "execution_count": 215,
   "metadata": {},
   "outputs": [
    {
     "data": {
      "text/plain": [
       "['/home/af/Projects/uzh-network-science-project/data/villages.pkl.gz']"
      ]
     },
     "execution_count": 215,
     "metadata": {},
     "output_type": "execute_result"
    }
   ],
   "source": [
    "villages = pd.concat(rawdata, axis=0, ignore_index=True)\n",
    "\n",
    "# Save data -------------------------------------------------------------------\n",
    "\n",
    "joblib.dump(villages, DATA_DIR_PATH / \"villages.pkl.gz\", compress=True)"
   ]
  },
  {
   "cell_type": "code",
   "execution_count": null,
   "metadata": {},
   "outputs": [],
   "source": []
  }
 ],
 "metadata": {
  "kernelspec": {
   "display_name": "Python 3.8.15 ('ns-project')",
   "language": "python",
   "name": "python3"
  },
  "language_info": {
   "codemirror_mode": {
    "name": "ipython",
    "version": 3
   },
   "file_extension": ".py",
   "mimetype": "text/x-python",
   "name": "python",
   "nbconvert_exporter": "python",
   "pygments_lexer": "ipython3",
   "version": "3.8.15"
  },
  "orig_nbformat": 4,
  "vscode": {
   "interpreter": {
    "hash": "92eeb2fd4dd9b582e38232a6a7b7054c4611accb0eebb75b041327f0c6d5f098"
   }
  }
 },
 "nbformat": 4,
 "nbformat_minor": 2
}
