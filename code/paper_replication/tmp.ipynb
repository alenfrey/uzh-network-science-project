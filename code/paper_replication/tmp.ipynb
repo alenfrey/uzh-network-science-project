{
 "cells": [
  {
   "cell_type": "code",
   "execution_count": 1,
   "metadata": {},
   "outputs": [],
   "source": [
    "import pandas as pd"
   ]
  },
  {
   "cell_type": "code",
   "execution_count": 2,
   "metadata": {},
   "outputs": [],
   "source": [
    "df = pd.read_csv(\"/home/af/Projects/scs-paper/analyses/2-social/data/ugandan_village (friendship-11).csv\")"
   ]
  },
  {
   "cell_type": "code",
   "execution_count": 3,
   "metadata": {},
   "outputs": [
    {
     "data": {
      "text/html": [
       "<div>\n",
       "<style scoped>\n",
       "    .dataframe tbody tr th:only-of-type {\n",
       "        vertical-align: middle;\n",
       "    }\n",
       "\n",
       "    .dataframe tbody tr th {\n",
       "        vertical-align: top;\n",
       "    }\n",
       "\n",
       "    .dataframe thead th {\n",
       "        text-align: right;\n",
       "    }\n",
       "</style>\n",
       "<table border=\"1\" class=\"dataframe\">\n",
       "  <thead>\n",
       "    <tr style=\"text-align: right;\">\n",
       "      <th></th>\n",
       "      <th>Unnamed: 0</th>\n",
       "      <th>dataset</th>\n",
       "      <th>name</th>\n",
       "      <th>domain</th>\n",
       "      <th>relation</th>\n",
       "      <th>desc</th>\n",
       "      <th>label</th>\n",
       "      <th>idx</th>\n",
       "      <th>graph</th>\n",
       "      <th>n_nodes</th>\n",
       "      <th>frac_total</th>\n",
       "      <th>density</th>\n",
       "      <th>dbar</th>\n",
       "      <th>dcv</th>\n",
       "      <th>dmax</th>\n",
       "      <th>rawdata</th>\n",
       "      <th>calibrated</th>\n",
       "      <th>significant</th>\n",
       "    </tr>\n",
       "  </thead>\n",
       "  <tbody>\n",
       "    <tr>\n",
       "      <th>0</th>\n",
       "      <td>0</td>\n",
       "      <td>ugandan_village</td>\n",
       "      <td>ugandan_village (friendship-11)</td>\n",
       "      <td>social</td>\n",
       "      <td>friendship</td>\n",
       "      <td>offline</td>\n",
       "      <td>Friendship (11)</td>\n",
       "      <td>11</td>\n",
       "      <td>IGRAPH UN-- 250 1063 -- ugandan_village (frien...</td>\n",
       "      <td>250</td>\n",
       "      <td>1.0</td>\n",
       "      <td>0.034153</td>\n",
       "      <td>8.504</td>\n",
       "      <td>0.700219</td>\n",
       "      <td>44</td>\n",
       "      <td>sim_g       sim     sim_e    comp_g     ...</td>\n",
       "      <td>sim_g       sim     sim_e    comp_g     ...</td>\n",
       "      <td>sim   comp  both\\n0  0.048  0.004   0.0</td>\n",
       "    </tr>\n",
       "  </tbody>\n",
       "</table>\n",
       "</div>"
      ],
      "text/plain": [
       "   Unnamed: 0          dataset                             name  domain  \\\n",
       "0           0  ugandan_village  ugandan_village (friendship-11)  social   \n",
       "\n",
       "     relation     desc            label  idx  \\\n",
       "0  friendship  offline  Friendship (11)   11   \n",
       "\n",
       "                                               graph  n_nodes  frac_total  \\\n",
       "0  IGRAPH UN-- 250 1063 -- ugandan_village (frien...      250         1.0   \n",
       "\n",
       "    density   dbar       dcv  dmax  \\\n",
       "0  0.034153  8.504  0.700219    44   \n",
       "\n",
       "                                             rawdata  \\\n",
       "0        sim_g       sim     sim_e    comp_g     ...   \n",
       "\n",
       "                                          calibrated  \\\n",
       "0        sim_g       sim     sim_e    comp_g     ...   \n",
       "\n",
       "                                    significant  \n",
       "0       sim   comp  both\\n0  0.048  0.004   0.0  "
      ]
     },
     "execution_count": 3,
     "metadata": {},
     "output_type": "execute_result"
    }
   ],
   "source": [
    "df"
   ]
  },
  {
   "cell_type": "code",
   "execution_count": null,
   "metadata": {},
   "outputs": [],
   "source": []
  }
 ],
 "metadata": {
  "kernelspec": {
   "display_name": "Python 3.8.15 ('ns-project')",
   "language": "python",
   "name": "python3"
  },
  "language_info": {
   "codemirror_mode": {
    "name": "ipython",
    "version": 3
   },
   "file_extension": ".py",
   "mimetype": "text/x-python",
   "name": "python",
   "nbconvert_exporter": "python",
   "pygments_lexer": "ipython3",
   "version": "3.8.15"
  },
  "orig_nbformat": 4,
  "vscode": {
   "interpreter": {
    "hash": "92eeb2fd4dd9b582e38232a6a7b7054c4611accb0eebb75b041327f0c6d5f098"
   }
  }
 },
 "nbformat": 4,
 "nbformat_minor": 2
}
