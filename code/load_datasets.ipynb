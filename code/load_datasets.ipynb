{
 "cells": [
  {
   "cell_type": "code",
   "execution_count": 1,
   "metadata": {},
   "outputs": [],
   "source": [
    "# reload imported files automatically without restarting the kernel\n",
    "%load_ext autoreload\n",
    "%autoreload 2"
   ]
  },
  {
   "cell_type": "code",
   "execution_count": 2,
   "metadata": {},
   "outputs": [],
   "source": [
    "from lib import *\n",
    "import networkx as nx\n",
    "from networkx.exception import NetworkXError\n",
    "import tempfile\n"
   ]
  },
  {
   "cell_type": "code",
   "execution_count": 3,
   "metadata": {},
   "outputs": [],
   "source": [
    "file_filter = lambda file: file.is_file()\n",
    "small_online_network_files = filter(file_filter, (DATA_DIR_PATH / \"online\" / \"small\").glob(\"**/*\"))\n",
    "medium_online_network_files = filter(file_filter, (DATA_DIR_PATH / \"online\" / \"medium\").glob(\"**/*\"))\n",
    "large_online_network_files = filter(file_filter, (DATA_DIR_PATH / \"online\" / \"small\").glob(\"**/*\"))\n"
   ]
  },
  {
   "cell_type": "code",
   "execution_count": 4,
   "metadata": {},
   "outputs": [
    {
     "name": "stdout",
     "output_type": "stream",
     "text": [
      "0 /home/af/Projects/uzh-network-science-project/data/online/medium/ego_social/gplus_103892332449873403244.gml\n",
      "1 /home/af/Projects/uzh-network-science-project/data/online/medium/ego_social/gplus_104290609881668164623.gml\n"
     ]
    },
    {
     "ename": "KeyboardInterrupt",
     "evalue": "",
     "output_type": "error",
     "traceback": [
      "\u001b[0;31m---------------------------------------------------------------------------\u001b[0m",
      "\u001b[0;31mKeyboardInterrupt\u001b[0m                         Traceback (most recent call last)",
      "Cell \u001b[0;32mIn[4], line 5\u001b[0m\n\u001b[1;32m      3\u001b[0m \u001b[39mtry\u001b[39;00m:\n\u001b[1;32m      4\u001b[0m     f \u001b[39m=\u001b[39m gml_cleaner(file)\n\u001b[0;32m----> 5\u001b[0m     g \u001b[39m=\u001b[39m nx\u001b[39m.\u001b[39;49mread_gml(f, label\u001b[39m=\u001b[39;49m\u001b[39m\"\u001b[39;49m\u001b[39mid\u001b[39;49m\u001b[39m\"\u001b[39;49m)\n\u001b[1;32m      6\u001b[0m \u001b[39mexcept\u001b[39;00m NetworkXError \u001b[39mas\u001b[39;00m e:\n\u001b[1;32m      7\u001b[0m     \u001b[39mprint\u001b[39m(e)\n",
      "File \u001b[0;32m<class 'networkx.utils.decorators.argmap'> compilation 5:5\u001b[0m, in \u001b[0;36margmap_read_gml_1\u001b[0;34m(path, label, destringizer)\u001b[0m\n\u001b[1;32m      3\u001b[0m \u001b[39mimport\u001b[39;00m \u001b[39mgzip\u001b[39;00m\n\u001b[1;32m      4\u001b[0m \u001b[39mimport\u001b[39;00m \u001b[39minspect\u001b[39;00m\n\u001b[0;32m----> 5\u001b[0m \u001b[39mimport\u001b[39;00m \u001b[39mitertools\u001b[39;00m\n\u001b[1;32m      6\u001b[0m \u001b[39mimport\u001b[39;00m \u001b[39mre\u001b[39;00m\n\u001b[1;32m      7\u001b[0m \u001b[39mfrom\u001b[39;00m \u001b[39mcollections\u001b[39;00m \u001b[39mimport\u001b[39;00m defaultdict\n",
      "File \u001b[0;32m~/Projects/uzh-network-science-project/venv/lib/python3.10/site-packages/networkx/readwrite/gml.py:195\u001b[0m, in \u001b[0;36mread_gml\u001b[0;34m(path, label, destringizer)\u001b[0m\n\u001b[1;32m    192\u001b[0m             line \u001b[39m=\u001b[39m line[:\u001b[39m-\u001b[39m\u001b[39m1\u001b[39m]\n\u001b[1;32m    193\u001b[0m         \u001b[39myield\u001b[39;00m line\n\u001b[0;32m--> 195\u001b[0m G \u001b[39m=\u001b[39m parse_gml_lines(filter_lines(path), label, destringizer)\n\u001b[1;32m    196\u001b[0m \u001b[39mreturn\u001b[39;00m G\n",
      "File \u001b[0;32m~/Projects/uzh-network-science-project/venv/lib/python3.10/site-packages/networkx/readwrite/gml.py:433\u001b[0m, in \u001b[0;36mparse_gml_lines\u001b[0;34m(lines, label, destringizer)\u001b[0m\n\u001b[1;32m    430\u001b[0m     \u001b[39mreturn\u001b[39;00m graph\n\u001b[1;32m    432\u001b[0m tokens \u001b[39m=\u001b[39m tokenize()\n\u001b[0;32m--> 433\u001b[0m graph \u001b[39m=\u001b[39m parse_graph()\n\u001b[1;32m    435\u001b[0m directed \u001b[39m=\u001b[39m graph\u001b[39m.\u001b[39mpop(\u001b[39m\"\u001b[39m\u001b[39mdirected\u001b[39m\u001b[39m\"\u001b[39m, \u001b[39mFalse\u001b[39;00m)\n\u001b[1;32m    436\u001b[0m multigraph \u001b[39m=\u001b[39m graph\u001b[39m.\u001b[39mpop(\u001b[39m\"\u001b[39m\u001b[39mmultigraph\u001b[39m\u001b[39m\"\u001b[39m, \u001b[39mFalse\u001b[39;00m)\n",
      "File \u001b[0;32m~/Projects/uzh-network-science-project/venv/lib/python3.10/site-packages/networkx/readwrite/gml.py:422\u001b[0m, in \u001b[0;36mparse_gml_lines.<locals>.parse_graph\u001b[0;34m()\u001b[0m\n\u001b[1;32m    421\u001b[0m \u001b[39mdef\u001b[39;00m \u001b[39mparse_graph\u001b[39m():\n\u001b[0;32m--> 422\u001b[0m     curr_token, dct \u001b[39m=\u001b[39m parse_kv(\u001b[39mnext\u001b[39;49m(tokens))\n\u001b[1;32m    423\u001b[0m     \u001b[39mif\u001b[39;00m curr_token\u001b[39m.\u001b[39mcategory \u001b[39mis\u001b[39;00m \u001b[39mnot\u001b[39;00m \u001b[39mNone\u001b[39;00m:  \u001b[39m# EOF\u001b[39;00m\n\u001b[1;32m    424\u001b[0m         unexpected(curr_token, \u001b[39m\"\u001b[39m\u001b[39mEOF\u001b[39m\u001b[39m\"\u001b[39m)\n",
      "File \u001b[0;32m~/Projects/uzh-network-science-project/venv/lib/python3.10/site-packages/networkx/readwrite/gml.py:368\u001b[0m, in \u001b[0;36mparse_gml_lines.<locals>.parse_kv\u001b[0;34m(curr_token)\u001b[0m\n\u001b[1;32m    366\u001b[0m     curr_token \u001b[39m=\u001b[39m \u001b[39mnext\u001b[39m(tokens)\n\u001b[1;32m    367\u001b[0m \u001b[39melif\u001b[39;00m category \u001b[39m==\u001b[39m Pattern\u001b[39m.\u001b[39mDICT_START:\n\u001b[0;32m--> 368\u001b[0m     curr_token, value \u001b[39m=\u001b[39m parse_dict(curr_token)\n\u001b[1;32m    369\u001b[0m \u001b[39melse\u001b[39;00m:\n\u001b[1;32m    370\u001b[0m     \u001b[39m# Allow for string convertible id and label values\u001b[39;00m\n\u001b[1;32m    371\u001b[0m     \u001b[39mif\u001b[39;00m key \u001b[39min\u001b[39;00m (\u001b[39m\"\u001b[39m\u001b[39mid\u001b[39m\u001b[39m\"\u001b[39m, \u001b[39m\"\u001b[39m\u001b[39mlabel\u001b[39m\u001b[39m\"\u001b[39m, \u001b[39m\"\u001b[39m\u001b[39msource\u001b[39m\u001b[39m\"\u001b[39m, \u001b[39m\"\u001b[39m\u001b[39mtarget\u001b[39m\u001b[39m\"\u001b[39m):\n",
      "File \u001b[0;32m~/Projects/uzh-network-science-project/venv/lib/python3.10/site-packages/networkx/readwrite/gml.py:416\u001b[0m, in \u001b[0;36mparse_gml_lines.<locals>.parse_dict\u001b[0;34m(curr_token)\u001b[0m\n\u001b[1;32m    414\u001b[0m curr_token \u001b[39m=\u001b[39m consume(curr_token, Pattern\u001b[39m.\u001b[39mDICT_START, \u001b[39m\"\u001b[39m\u001b[39m'\u001b[39m\u001b[39m[\u001b[39m\u001b[39m'\u001b[39m\u001b[39m\"\u001b[39m)\n\u001b[1;32m    415\u001b[0m \u001b[39m# dict contents\u001b[39;00m\n\u001b[0;32m--> 416\u001b[0m curr_token, dct \u001b[39m=\u001b[39m parse_kv(curr_token)\n\u001b[1;32m    417\u001b[0m \u001b[39m# dict end\u001b[39;00m\n\u001b[1;32m    418\u001b[0m curr_token \u001b[39m=\u001b[39m consume(curr_token, Pattern\u001b[39m.\u001b[39mDICT_END, \u001b[39m\"\u001b[39m\u001b[39m'\u001b[39m\u001b[39m]\u001b[39m\u001b[39m'\u001b[39m\u001b[39m\"\u001b[39m)\n",
      "File \u001b[0;32m~/Projects/uzh-network-science-project/venv/lib/python3.10/site-packages/networkx/readwrite/gml.py:368\u001b[0m, in \u001b[0;36mparse_gml_lines.<locals>.parse_kv\u001b[0;34m(curr_token)\u001b[0m\n\u001b[1;32m    366\u001b[0m     curr_token \u001b[39m=\u001b[39m \u001b[39mnext\u001b[39m(tokens)\n\u001b[1;32m    367\u001b[0m \u001b[39melif\u001b[39;00m category \u001b[39m==\u001b[39m Pattern\u001b[39m.\u001b[39mDICT_START:\n\u001b[0;32m--> 368\u001b[0m     curr_token, value \u001b[39m=\u001b[39m parse_dict(curr_token)\n\u001b[1;32m    369\u001b[0m \u001b[39melse\u001b[39;00m:\n\u001b[1;32m    370\u001b[0m     \u001b[39m# Allow for string convertible id and label values\u001b[39;00m\n\u001b[1;32m    371\u001b[0m     \u001b[39mif\u001b[39;00m key \u001b[39min\u001b[39;00m (\u001b[39m\"\u001b[39m\u001b[39mid\u001b[39m\u001b[39m\"\u001b[39m, \u001b[39m\"\u001b[39m\u001b[39mlabel\u001b[39m\u001b[39m\"\u001b[39m, \u001b[39m\"\u001b[39m\u001b[39msource\u001b[39m\u001b[39m\"\u001b[39m, \u001b[39m\"\u001b[39m\u001b[39mtarget\u001b[39m\u001b[39m\"\u001b[39m):\n",
      "File \u001b[0;32m~/Projects/uzh-network-science-project/venv/lib/python3.10/site-packages/networkx/readwrite/gml.py:416\u001b[0m, in \u001b[0;36mparse_gml_lines.<locals>.parse_dict\u001b[0;34m(curr_token)\u001b[0m\n\u001b[1;32m    414\u001b[0m curr_token \u001b[39m=\u001b[39m consume(curr_token, Pattern\u001b[39m.\u001b[39mDICT_START, \u001b[39m\"\u001b[39m\u001b[39m'\u001b[39m\u001b[39m[\u001b[39m\u001b[39m'\u001b[39m\u001b[39m\"\u001b[39m)\n\u001b[1;32m    415\u001b[0m \u001b[39m# dict contents\u001b[39;00m\n\u001b[0;32m--> 416\u001b[0m curr_token, dct \u001b[39m=\u001b[39m parse_kv(curr_token)\n\u001b[1;32m    417\u001b[0m \u001b[39m# dict end\u001b[39;00m\n\u001b[1;32m    418\u001b[0m curr_token \u001b[39m=\u001b[39m consume(curr_token, Pattern\u001b[39m.\u001b[39mDICT_END, \u001b[39m\"\u001b[39m\u001b[39m'\u001b[39m\u001b[39m]\u001b[39m\u001b[39m'\u001b[39m\u001b[39m\"\u001b[39m)\n",
      "File \u001b[0;32m~/Projects/uzh-network-science-project/venv/lib/python3.10/site-packages/networkx/readwrite/gml.py:358\u001b[0m, in \u001b[0;36mparse_gml_lines.<locals>.parse_kv\u001b[0;34m(curr_token)\u001b[0m\n\u001b[1;32m    356\u001b[0m \u001b[39mif\u001b[39;00m category \u001b[39m==\u001b[39m Pattern\u001b[39m.\u001b[39mREALS \u001b[39mor\u001b[39;00m category \u001b[39m==\u001b[39m Pattern\u001b[39m.\u001b[39mINTS:\n\u001b[1;32m    357\u001b[0m     value \u001b[39m=\u001b[39m curr_token\u001b[39m.\u001b[39mvalue\n\u001b[0;32m--> 358\u001b[0m     curr_token \u001b[39m=\u001b[39m \u001b[39mnext\u001b[39;49m(tokens)\n\u001b[1;32m    359\u001b[0m \u001b[39melif\u001b[39;00m category \u001b[39m==\u001b[39m Pattern\u001b[39m.\u001b[39mSTRINGS:\n\u001b[1;32m    360\u001b[0m     value \u001b[39m=\u001b[39m unescape(curr_token\u001b[39m.\u001b[39mvalue[\u001b[39m1\u001b[39m:\u001b[39m-\u001b[39m\u001b[39m1\u001b[39m])\n",
      "File \u001b[0;32m~/Projects/uzh-network-science-project/venv/lib/python3.10/site-packages/networkx/readwrite/gml.py:322\u001b[0m, in \u001b[0;36mparse_gml_lines.<locals>.tokenize\u001b[0;34m()\u001b[0m\n\u001b[1;32m    320\u001b[0m     m \u001b[39m=\u001b[39m \u001b[39mf\u001b[39m\u001b[39m\"\u001b[39m\u001b[39mcannot tokenize \u001b[39m\u001b[39m{\u001b[39;00mline[pos:]\u001b[39m}\u001b[39;00m\u001b[39m at (\u001b[39m\u001b[39m{\u001b[39;00mlineno \u001b[39m+\u001b[39m \u001b[39m1\u001b[39m\u001b[39m}\u001b[39;00m\u001b[39m, \u001b[39m\u001b[39m{\u001b[39;00mpos \u001b[39m+\u001b[39m \u001b[39m1\u001b[39m\u001b[39m}\u001b[39;00m\u001b[39m)\u001b[39m\u001b[39m\"\u001b[39m\n\u001b[1;32m    321\u001b[0m     \u001b[39mraise\u001b[39;00m NetworkXError(m)\n\u001b[0;32m--> 322\u001b[0m \u001b[39mfor\u001b[39;00m i \u001b[39min\u001b[39;00m \u001b[39mrange\u001b[39m(\u001b[39mlen\u001b[39;49m(patterns)):\n\u001b[1;32m    323\u001b[0m     group \u001b[39m=\u001b[39m match\u001b[39m.\u001b[39mgroup(i \u001b[39m+\u001b[39m \u001b[39m1\u001b[39m)\n\u001b[1;32m    324\u001b[0m     \u001b[39mif\u001b[39;00m group \u001b[39mis\u001b[39;00m \u001b[39mnot\u001b[39;00m \u001b[39mNone\u001b[39;00m:\n",
      "\u001b[0;31mKeyboardInterrupt\u001b[0m: "
     ]
    }
   ],
   "source": [
    "for i, file in enumerate(list(medium_online_network_files)[:2]):\n",
    "    print(i, file)\n",
    "    try:\n",
    "        f = gml_cleaner(file)\n",
    "        g = nx.read_gml(f, label=\"id\")\n",
    "    except NetworkXError as e:\n",
    "        print(e)\n",
    "        print(\"Got a multigraph, skipping...\")\n",
    "        continue\n"
   ]
  },
  {
   "cell_type": "code",
   "execution_count": 11,
   "metadata": {},
   "outputs": [
    {
     "data": {
      "text/plain": [
       "<networkx.classes.graph.Graph at 0x7f06a9a05a30>"
      ]
     },
     "execution_count": 11,
     "metadata": {},
     "output_type": "execute_result"
    }
   ],
   "source": [
    "g"
   ]
  },
  {
   "cell_type": "code",
   "execution_count": 19,
   "metadata": {},
   "outputs": [],
   "source": [
    "#g = nx.Graph(g)"
   ]
  },
  {
   "cell_type": "code",
   "execution_count": 20,
   "metadata": {},
   "outputs": [
    {
     "data": {
      "text/plain": [
       "6410"
      ]
     },
     "execution_count": 20,
     "metadata": {},
     "output_type": "execute_result"
    }
   ],
   "source": [
    "nx.number_of_nodes(g)"
   ]
  },
  {
   "cell_type": "code",
   "execution_count": 21,
   "metadata": {},
   "outputs": [
    {
     "data": {
      "text/plain": [
       "-0.03850152209079841"
      ]
     },
     "execution_count": 21,
     "metadata": {},
     "output_type": "execute_result"
    }
   ],
   "source": [
    "nx.degree_assortativity_coefficient(g)"
   ]
  },
  {
   "cell_type": "code",
   "execution_count": 22,
   "metadata": {},
   "outputs": [
    {
     "data": {
      "text/plain": [
       "3.2377535101404056"
      ]
     },
     "execution_count": 22,
     "metadata": {},
     "output_type": "execute_result"
    }
   ],
   "source": [
    "average_degree(g)"
   ]
  },
  {
   "cell_type": "code",
   "execution_count": null,
   "metadata": {},
   "outputs": [],
   "source": []
  }
 ],
 "metadata": {
  "kernelspec": {
   "display_name": "Python 3.10.6 ('venv': venv)",
   "language": "python",
   "name": "python3"
  },
  "language_info": {
   "codemirror_mode": {
    "name": "ipython",
    "version": 3
   },
   "file_extension": ".py",
   "mimetype": "text/x-python",
   "name": "python",
   "nbconvert_exporter": "python",
   "pygments_lexer": "ipython3",
   "version": "3.10.6"
  },
  "orig_nbformat": 4,
  "vscode": {
   "interpreter": {
    "hash": "45e9e9119b36140a2a9bca0259b0a24ad8917ae126aa158bf5a8fa6cf8c03ef3"
   }
  }
 },
 "nbformat": 4,
 "nbformat_minor": 2
}
