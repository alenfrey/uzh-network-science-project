{
 "cells": [
  {
   "cell_type": "code",
   "execution_count": 16,
   "metadata": {},
   "outputs": [
    {
     "name": "stdout",
     "output_type": "stream",
     "text": [
      "The autoreload extension is already loaded. To reload it, use:\n",
      "  %reload_ext autoreload\n"
     ]
    }
   ],
   "source": [
    "# reload imported files automatically without restarting the kernel\n",
    "%load_ext autoreload\n",
    "%autoreload 2"
   ]
  },
  {
   "cell_type": "code",
   "execution_count": 89,
   "metadata": {},
   "outputs": [],
   "source": [
    "from lib import *\n",
    "from io import StringIO\n",
    "from io import BytesIO\n",
    "import networkx as nx\n",
    "import tempfile"
   ]
  },
  {
   "cell_type": "code",
   "execution_count": 42,
   "metadata": {},
   "outputs": [],
   "source": [
    "file_filter = lambda file: file.is_file()"
   ]
  },
  {
   "cell_type": "code",
   "execution_count": 108,
   "metadata": {},
   "outputs": [],
   "source": [
    "def gml_cleaner(gml_file_path):\n",
    "    \"\"\"\n",
    "    Cleans gml files from https://networks.skewed.de/\n",
    "    \"\"\"\n",
    "\n",
    "    def strip_filter(line):\n",
    "        return line.strip()\n",
    "        \n",
    "    def valid_gml_filter(line):\n",
    "        valid_content = \"[\" in line or \"]\" in line or \"id\" in line or \"source\" in line or \"target\" in line\n",
    "        valid_split = len(line.split()) < 3\n",
    "        return valid_content and valid_split\n",
    "\n",
    "\n",
    "    with open(gml_file_path) as gml_file:\n",
    "        lines = (line for line in gml_file)\n",
    "        valid_lines = (line for line in (filter(valid_gml_filter, lines)))\n",
    "        with open(DATA_DIR_PATH / \"test.txt\", \"w\") as output:\n",
    "            for valid_line in valid_lines:\n",
    "             output.write(valid_line)\n",
    "\n",
    "        output = BytesIO()\n",
    "        for valid_line in valid_lines:\n",
    "            output.write(bytes(valid_line, \"ascii\"))\n",
    "        output.seek(0)\n",
    "    return output\n",
    "\n",
    "    "
   ]
  },
  {
   "cell_type": "code",
   "execution_count": 109,
   "metadata": {},
   "outputs": [],
   "source": [
    "tmp = gml_cleaner(\"/home/af/Projects/uzh-network-science-project/data/online/small/ego_social/facebook_0.gml\")"
   ]
  },
  {
   "cell_type": "code",
   "execution_count": 112,
   "metadata": {},
   "outputs": [
    {
     "ename": "AttributeError",
     "evalue": "'memoryview' object has no attribute 'read'",
     "output_type": "error",
     "traceback": [
      "\u001b[0;31m---------------------------------------------------------------------------\u001b[0m",
      "\u001b[0;31mAttributeError\u001b[0m                            Traceback (most recent call last)",
      "Cell \u001b[0;32mIn[112], line 1\u001b[0m\n\u001b[0;32m----> 1\u001b[0m tmp\u001b[39m.\u001b[39;49mgetbuffer()\u001b[39m.\u001b[39;49mread()\n",
      "\u001b[0;31mAttributeError\u001b[0m: 'memoryview' object has no attribute 'read'"
     ]
    }
   ],
   "source": [
    "tmp.getbuffer().read()"
   ]
  },
  {
   "cell_type": "code",
   "execution_count": 111,
   "metadata": {},
   "outputs": [
    {
     "ename": "NetworkXError",
     "evalue": "input contains no graph",
     "output_type": "error",
     "traceback": [
      "\u001b[0;31m---------------------------------------------------------------------------\u001b[0m",
      "\u001b[0;31mNetworkXError\u001b[0m                             Traceback (most recent call last)",
      "Cell \u001b[0;32mIn[111], line 1\u001b[0m\n\u001b[0;32m----> 1\u001b[0m nx\u001b[39m.\u001b[39;49mread_gml(tmp\u001b[39m.\u001b[39;49mgetbuffer())\n",
      "File \u001b[0;32m<class 'networkx.utils.decorators.argmap'> compilation 10:5\u001b[0m, in \u001b[0;36margmap_read_gml_6\u001b[0;34m(path, label, destringizer)\u001b[0m\n\u001b[1;32m      3\u001b[0m \u001b[39mimport\u001b[39;00m \u001b[39mgzip\u001b[39;00m\n\u001b[1;32m      4\u001b[0m \u001b[39mimport\u001b[39;00m \u001b[39minspect\u001b[39;00m\n\u001b[0;32m----> 5\u001b[0m \u001b[39mimport\u001b[39;00m \u001b[39mitertools\u001b[39;00m\n\u001b[1;32m      6\u001b[0m \u001b[39mimport\u001b[39;00m \u001b[39mre\u001b[39;00m\n\u001b[1;32m      7\u001b[0m \u001b[39mfrom\u001b[39;00m \u001b[39mcollections\u001b[39;00m \u001b[39mimport\u001b[39;00m defaultdict\n",
      "File \u001b[0;32m~/miniconda3/envs/ns-project/lib/python3.8/site-packages/networkx/readwrite/gml.py:195\u001b[0m, in \u001b[0;36mread_gml\u001b[0;34m(path, label, destringizer)\u001b[0m\n\u001b[1;32m    192\u001b[0m             line \u001b[39m=\u001b[39m line[:\u001b[39m-\u001b[39m\u001b[39m1\u001b[39m]\n\u001b[1;32m    193\u001b[0m         \u001b[39myield\u001b[39;00m line\n\u001b[0;32m--> 195\u001b[0m G \u001b[39m=\u001b[39m parse_gml_lines(filter_lines(path), label, destringizer)\n\u001b[1;32m    196\u001b[0m \u001b[39mreturn\u001b[39;00m G\n",
      "File \u001b[0;32m~/miniconda3/envs/ns-project/lib/python3.8/site-packages/networkx/readwrite/gml.py:433\u001b[0m, in \u001b[0;36mparse_gml_lines\u001b[0;34m(lines, label, destringizer)\u001b[0m\n\u001b[1;32m    430\u001b[0m     \u001b[39mreturn\u001b[39;00m graph\n\u001b[1;32m    432\u001b[0m tokens \u001b[39m=\u001b[39m tokenize()\n\u001b[0;32m--> 433\u001b[0m graph \u001b[39m=\u001b[39m parse_graph()\n\u001b[1;32m    435\u001b[0m directed \u001b[39m=\u001b[39m graph\u001b[39m.\u001b[39mpop(\u001b[39m\"\u001b[39m\u001b[39mdirected\u001b[39m\u001b[39m\"\u001b[39m, \u001b[39mFalse\u001b[39;00m)\n\u001b[1;32m    436\u001b[0m multigraph \u001b[39m=\u001b[39m graph\u001b[39m.\u001b[39mpop(\u001b[39m\"\u001b[39m\u001b[39mmultigraph\u001b[39m\u001b[39m\"\u001b[39m, \u001b[39mFalse\u001b[39;00m)\n",
      "File \u001b[0;32m~/miniconda3/envs/ns-project/lib/python3.8/site-packages/networkx/readwrite/gml.py:426\u001b[0m, in \u001b[0;36mparse_gml_lines.<locals>.parse_graph\u001b[0;34m()\u001b[0m\n\u001b[1;32m    424\u001b[0m     unexpected(curr_token, \u001b[39m\"\u001b[39m\u001b[39mEOF\u001b[39m\u001b[39m\"\u001b[39m)\n\u001b[1;32m    425\u001b[0m \u001b[39mif\u001b[39;00m \u001b[39m\"\u001b[39m\u001b[39mgraph\u001b[39m\u001b[39m\"\u001b[39m \u001b[39mnot\u001b[39;00m \u001b[39min\u001b[39;00m dct:\n\u001b[0;32m--> 426\u001b[0m     \u001b[39mraise\u001b[39;00m NetworkXError(\u001b[39m\"\u001b[39m\u001b[39minput contains no graph\u001b[39m\u001b[39m\"\u001b[39m)\n\u001b[1;32m    427\u001b[0m graph \u001b[39m=\u001b[39m dct[\u001b[39m\"\u001b[39m\u001b[39mgraph\u001b[39m\u001b[39m\"\u001b[39m]\n\u001b[1;32m    428\u001b[0m \u001b[39mif\u001b[39;00m \u001b[39misinstance\u001b[39m(graph, \u001b[39mlist\u001b[39m):\n",
      "\u001b[0;31mNetworkXError\u001b[0m: input contains no graph"
     ]
    }
   ],
   "source": [
    "nx.read_gml(tmp.getbuffer())"
   ]
  },
  {
   "cell_type": "code",
   "execution_count": 98,
   "metadata": {},
   "outputs": [
    {
     "ename": "NetworkXError",
     "evalue": "input contains no graph",
     "output_type": "error",
     "traceback": [
      "\u001b[0;31m---------------------------------------------------------------------------\u001b[0m",
      "\u001b[0;31mNetworkXError\u001b[0m                             Traceback (most recent call last)",
      "Cell \u001b[0;32mIn[98], line 5\u001b[0m\n\u001b[1;32m      3\u001b[0m \u001b[39mfor\u001b[39;00m i, file \u001b[39min\u001b[39;00m \u001b[39menumerate\u001b[39m(\u001b[39mlist\u001b[39m(large_online_network_files)[:\u001b[39m2\u001b[39m]):\n\u001b[1;32m      4\u001b[0m     clean_gml \u001b[39m=\u001b[39m gml_cleaner(file)\n\u001b[0;32m----> 5\u001b[0m     g \u001b[39m=\u001b[39m nx\u001b[39m.\u001b[39;49mread_gml(clean_gml\u001b[39m.\u001b[39;49mgetvalue())\n",
      "File \u001b[0;32m<class 'networkx.utils.decorators.argmap'> compilation 10:5\u001b[0m, in \u001b[0;36margmap_read_gml_6\u001b[0;34m(path, label, destringizer)\u001b[0m\n\u001b[1;32m      3\u001b[0m \u001b[39mimport\u001b[39;00m \u001b[39mgzip\u001b[39;00m\n\u001b[1;32m      4\u001b[0m \u001b[39mimport\u001b[39;00m \u001b[39minspect\u001b[39;00m\n\u001b[0;32m----> 5\u001b[0m \u001b[39mimport\u001b[39;00m \u001b[39mitertools\u001b[39;00m\n\u001b[1;32m      6\u001b[0m \u001b[39mimport\u001b[39;00m \u001b[39mre\u001b[39;00m\n\u001b[1;32m      7\u001b[0m \u001b[39mfrom\u001b[39;00m \u001b[39mcollections\u001b[39;00m \u001b[39mimport\u001b[39;00m defaultdict\n",
      "File \u001b[0;32m~/miniconda3/envs/ns-project/lib/python3.8/site-packages/networkx/readwrite/gml.py:195\u001b[0m, in \u001b[0;36mread_gml\u001b[0;34m(path, label, destringizer)\u001b[0m\n\u001b[1;32m    192\u001b[0m             line \u001b[39m=\u001b[39m line[:\u001b[39m-\u001b[39m\u001b[39m1\u001b[39m]\n\u001b[1;32m    193\u001b[0m         \u001b[39myield\u001b[39;00m line\n\u001b[0;32m--> 195\u001b[0m G \u001b[39m=\u001b[39m parse_gml_lines(filter_lines(path), label, destringizer)\n\u001b[1;32m    196\u001b[0m \u001b[39mreturn\u001b[39;00m G\n",
      "File \u001b[0;32m~/miniconda3/envs/ns-project/lib/python3.8/site-packages/networkx/readwrite/gml.py:433\u001b[0m, in \u001b[0;36mparse_gml_lines\u001b[0;34m(lines, label, destringizer)\u001b[0m\n\u001b[1;32m    430\u001b[0m     \u001b[39mreturn\u001b[39;00m graph\n\u001b[1;32m    432\u001b[0m tokens \u001b[39m=\u001b[39m tokenize()\n\u001b[0;32m--> 433\u001b[0m graph \u001b[39m=\u001b[39m parse_graph()\n\u001b[1;32m    435\u001b[0m directed \u001b[39m=\u001b[39m graph\u001b[39m.\u001b[39mpop(\u001b[39m\"\u001b[39m\u001b[39mdirected\u001b[39m\u001b[39m\"\u001b[39m, \u001b[39mFalse\u001b[39;00m)\n\u001b[1;32m    436\u001b[0m multigraph \u001b[39m=\u001b[39m graph\u001b[39m.\u001b[39mpop(\u001b[39m\"\u001b[39m\u001b[39mmultigraph\u001b[39m\u001b[39m\"\u001b[39m, \u001b[39mFalse\u001b[39;00m)\n",
      "File \u001b[0;32m~/miniconda3/envs/ns-project/lib/python3.8/site-packages/networkx/readwrite/gml.py:426\u001b[0m, in \u001b[0;36mparse_gml_lines.<locals>.parse_graph\u001b[0;34m()\u001b[0m\n\u001b[1;32m    424\u001b[0m     unexpected(curr_token, \u001b[39m\"\u001b[39m\u001b[39mEOF\u001b[39m\u001b[39m\"\u001b[39m)\n\u001b[1;32m    425\u001b[0m \u001b[39mif\u001b[39;00m \u001b[39m\"\u001b[39m\u001b[39mgraph\u001b[39m\u001b[39m\"\u001b[39m \u001b[39mnot\u001b[39;00m \u001b[39min\u001b[39;00m dct:\n\u001b[0;32m--> 426\u001b[0m     \u001b[39mraise\u001b[39;00m NetworkXError(\u001b[39m\"\u001b[39m\u001b[39minput contains no graph\u001b[39m\u001b[39m\"\u001b[39m)\n\u001b[1;32m    427\u001b[0m graph \u001b[39m=\u001b[39m dct[\u001b[39m\"\u001b[39m\u001b[39mgraph\u001b[39m\u001b[39m\"\u001b[39m]\n\u001b[1;32m    428\u001b[0m \u001b[39mif\u001b[39;00m \u001b[39misinstance\u001b[39m(graph, \u001b[39mlist\u001b[39m):\n",
      "\u001b[0;31mNetworkXError\u001b[0m: input contains no graph"
     ]
    }
   ],
   "source": [
    "large_online_network_files = filter(file_filter, (DATA_DIR_PATH / \"online\" / \"large\").glob(\"**/*\"))\n",
    "\n",
    "for i, file in enumerate(list(large_online_network_files)[:2]):\n",
    "    clean_gml = gml_cleaner(file)\n",
    "    g = nx.read_gml(clean_gml.getvalue())\n"
   ]
  },
  {
   "cell_type": "code",
   "execution_count": null,
   "metadata": {},
   "outputs": [
    {
     "ename": "NameError",
     "evalue": "name 'g' is not defined",
     "output_type": "error",
     "traceback": [
      "\u001b[0;31m---------------------------------------------------------------------------\u001b[0m",
      "\u001b[0;31mNameError\u001b[0m                                 Traceback (most recent call last)",
      "Cell \u001b[0;32mIn[33], line 1\u001b[0m\n\u001b[0;32m----> 1\u001b[0m g\n",
      "\u001b[0;31mNameError\u001b[0m: name 'g' is not defined"
     ]
    }
   ],
   "source": [
    "g"
   ]
  },
  {
   "cell_type": "code",
   "execution_count": null,
   "metadata": {},
   "outputs": [],
   "source": []
  }
 ],
 "metadata": {
  "kernelspec": {
   "display_name": "Python 3.8.15 ('ns-project')",
   "language": "python",
   "name": "python3"
  },
  "language_info": {
   "codemirror_mode": {
    "name": "ipython",
    "version": 3
   },
   "file_extension": ".py",
   "mimetype": "text/x-python",
   "name": "python",
   "nbconvert_exporter": "python",
   "pygments_lexer": "ipython3",
   "version": "3.8.15"
  },
  "orig_nbformat": 4,
  "vscode": {
   "interpreter": {
    "hash": "92eeb2fd4dd9b582e38232a6a7b7054c4611accb0eebb75b041327f0c6d5f098"
   }
  }
 },
 "nbformat": 4,
 "nbformat_minor": 2
}
